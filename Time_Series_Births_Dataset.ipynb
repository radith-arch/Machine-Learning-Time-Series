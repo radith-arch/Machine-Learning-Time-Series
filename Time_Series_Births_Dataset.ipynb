{
  "nbformat": 4,
  "nbformat_minor": 0,
  "metadata": {
    "colab": {
      "name": "Time-Series Births Dataset.ipynb",
      "provenance": [],
      "collapsed_sections": []
    },
    "kernelspec": {
      "name": "python3",
      "display_name": "Python 3"
    }
  },
  "cells": [
    {
      "cell_type": "code",
      "metadata": {
        "id": "OWk34ntX7Sly",
        "outputId": "766f2223-5369-442a-ab79-aa540a9bba2a",
        "colab": {
          "base_uri": "https://localhost:8080/",
          "height": 71
        }
      },
      "source": [
        "import os\n",
        "import pandas as pd \n",
        "import matplotlib.pyplot as plt\n",
        "import seaborn as sb\n",
        "from datetime import datetime"
      ],
      "execution_count": null,
      "outputs": [
        {
          "output_type": "stream",
          "text": [
            "/usr/local/lib/python3.6/dist-packages/statsmodels/tools/_testing.py:19: FutureWarning: pandas.util.testing is deprecated. Use the functions in the public API at pandas.testing instead.\n",
            "  import pandas.util.testing as tm\n"
          ],
          "name": "stderr"
        }
      ]
    },
    {
      "cell_type": "code",
      "metadata": {
        "id": "en7RhA2Y7Xfi"
      },
      "source": [
        "def parser(x):\n",
        "  return datetime.strptime(x, '%Y-%m-%d')"
      ],
      "execution_count": null,
      "outputs": []
    },
    {
      "cell_type": "code",
      "metadata": {
        "id": "I3YKnJN1PkwZ",
        "outputId": "cc57e3bc-8c8b-446d-ecf4-fe5599173f5b",
        "colab": {
          "base_uri": "https://localhost:8080/",
          "height": 34
        }
      },
      "source": [
        "example = parser('1995-01-20')\n",
        "\n",
        "example"
      ],
      "execution_count": null,
      "outputs": [
        {
          "output_type": "execute_result",
          "data": {
            "text/plain": [
              "datetime.datetime(1995, 1, 20, 0, 0)"
            ]
          },
          "metadata": {
            "tags": []
          },
          "execution_count": 5
        }
      ]
    },
    {
      "cell_type": "code",
      "metadata": {
        "id": "Fy2kJ0mP7hG3"
      },
      "source": [
        "data = pd.read_csv('/content/drive/My Drive/Datasets/birth.csv', header=0, parse_dates=[0], index_col=0, squeeze=False, date_parser=parser)"
      ],
      "execution_count": null,
      "outputs": []
    },
    {
      "cell_type": "code",
      "metadata": {
        "id": "dOb_vg3y7ibU",
        "outputId": "c0f42df5-0a2f-45df-fcea-ac2e65259d47",
        "colab": {
          "base_uri": "https://localhost:8080/",
          "height": 235
        }
      },
      "source": [
        "data.head()"
      ],
      "execution_count": null,
      "outputs": [
        {
          "output_type": "execute_result",
          "data": {
            "text/html": [
              "<div>\n",
              "<style scoped>\n",
              "    .dataframe tbody tr th:only-of-type {\n",
              "        vertical-align: middle;\n",
              "    }\n",
              "\n",
              "    .dataframe tbody tr th {\n",
              "        vertical-align: top;\n",
              "    }\n",
              "\n",
              "    .dataframe thead th {\n",
              "        text-align: right;\n",
              "    }\n",
              "</style>\n",
              "<table border=\"1\" class=\"dataframe\">\n",
              "  <thead>\n",
              "    <tr style=\"text-align: right;\">\n",
              "      <th></th>\n",
              "      <th>Births</th>\n",
              "    </tr>\n",
              "    <tr>\n",
              "      <th>Date</th>\n",
              "      <th></th>\n",
              "    </tr>\n",
              "  </thead>\n",
              "  <tbody>\n",
              "    <tr>\n",
              "      <th>1959-01-01</th>\n",
              "      <td>35</td>\n",
              "    </tr>\n",
              "    <tr>\n",
              "      <th>1959-01-02</th>\n",
              "      <td>32</td>\n",
              "    </tr>\n",
              "    <tr>\n",
              "      <th>1959-01-03</th>\n",
              "      <td>30</td>\n",
              "    </tr>\n",
              "    <tr>\n",
              "      <th>1959-01-04</th>\n",
              "      <td>31</td>\n",
              "    </tr>\n",
              "    <tr>\n",
              "      <th>1959-01-05</th>\n",
              "      <td>44</td>\n",
              "    </tr>\n",
              "  </tbody>\n",
              "</table>\n",
              "</div>"
            ],
            "text/plain": [
              "            Births\n",
              "Date              \n",
              "1959-01-01      35\n",
              "1959-01-02      32\n",
              "1959-01-03      30\n",
              "1959-01-04      31\n",
              "1959-01-05      44"
            ]
          },
          "metadata": {
            "tags": []
          },
          "execution_count": 4
        }
      ]
    },
    {
      "cell_type": "code",
      "metadata": {
        "id": "7fnRyVvY7jvk",
        "outputId": "34f977cc-3234-4d6c-eab4-76bff0c36127",
        "colab": {
          "base_uri": "https://localhost:8080/",
          "height": 297
        }
      },
      "source": [
        "data.describe()"
      ],
      "execution_count": null,
      "outputs": [
        {
          "output_type": "execute_result",
          "data": {
            "text/html": [
              "<div>\n",
              "<style scoped>\n",
              "    .dataframe tbody tr th:only-of-type {\n",
              "        vertical-align: middle;\n",
              "    }\n",
              "\n",
              "    .dataframe tbody tr th {\n",
              "        vertical-align: top;\n",
              "    }\n",
              "\n",
              "    .dataframe thead th {\n",
              "        text-align: right;\n",
              "    }\n",
              "</style>\n",
              "<table border=\"1\" class=\"dataframe\">\n",
              "  <thead>\n",
              "    <tr style=\"text-align: right;\">\n",
              "      <th></th>\n",
              "      <th>Births</th>\n",
              "    </tr>\n",
              "  </thead>\n",
              "  <tbody>\n",
              "    <tr>\n",
              "      <th>count</th>\n",
              "      <td>365.000000</td>\n",
              "    </tr>\n",
              "    <tr>\n",
              "      <th>mean</th>\n",
              "      <td>41.980822</td>\n",
              "    </tr>\n",
              "    <tr>\n",
              "      <th>std</th>\n",
              "      <td>7.348257</td>\n",
              "    </tr>\n",
              "    <tr>\n",
              "      <th>min</th>\n",
              "      <td>23.000000</td>\n",
              "    </tr>\n",
              "    <tr>\n",
              "      <th>25%</th>\n",
              "      <td>37.000000</td>\n",
              "    </tr>\n",
              "    <tr>\n",
              "      <th>50%</th>\n",
              "      <td>42.000000</td>\n",
              "    </tr>\n",
              "    <tr>\n",
              "      <th>75%</th>\n",
              "      <td>46.000000</td>\n",
              "    </tr>\n",
              "    <tr>\n",
              "      <th>max</th>\n",
              "      <td>73.000000</td>\n",
              "    </tr>\n",
              "  </tbody>\n",
              "</table>\n",
              "</div>"
            ],
            "text/plain": [
              "           Births\n",
              "count  365.000000\n",
              "mean    41.980822\n",
              "std      7.348257\n",
              "min     23.000000\n",
              "25%     37.000000\n",
              "50%     42.000000\n",
              "75%     46.000000\n",
              "max     73.000000"
            ]
          },
          "metadata": {
            "tags": []
          },
          "execution_count": 8
        }
      ]
    },
    {
      "cell_type": "code",
      "metadata": {
        "id": "izmsh2lV7lEM",
        "outputId": "e756f91a-cfb6-4526-fd4c-93791eb84a86",
        "colab": {
          "base_uri": "https://localhost:8080/",
          "height": 291
        }
      },
      "source": [
        "data.plot()\n",
        "plt.show()"
      ],
      "execution_count": null,
      "outputs": [
        {
          "output_type": "display_data",
          "data": {
            "image/png": "[encoded data removed]",
            "text/plain": [
              "<Figure size 432x288 with 1 Axes>"
            ]
          },
          "metadata": {
            "tags": [],
            "needs_background": "light"
          }
        }
      ]
    },
    {
      "cell_type": "code",
      "metadata": {
        "id": "qP9V2cLo7nDO",
        "outputId": "4eac1271-e7a0-4b57-d3ba-12c6c9a8eab5",
        "colab": {
          "base_uri": "https://localhost:8080/",
          "height": 279
        }
      },
      "source": [
        "from pandas.plotting import lag_plot\n",
        "\n",
        "lag_plot(data)\n",
        "plt.show()"
      ],
      "execution_count": null,
      "outputs": [
        {
          "output_type": "display_data",
          "data": {
            "image/png": "[encoded data removed]",
            "text/plain": [
              "<Figure size 432x288 with 1 Axes>"
            ]
          },
          "metadata": {
            "tags": [],
            "needs_background": "light"
          }
        }
      ]
    },
    {
      "cell_type": "markdown",
      "metadata": {
        "id": "QNIP_7IT7rVc"
      },
      "source": [
        "Apakah ini problem regression ?"
      ]
    },
    {
      "cell_type": "code",
      "metadata": {
        "id": "y5Ukc5tP7o5F",
        "outputId": "29216be0-32fa-4b72-c238-beda03c55da0",
        "colab": {
          "base_uri": "https://localhost:8080/",
          "height": 119
        }
      },
      "source": [
        "dataframe = pd.DataFrame()\n",
        "dataframe['month'] = [data.index[i].month for i in range(len(data))]\n",
        "dataframe['day'] = [data.index[i].day for i in range(len(data))] \n",
        "dataframe['birth'] = data['Births'].values\n",
        "print(dataframe.head(5))"
      ],
      "execution_count": null,
      "outputs": [
        {
          "output_type": "stream",
          "text": [
            "   month  day  birth\n",
            "0      1    1     35\n",
            "1      1    2     32\n",
            "2      1    3     30\n",
            "3      1    4     31\n",
            "4      1    5     44\n"
          ],
          "name": "stdout"
        }
      ]
    },
    {
      "cell_type": "code",
      "metadata": {
        "id": "D_RWF3wd7qoc",
        "outputId": "eb8c99c3-71f4-48a8-d380-76837fe61808",
        "colab": {
          "base_uri": "https://localhost:8080/",
          "height": 281
        }
      },
      "source": [
        "data.hist()\n",
        "plt.show()"
      ],
      "execution_count": null,
      "outputs": [
        {
          "output_type": "display_data",
          "data": {
            "image/png": "[encoded data removed]",
            "text/plain": [
              "<Figure size 432x288 with 1 Axes>"
            ]
          },
          "metadata": {
            "tags": [],
            "needs_background": "light"
          }
        }
      ]
    },
    {
      "cell_type": "code",
      "metadata": {
        "id": "L1nPj3DT7vc-",
        "outputId": "9eafe9ee-603e-4124-a967-ea03df0500f8",
        "colab": {
          "base_uri": "https://localhost:8080/",
          "height": 265
        }
      },
      "source": [
        "data.plot(kind='kde')\n",
        "plt.show()"
      ],
      "execution_count": null,
      "outputs": [
        {
          "output_type": "display_data",
          "data": {
            "image/png": "[encoded data removed]",
            "text/plain": [
              "<Figure size 432x288 with 1 Axes>"
            ]
          },
          "metadata": {
            "tags": [],
            "needs_background": "light"
          }
        }
      ]
    },
    {
      "cell_type": "markdown",
      "metadata": {
        "id": "t0pPMITz8QXF"
      },
      "source": [
        "Box Plot"
      ]
    },
    {
      "cell_type": "code",
      "metadata": {
        "id": "Y4vHdP-M7w6N"
      },
      "source": [
        "# groups = data.groupby(pd.Grouper(freq='M'))\n",
        "# print(groups) \n",
        "# groups.head()\n",
        "# months = pd.DataFrame()\n",
        "# for name, group in groups:\n",
        "#   years[name.year] = group.values.flatten()\n",
        "# years.boxplot()\n",
        "# plt.show()"
      ],
      "execution_count": null,
      "outputs": []
    },
    {
      "cell_type": "code",
      "metadata": {
        "id": "Kepp4ZKy789N",
        "outputId": "82db0f15-edb7-4c5e-c963-106c04295076",
        "colab": {
          "base_uri": "https://localhost:8080/",
          "height": 265
        }
      },
      "source": [
        "one_year = data['1959']\n",
        "groups = one_year.groupby(pd.Grouper(freq='M'))\n",
        "months = pd.concat([pd.DataFrame(x[1].values) for x in groups], axis=1)\n",
        "months = pd.DataFrame(months)\n",
        "\n",
        "months.columns = range(1, 13)\n",
        "months.boxplot()\n",
        "plt.show()"
      ],
      "execution_count": null,
      "outputs": [
        {
          "output_type": "display_data",
          "data": {
            "image/png": "[encoded data removed]",
            "text/plain": [
              "<Figure size 432x288 with 1 Axes>"
            ]
          },
          "metadata": {
            "tags": [],
            "needs_background": "light"
          }
        }
      ]
    },
    {
      "cell_type": "code",
      "metadata": {
        "id": "9APH6TdF7-bP"
      },
      "source": [
        "values = data.values\n",
        "values = values.astype('float32')"
      ],
      "execution_count": null,
      "outputs": []
    },
    {
      "cell_type": "code",
      "metadata": {
        "id": "lkSAhgJ38A4M",
        "outputId": "e9648016-5928-4402-fb11-dbc4844a2b8f",
        "colab": {
          "base_uri": "https://localhost:8080/",
          "height": 281
        }
      },
      "source": [
        "from statsmodels.graphics.tsaplots import plot_acf\n",
        "\n",
        "plot_acf(data, lags=31, ax=plt.gca())\n",
        "plt.show()"
      ],
      "execution_count": null,
      "outputs": [
        {
          "output_type": "display_data",
          "data": {
            "image/png": "[encoded data removed]",
            "text/plain": [
              "<Figure size 432x288 with 1 Axes>"
            ]
          },
          "metadata": {
            "tags": [],
            "needs_background": "light"
          }
        }
      ]
    },
    {
      "cell_type": "code",
      "metadata": {
        "id": "az-HCasm8CVm"
      },
      "source": [
        "from statsmodels.tsa.ar_model import AR\n",
        "from sklearn.metrics import mean_squared_error\n",
        "from math import sqrt"
      ],
      "execution_count": null,
      "outputs": []
    },
    {
      "cell_type": "code",
      "metadata": {
        "id": "J8bo0Bj28EfP"
      },
      "source": [
        "train_size = int(len(values) * 0.80)\n",
        "train, test = values[0:train_size], values[train_size:]"
      ],
      "execution_count": null,
      "outputs": []
    },
    {
      "cell_type": "markdown",
      "metadata": {
        "id": "67bkIfMW8Kks"
      },
      "source": [
        "Auto Regression"
      ]
    },
    {
      "cell_type": "code",
      "metadata": {
        "id": "r0O3C0Lx8HEM",
        "outputId": "143ed609-29f6-4577-bc91-cd070cc7dc3b",
        "colab": {
          "base_uri": "https://localhost:8080/",
          "height": 1000
        }
      },
      "source": [
        "values = data.values\n",
        "train, test = values[:len(values)-7], values[len(values)-7:]\n",
        "\n",
        "print(len(values))\n",
        "print(values)\n",
        "print(len(values[1:len(values)-7]))\n",
        "print(len(values[len(values)-7:]))"
      ],
      "execution_count": null,
      "outputs": [
        {
          "output_type": "stream",
          "text": [
            "365\n",
            "[[35]\n",
            " [32]\n",
            " [30]\n",
            " [31]\n",
            " [44]\n",
            " [29]\n",
            " [45]\n",
            " [43]\n",
            " [38]\n",
            " [27]\n",
            " [38]\n",
            " [33]\n",
            " [55]\n",
            " [47]\n",
            " [45]\n",
            " [37]\n",
            " [50]\n",
            " [43]\n",
            " [41]\n",
            " [52]\n",
            " [34]\n",
            " [53]\n",
            " [39]\n",
            " [32]\n",
            " [37]\n",
            " [43]\n",
            " [39]\n",
            " [35]\n",
            " [44]\n",
            " [38]\n",
            " [24]\n",
            " [23]\n",
            " [31]\n",
            " [44]\n",
            " [38]\n",
            " [50]\n",
            " [38]\n",
            " [51]\n",
            " [31]\n",
            " [31]\n",
            " [51]\n",
            " [36]\n",
            " [45]\n",
            " [51]\n",
            " [34]\n",
            " [52]\n",
            " [47]\n",
            " [45]\n",
            " [46]\n",
            " [39]\n",
            " [48]\n",
            " [37]\n",
            " [35]\n",
            " [52]\n",
            " [42]\n",
            " [45]\n",
            " [39]\n",
            " [37]\n",
            " [30]\n",
            " [35]\n",
            " [28]\n",
            " [45]\n",
            " [34]\n",
            " [36]\n",
            " [50]\n",
            " [44]\n",
            " [39]\n",
            " [32]\n",
            " [39]\n",
            " [45]\n",
            " [43]\n",
            " [39]\n",
            " [31]\n",
            " [27]\n",
            " [30]\n",
            " [42]\n",
            " [46]\n",
            " [41]\n",
            " [36]\n",
            " [45]\n",
            " [46]\n",
            " [43]\n",
            " [38]\n",
            " [34]\n",
            " [35]\n",
            " [56]\n",
            " [36]\n",
            " [32]\n",
            " [50]\n",
            " [41]\n",
            " [39]\n",
            " [41]\n",
            " [47]\n",
            " [34]\n",
            " [36]\n",
            " [33]\n",
            " [35]\n",
            " [38]\n",
            " [38]\n",
            " [34]\n",
            " [53]\n",
            " [34]\n",
            " [34]\n",
            " [38]\n",
            " [35]\n",
            " [32]\n",
            " [42]\n",
            " [34]\n",
            " [46]\n",
            " [30]\n",
            " [46]\n",
            " [45]\n",
            " [54]\n",
            " [34]\n",
            " [37]\n",
            " [35]\n",
            " [40]\n",
            " [42]\n",
            " [58]\n",
            " [51]\n",
            " [32]\n",
            " [35]\n",
            " [38]\n",
            " [33]\n",
            " [39]\n",
            " [47]\n",
            " [38]\n",
            " [52]\n",
            " [30]\n",
            " [34]\n",
            " [40]\n",
            " [35]\n",
            " [42]\n",
            " [41]\n",
            " [42]\n",
            " [38]\n",
            " [24]\n",
            " [34]\n",
            " [43]\n",
            " [36]\n",
            " [55]\n",
            " [41]\n",
            " [45]\n",
            " [41]\n",
            " [37]\n",
            " [43]\n",
            " [39]\n",
            " [33]\n",
            " [43]\n",
            " [40]\n",
            " [38]\n",
            " [45]\n",
            " [46]\n",
            " [34]\n",
            " [35]\n",
            " [48]\n",
            " [51]\n",
            " [36]\n",
            " [33]\n",
            " [46]\n",
            " [42]\n",
            " [48]\n",
            " [34]\n",
            " [41]\n",
            " [35]\n",
            " [40]\n",
            " [34]\n",
            " [30]\n",
            " [36]\n",
            " [40]\n",
            " [39]\n",
            " [45]\n",
            " [38]\n",
            " [47]\n",
            " [33]\n",
            " [30]\n",
            " [42]\n",
            " [43]\n",
            " [41]\n",
            " [41]\n",
            " [59]\n",
            " [43]\n",
            " [45]\n",
            " [38]\n",
            " [37]\n",
            " [45]\n",
            " [42]\n",
            " [57]\n",
            " [46]\n",
            " [51]\n",
            " [41]\n",
            " [47]\n",
            " [26]\n",
            " [35]\n",
            " [44]\n",
            " [41]\n",
            " [42]\n",
            " [36]\n",
            " [45]\n",
            " [45]\n",
            " [45]\n",
            " [47]\n",
            " [38]\n",
            " [42]\n",
            " [35]\n",
            " [36]\n",
            " [39]\n",
            " [45]\n",
            " [43]\n",
            " [47]\n",
            " [36]\n",
            " [41]\n",
            " [50]\n",
            " [39]\n",
            " [41]\n",
            " [46]\n",
            " [64]\n",
            " [45]\n",
            " [34]\n",
            " [38]\n",
            " [44]\n",
            " [48]\n",
            " [46]\n",
            " [44]\n",
            " [37]\n",
            " [39]\n",
            " [44]\n",
            " [45]\n",
            " [33]\n",
            " [44]\n",
            " [38]\n",
            " [46]\n",
            " [46]\n",
            " [40]\n",
            " [39]\n",
            " [44]\n",
            " [48]\n",
            " [50]\n",
            " [41]\n",
            " [42]\n",
            " [51]\n",
            " [41]\n",
            " [44]\n",
            " [38]\n",
            " [68]\n",
            " [40]\n",
            " [42]\n",
            " [51]\n",
            " [44]\n",
            " [45]\n",
            " [36]\n",
            " [57]\n",
            " [44]\n",
            " [42]\n",
            " [53]\n",
            " [42]\n",
            " [34]\n",
            " [40]\n",
            " [56]\n",
            " [44]\n",
            " [53]\n",
            " [55]\n",
            " [39]\n",
            " [59]\n",
            " [55]\n",
            " [73]\n",
            " [55]\n",
            " [44]\n",
            " [43]\n",
            " [40]\n",
            " [47]\n",
            " [51]\n",
            " [56]\n",
            " [49]\n",
            " [54]\n",
            " [56]\n",
            " [47]\n",
            " [44]\n",
            " [43]\n",
            " [42]\n",
            " [45]\n",
            " [50]\n",
            " [48]\n",
            " [43]\n",
            " [40]\n",
            " [59]\n",
            " [41]\n",
            " [42]\n",
            " [51]\n",
            " [49]\n",
            " [45]\n",
            " [43]\n",
            " [42]\n",
            " [38]\n",
            " [47]\n",
            " [38]\n",
            " [36]\n",
            " [42]\n",
            " [35]\n",
            " [28]\n",
            " [44]\n",
            " [36]\n",
            " [45]\n",
            " [46]\n",
            " [48]\n",
            " [49]\n",
            " [43]\n",
            " [42]\n",
            " [59]\n",
            " [45]\n",
            " [52]\n",
            " [46]\n",
            " [42]\n",
            " [40]\n",
            " [40]\n",
            " [45]\n",
            " [35]\n",
            " [35]\n",
            " [40]\n",
            " [39]\n",
            " [33]\n",
            " [42]\n",
            " [47]\n",
            " [51]\n",
            " [44]\n",
            " [40]\n",
            " [57]\n",
            " [49]\n",
            " [45]\n",
            " [49]\n",
            " [51]\n",
            " [46]\n",
            " [44]\n",
            " [52]\n",
            " [45]\n",
            " [32]\n",
            " [46]\n",
            " [41]\n",
            " [34]\n",
            " [33]\n",
            " [36]\n",
            " [49]\n",
            " [43]\n",
            " [43]\n",
            " [34]\n",
            " [39]\n",
            " [35]\n",
            " [52]\n",
            " [47]\n",
            " [52]\n",
            " [39]\n",
            " [40]\n",
            " [42]\n",
            " [42]\n",
            " [53]\n",
            " [39]\n",
            " [40]\n",
            " [38]\n",
            " [44]\n",
            " [34]\n",
            " [37]\n",
            " [52]\n",
            " [48]\n",
            " [55]\n",
            " [50]]\n",
            "357\n",
            "7\n"
          ],
          "name": "stdout"
        }
      ]
    },
    {
      "cell_type": "code",
      "metadata": {
        "id": "V1QGGFHn8UHm",
        "outputId": "c620bae9-7e52-46ca-d2d2-df013247a82f",
        "colab": {
          "base_uri": "https://localhost:8080/",
          "height": 119
        }
      },
      "source": [
        "model = AR(train)\n",
        "model_fit = model.fit()\n",
        "print('Lag:', model_fit.k_ar)\n",
        "print('Coefficients:', model_fit.params)"
      ],
      "execution_count": null,
      "outputs": [
        {
          "output_type": "stream",
          "text": [
            "Lag: 16\n",
            "Coefficients: [ 1.40834899e+01  1.16441795e-01  5.12613263e-02  3.54577231e-02\n",
            "  1.80977385e-02  5.60358083e-02  1.41369807e-03  1.78015309e-01\n",
            "  9.58769206e-02  2.92531255e-02  4.63491359e-02  4.78140073e-02\n",
            " -5.17788161e-02 -1.09500477e-02  3.18553085e-02  1.66611025e-02\n",
            "  4.36548521e-03]\n"
          ],
          "name": "stdout"
        }
      ]
    },
    {
      "cell_type": "code",
      "metadata": {
        "id": "Ngl9-jwc8ViN",
        "outputId": "cfaf8453-ec81-47aa-f50e-251f3bb8ccf9",
        "colab": {
          "base_uri": "https://localhost:8080/",
          "height": 1000
        }
      },
      "source": [
        "predictions = model_fit.predict(start=len(train), end=len(train)+len(test)-1, dynamic=False) \n",
        "for i in range(len(predictions)):\n",
        "  print('predicted=%f, expected=%f' % (predictions[i], test[i])) \n",
        "  rmse = sqrt(mean_squared_error(test, predictions))\n",
        "\n",
        "print('Test RMSE: %.3f' % rmse)"
      ],
      "execution_count": null,
      "outputs": [
        {
          "output_type": "stream",
          "text": [
            "predicted=46.198545, expected=42.000000\n",
            "predicted=44.645072, expected=38.000000\n",
            "predicted=43.138759, expected=47.000000\n",
            "predicted=45.128313, expected=38.000000\n",
            "predicted=46.020917, expected=36.000000\n",
            "predicted=43.745163, expected=42.000000\n",
            "predicted=43.689959, expected=35.000000\n",
            "predicted=44.824939, expected=28.000000\n",
            "predicted=43.942789, expected=44.000000\n",
            "predicted=43.120369, expected=36.000000\n",
            "predicted=43.563091, expected=45.000000\n",
            "predicted=44.179916, expected=46.000000\n",
            "predicted=43.622227, expected=48.000000\n",
            "predicted=43.266505, expected=49.000000\n",
            "predicted=43.591838, expected=43.000000\n",
            "predicted=43.422438, expected=42.000000\n",
            "predicted=42.994816, expected=59.000000\n",
            "predicted=43.074740, expected=45.000000\n",
            "predicted=43.265644, expected=52.000000\n",
            "predicted=43.076884, expected=46.000000\n",
            "predicted=42.930670, expected=42.000000\n",
            "predicted=43.022778, expected=40.000000\n",
            "predicted=42.997569, expected=40.000000\n",
            "predicted=42.802837, expected=45.000000\n",
            "predicted=42.754197, expected=35.000000\n",
            "predicted=42.815666, expected=35.000000\n",
            "predicted=42.758538, expected=40.000000\n",
            "predicted=42.680500, expected=39.000000\n",
            "predicted=42.694362, expected=33.000000\n",
            "predicted=42.687522, expected=42.000000\n",
            "predicted=42.611037, expected=47.000000\n",
            "predicted=42.569322, expected=51.000000\n",
            "predicted=42.575101, expected=44.000000\n",
            "predicted=42.549884, expected=40.000000\n",
            "predicted=42.508208, expected=57.000000\n",
            "predicted=42.501088, expected=49.000000\n",
            "predicted=42.497751, expected=45.000000\n",
            "predicted=42.466242, expected=49.000000\n",
            "predicted=42.439324, expected=51.000000\n",
            "predicted=42.432058, expected=46.000000\n",
            "predicted=42.418298, expected=44.000000\n",
            "predicted=42.396376, expected=52.000000\n",
            "predicted=42.385802, expected=45.000000\n",
            "predicted=42.380557, expected=32.000000\n",
            "predicted=42.366325, expected=46.000000\n",
            "predicted=42.351223, expected=41.000000\n",
            "predicted=42.343407, expected=34.000000\n",
            "predicted=42.334882, expected=33.000000\n",
            "predicted=42.322727, expected=36.000000\n",
            "predicted=42.314146, expected=49.000000\n",
            "predicted=42.308971, expected=43.000000\n",
            "predicted=42.301445, expected=43.000000\n",
            "predicted=42.292941, expected=34.000000\n",
            "predicted=42.286997, expected=39.000000\n",
            "predicted=42.281502, expected=35.000000\n",
            "predicted=42.274655, expected=52.000000\n",
            "predicted=42.268788, expected=47.000000\n",
            "predicted=42.264595, expected=52.000000\n",
            "predicted=42.260044, expected=39.000000\n",
            "predicted=42.255071, expected=40.000000\n",
            "predicted=42.251028, expected=42.000000\n",
            "predicted=42.247443, expected=42.000000\n",
            "predicted=42.243442, expected=53.000000\n",
            "predicted=42.239687, expected=39.000000\n",
            "predicted=42.236673, expected=40.000000\n",
            "predicted=42.233763, expected=38.000000\n",
            "predicted=42.230745, expected=44.000000\n",
            "predicted=42.228086, expected=34.000000\n",
            "predicted=42.225733, expected=37.000000\n",
            "predicted=42.223313, expected=52.000000\n",
            "predicted=42.220968, expected=48.000000\n",
            "predicted=42.218940, expected=55.000000\n",
            "predicted=42.217051, expected=50.000000\n",
            "Test RMSE: 6.640\n"
          ],
          "name": "stdout"
        }
      ]
    },
    {
      "cell_type": "code",
      "metadata": {
        "id": "vkCtjG8P8Wvl",
        "outputId": "d8068047-c5f3-4db9-b9dd-a9a24c849c4a",
        "colab": {
          "base_uri": "https://localhost:8080/",
          "height": 266
        }
      },
      "source": [
        "plt.plot(test) \n",
        "plt.plot(predictions, color='red') \n",
        "plt.show()"
      ],
      "execution_count": null,
      "outputs": [
        {
          "output_type": "display_data",
          "data": {
            "image/png": "[encoded data removed]",
            "text/plain": [
              "<Figure size 432x288 with 1 Axes>"
            ]
          },
          "metadata": {
            "tags": [],
            "needs_background": "light"
          }
        }
      ]
    },
    {
      "cell_type": "markdown",
      "metadata": {
        "id": "Di37YQIr8b21"
      },
      "source": [
        "***No. 1 Plot dataset yang digunakan***"
      ]
    },
    {
      "cell_type": "code",
      "metadata": {
        "id": "eUpcxpFB8dbF",
        "outputId": "ecc6a5f5-3741-449a-bc49-f1b7ef07a2ed",
        "colab": {
          "base_uri": "https://localhost:8080/",
          "height": 283
        }
      },
      "source": [
        "pd.plotting.autocorrelation_plot(data)\n",
        "plt.show()"
      ],
      "execution_count": null,
      "outputs": [
        {
          "output_type": "display_data",
          "data": {
            "image/png": "[encoded data removed]",
            "text/plain": [
              "<Figure size 432x288 with 1 Axes>"
            ]
          },
          "metadata": {
            "tags": [],
            "needs_background": "light"
          }
        }
      ]
    },
    {
      "cell_type": "markdown",
      "metadata": {
        "id": "dWPt433U8ja2"
      },
      "source": [
        "Terdapat korelasi positif pada rentang angka 0-50, maka akan di coba dengan variable p = 10"
      ]
    },
    {
      "cell_type": "markdown",
      "metadata": {
        "id": "Q8LSjkQGz-87"
      },
      "source": [
        "***No.2***"
      ]
    },
    {
      "cell_type": "markdown",
      "metadata": {
        "id": "7V4L7pqifbHt"
      },
      "source": [
        "Pada dataset birth, terdapat trend. Karena data tidak berbentuk stationary, dan grafik output menunjukan kecenderungan terhadap waktu."
      ]
    },
    {
      "cell_type": "markdown",
      "metadata": {
        "id": "xQFtefjlN4P4"
      },
      "source": [
        "***No.3***"
      ]
    },
    {
      "cell_type": "markdown",
      "metadata": {
        "id": "jSOJpiHPd7Q9"
      },
      "source": [
        "**ARIMA MODEL**"
      ]
    },
    {
      "cell_type": "code",
      "metadata": {
        "id": "rDPLgbRwd7g4"
      },
      "source": [
        "from statsmodels.tsa.arima_model import ARIMA \n",
        "from sklearn.metrics import mean_squared_error\n",
        "from math import sqrt"
      ],
      "execution_count": null,
      "outputs": []
    },
    {
      "cell_type": "code",
      "metadata": {
        "id": "8aCKcY6Cfegu",
        "outputId": "b3fc9d9c-e4fe-4a18-b469-5a980f34f721",
        "colab": {
          "base_uri": "https://localhost:8080/",
          "height": 751
        }
      },
      "source": [
        "model = ARIMA(data, order=(10,1,0))\n",
        "model_fit = model.fit(disp=0)\n",
        "print(model_fit.summary())"
      ],
      "execution_count": null,
      "outputs": [
        {
          "output_type": "stream",
          "text": [
            "/usr/local/lib/python3.6/dist-packages/statsmodels/tsa/base/tsa_model.py:165: ValueWarning: No frequency information was provided, so inferred frequency D will be used.\n",
            "  % freq, ValueWarning)\n",
            "/usr/local/lib/python3.6/dist-packages/statsmodels/tsa/base/tsa_model.py:165: ValueWarning: No frequency information was provided, so inferred frequency D will be used.\n",
            "  % freq, ValueWarning)\n"
          ],
          "name": "stderr"
        },
        {
          "output_type": "stream",
          "text": [
            "                             ARIMA Model Results                              \n",
            "==============================================================================\n",
            "Dep. Variable:               D.Births   No. Observations:                  364\n",
            "Model:                ARIMA(10, 1, 0)   Log Likelihood               -1231.585\n",
            "Method:                       css-mle   S.D. of innovations              7.119\n",
            "Date:                Thu, 17 Sep 2020   AIC                           2487.170\n",
            "Time:                        11:04:11   BIC                           2533.936\n",
            "Sample:                    01-02-1959   HQIC                          2505.757\n",
            "                         - 12-31-1959                                         \n",
            "===================================================================================\n",
            "                      coef    std err          z      P>|z|      [0.025      0.975]\n",
            "-----------------------------------------------------------------------------------\n",
            "const               0.0327      0.077      0.422      0.673      -0.119       0.185\n",
            "ar.L1.D.Births     -0.7923      0.052    -15.134      0.000      -0.895      -0.690\n",
            "ar.L2.D.Births     -0.6647      0.067     -9.914      0.000      -0.796      -0.533\n",
            "ar.L3.D.Births     -0.5919      0.076     -7.803      0.000      -0.741      -0.443\n",
            "ar.L4.D.Births     -0.5273      0.082     -6.430      0.000      -0.688      -0.367\n",
            "ar.L5.D.Births     -0.4521      0.084     -5.359      0.000      -0.617      -0.287\n",
            "ar.L6.D.Births     -0.3929      0.084     -4.650      0.000      -0.558      -0.227\n",
            "ar.L7.D.Births     -0.1971      0.082     -2.398      0.017      -0.358      -0.036\n",
            "ar.L8.D.Births     -0.0960      0.076     -1.257      0.210      -0.246       0.054\n",
            "ar.L9.D.Births     -0.0865      0.068     -1.279      0.202      -0.219       0.046\n",
            "ar.L10.D.Births    -0.0557      0.053     -1.050      0.295      -0.160       0.048\n",
            "                                    Roots                                     \n",
            "==============================================================================\n",
            "                   Real          Imaginary           Modulus         Frequency\n",
            "------------------------------------------------------------------------------\n",
            "AR.1             0.9742           -0.8618j            1.3007           -0.1153\n",
            "AR.2             0.9742           +0.8618j            1.3007            0.1153\n",
            "AR.3             0.7300           -1.2091j            1.4124           -0.1635\n",
            "AR.4             0.7300           +1.2091j            1.4124            0.1635\n",
            "AR.5            -0.1770           -1.2099j            1.2228           -0.2731\n",
            "AR.6            -0.1770           +1.2099j            1.2228            0.2731\n",
            "AR.7            -0.9920           -0.9386j            1.3657           -0.3794\n",
            "AR.8            -0.9920           +0.9386j            1.3657            0.3794\n",
            "AR.9            -1.3119           -0.4321j            1.3812           -0.4494\n",
            "AR.10           -1.3119           +0.4321j            1.3812            0.4494\n",
            "------------------------------------------------------------------------------\n"
          ],
          "name": "stdout"
        }
      ]
    },
    {
      "cell_type": "code",
      "metadata": {
        "id": "XtmSI0bQfgQG",
        "outputId": "f7513a98-60e3-4faa-e007-c31e61395333",
        "colab": {
          "base_uri": "https://localhost:8080/",
          "height": 556
        }
      },
      "source": [
        "residuals = pd.DataFrame(model_fit.resid)\n",
        "residuals.plot()\n",
        "plt.show()\n",
        "\n",
        "plt.plot(data)\n",
        "plt.plot(residuals, color='red')\n",
        "plt.legend(['Dataset', 'Residual Error'])"
      ],
      "execution_count": null,
      "outputs": [
        {
          "output_type": "display_data",
          "data": {
            "image/png": "[encoded data removed]",
            "text/plain": [
              "<Figure size 432x288 with 1 Axes>"
            ]
          },
          "metadata": {
            "tags": [],
            "needs_background": "light"
          }
        },
        {
          "output_type": "execute_result",
          "data": {
            "text/plain": [
              "<matplotlib.legend.Legend at 0x7fa40ce7de10>"
            ]
          },
          "metadata": {
            "tags": []
          },
          "execution_count": 50
        },
        {
          "output_type": "display_data",
          "data": {
            "image/png": "[encoded data removed]",
            "text/plain": [
              "<Figure size 432x288 with 1 Axes>"
            ]
          },
          "metadata": {
            "tags": [],
            "needs_background": "light"
          }
        }
      ]
    },
    {
      "cell_type": "code",
      "metadata": {
        "id": "JwBr5D7nfilv",
        "outputId": "bed973fe-d345-4371-8539-ae8bb550a3b6",
        "colab": {
          "base_uri": "https://localhost:8080/",
          "height": 450
        }
      },
      "source": [
        "residuals"
      ],
      "execution_count": null,
      "outputs": [
        {
          "output_type": "execute_result",
          "data": {
            "text/html": [
              "<div>\n",
              "<style scoped>\n",
              "    .dataframe tbody tr th:only-of-type {\n",
              "        vertical-align: middle;\n",
              "    }\n",
              "\n",
              "    .dataframe tbody tr th {\n",
              "        vertical-align: top;\n",
              "    }\n",
              "\n",
              "    .dataframe thead th {\n",
              "        text-align: right;\n",
              "    }\n",
              "</style>\n",
              "<table border=\"1\" class=\"dataframe\">\n",
              "  <thead>\n",
              "    <tr style=\"text-align: right;\">\n",
              "      <th></th>\n",
              "      <th>0</th>\n",
              "    </tr>\n",
              "    <tr>\n",
              "      <th>Date</th>\n",
              "      <th></th>\n",
              "    </tr>\n",
              "  </thead>\n",
              "  <tbody>\n",
              "    <tr>\n",
              "      <th>1959-01-02</th>\n",
              "      <td>-3.049577</td>\n",
              "    </tr>\n",
              "    <tr>\n",
              "      <th>1959-01-03</th>\n",
              "      <td>-3.459159</td>\n",
              "    </tr>\n",
              "    <tr>\n",
              "      <th>1959-01-04</th>\n",
              "      <td>-1.138551</td>\n",
              "    </tr>\n",
              "    <tr>\n",
              "      <th>1959-01-05</th>\n",
              "      <td>12.929800</td>\n",
              "    </tr>\n",
              "    <tr>\n",
              "      <th>1959-01-06</th>\n",
              "      <td>-7.082418</td>\n",
              "    </tr>\n",
              "    <tr>\n",
              "      <th>...</th>\n",
              "      <td>...</td>\n",
              "    </tr>\n",
              "    <tr>\n",
              "      <th>1959-12-27</th>\n",
              "      <td>-1.321896</td>\n",
              "    </tr>\n",
              "    <tr>\n",
              "      <th>1959-12-28</th>\n",
              "      <td>13.833310</td>\n",
              "    </tr>\n",
              "    <tr>\n",
              "      <th>1959-12-29</th>\n",
              "      <td>5.677312</td>\n",
              "    </tr>\n",
              "    <tr>\n",
              "      <th>1959-12-30</th>\n",
              "      <td>8.814161</td>\n",
              "    </tr>\n",
              "    <tr>\n",
              "      <th>1959-12-31</th>\n",
              "      <td>-2.075986</td>\n",
              "    </tr>\n",
              "  </tbody>\n",
              "</table>\n",
              "<p>364 rows × 1 columns</p>\n",
              "</div>"
            ],
            "text/plain": [
              "                    0\n",
              "Date                 \n",
              "1959-01-02  -3.049577\n",
              "1959-01-03  -3.459159\n",
              "1959-01-04  -1.138551\n",
              "1959-01-05  12.929800\n",
              "1959-01-06  -7.082418\n",
              "...               ...\n",
              "1959-12-27  -1.321896\n",
              "1959-12-28  13.833310\n",
              "1959-12-29   5.677312\n",
              "1959-12-30   8.814161\n",
              "1959-12-31  -2.075986\n",
              "\n",
              "[364 rows x 1 columns]"
            ]
          },
          "metadata": {
            "tags": []
          },
          "execution_count": 53
        }
      ]
    },
    {
      "cell_type": "code",
      "metadata": {
        "id": "9Sn65a1gfkJA",
        "outputId": "614fa8a9-ee6c-40ad-cdfd-6c14ff72b208",
        "colab": {
          "base_uri": "https://localhost:8080/",
          "height": 170
        }
      },
      "source": [
        "print(residuals.describe())"
      ],
      "execution_count": null,
      "outputs": [
        {
          "output_type": "stream",
          "text": [
            "                0\n",
            "count  364.000000\n",
            "mean    -0.007873\n",
            "std      7.804431\n",
            "min    -20.383961\n",
            "25%     -5.409250\n",
            "50%     -0.574061\n",
            "75%      4.829771\n",
            "max     27.198210\n"
          ],
          "name": "stdout"
        }
      ]
    },
    {
      "cell_type": "markdown",
      "metadata": {
        "id": "74GWYyT_h1U6"
      },
      "source": [
        "Rolling Forecast ARIMA Model (Predictions)"
      ]
    },
    {
      "cell_type": "code",
      "metadata": {
        "id": "_SEKo4VAfoy_",
        "outputId": "8c80ee9c-4e25-4a7d-b58b-90f50d29af94",
        "colab": {
          "base_uri": "https://localhost:8080/",
          "height": 1000
        }
      },
      "source": [
        "values = data.values\n",
        "size = int(len(values)* 0.80)\n",
        "train, test = values[0:size], values[size:len(values)]\n",
        "history = [x for x in train]\n",
        "predictions = []\n",
        "\n",
        "for t in range(len(test)):\n",
        "  model = ARIMA(history, order=(2,1,0))\n",
        "  model_fit = model.fit(disp=0)\n",
        "  output = model_fit.forecast()\n",
        "  prediction = output[0]\n",
        "  predictions.append(prediction)\n",
        "  expected = test[t]\n",
        "  history.append(expected)\n",
        "  print('predicted=%f, expected=%f' % (prediction, expected))\n",
        "error = sqrt(mean_squared_error(test, predictions))\n",
        "print('Test RMSE: %.3f' % error)"
      ],
      "execution_count": null,
      "outputs": [
        {
          "output_type": "stream",
          "text": [
            "predicted=45.426043, expected=42.000000\n",
            "predicted=43.235598, expected=38.000000\n",
            "predicted=40.728970, expected=47.000000\n",
            "predicted=42.803120, expected=38.000000\n",
            "predicted=40.889627, expected=36.000000\n",
            "predicted=39.830018, expected=42.000000\n",
            "predicted=39.004320, expected=35.000000\n",
            "predicted=37.512464, expected=28.000000\n",
            "predicted=34.238576, expected=44.000000\n",
            "predicted=36.396850, expected=36.000000\n",
            "predicted=36.149172, expected=45.000000\n",
            "predicted=41.918251, expected=46.000000\n",
            "predicted=42.842770, expected=48.000000\n",
            "predicted=46.587646, expected=49.000000\n",
            "predicted=47.911780, expected=43.000000\n",
            "predicted=46.415062, expected=42.000000\n",
            "predicted=44.398615, expected=59.000000\n",
            "predicted=49.101457, expected=45.000000\n",
            "predicted=48.617977, expected=52.000000\n",
            "predicted=51.938741, expected=46.000000\n",
            "predicted=47.720262, expected=42.000000\n",
            "predicted=46.254851, expected=40.000000\n",
            "predicted=42.420349, expected=40.000000\n",
            "predicted=40.618997, expected=45.000000\n",
            "predicted=42.020356, expected=35.000000\n",
            "predicted=39.675927, expected=35.000000\n",
            "predicted=37.913832, expected=40.000000\n",
            "predicted=36.987843, expected=39.000000\n",
            "predicted=38.188708, expected=33.000000\n",
            "predicted=36.952577, expected=42.000000\n",
            "predicted=38.303696, expected=47.000000\n",
            "predicted=41.390422, expected=51.000000\n",
            "predicted=47.238788, expected=44.000000\n",
            "predicted=47.147321, expected=40.000000\n",
            "predicted=44.487529, expected=57.000000\n",
            "predicted=47.971081, expected=49.000000\n",
            "predicted=48.942364, expected=45.000000\n",
            "predicted=49.878207, expected=49.000000\n",
            "predicted=47.847955, expected=51.000000\n",
            "predicted=48.699105, expected=46.000000\n",
            "predicted=48.517148, expected=44.000000\n",
            "predicted=46.764045, expected=52.000000\n",
            "predicted=47.841455, expected=45.000000\n",
            "predicted=46.935257, expected=32.000000\n",
            "predicted=41.996117, expected=46.000000\n",
            "predicted=41.499956, expected=41.000000\n",
            "predicted=39.829041, expected=34.000000\n",
            "predicted=39.812669, expected=33.000000\n",
            "predicted=35.741178, expected=36.000000\n",
            "predicted=34.498590, expected=49.000000\n",
            "predicted=40.299480, expected=43.000000\n",
            "predicted=42.728899, expected=43.000000\n",
            "predicted=44.876519, expected=34.000000\n",
            "predicted=39.428075, expected=39.000000\n",
            "predicted=38.726145, expected=35.000000\n",
            "predicted=35.921592, expected=52.000000\n",
            "predicted=43.028513, expected=47.000000\n",
            "predicted=45.034505, expected=52.000000\n",
            "predicted=50.562458, expected=39.000000\n",
            "predicted=45.396524, expected=40.000000\n",
            "predicted=43.218497, expected=42.000000\n",
            "predicted=40.558855, expected=42.000000\n",
            "predicted=41.466487, expected=53.000000\n",
            "predicted=46.524139, expected=39.000000\n",
            "predicted=44.257067, expected=40.000000\n",
            "predicted=43.517344, expected=38.000000\n",
            "predicted=38.934286, expected=44.000000\n",
            "predicted=41.038202, expected=34.000000\n",
            "predicted=38.278899, expected=37.000000\n",
            "predicted=38.105539, expected=52.000000\n",
            "predicted=42.198461, expected=48.000000\n",
            "predicted=46.096524, expected=55.000000\n",
            "predicted=52.085076, expected=50.000000\n",
            "Test RMSE: 6.693\n"
          ],
          "name": "stdout"
        }
      ]
    },
    {
      "cell_type": "code",
      "metadata": {
        "id": "YT2amekafqNV",
        "outputId": "2281569c-a749-482d-de28-227d0c95bb7e",
        "colab": {
          "base_uri": "https://localhost:8080/",
          "height": 283
        }
      },
      "source": [
        "plt.plot(test)\n",
        "plt.plot(predictions, color='red')\n",
        "plt.legend(['test', 'predictions'])"
      ],
      "execution_count": null,
      "outputs": [
        {
          "output_type": "execute_result",
          "data": {
            "text/plain": [
              "<matplotlib.legend.Legend at 0x7fa412008828>"
            ]
          },
          "metadata": {
            "tags": []
          },
          "execution_count": 57
        },
        {
          "output_type": "display_data",
          "data": {
            "image/png": "[encoded data removed]",
            "text/plain": [
              "<Figure size 432x288 with 1 Axes>"
            ]
          },
          "metadata": {
            "tags": [],
            "needs_background": "light"
          }
        }
      ]
    },
    {
      "cell_type": "code",
      "metadata": {
        "id": "yTqA1RdHfs1f"
      },
      "source": [
        "# Courtesy of Jason Brownlee of Machine Learning Mastery\n",
        "# evaluate an ARIMA model for a given order (p,d,q)\n",
        "def evaluate_arima_model(X, arima_order):\n",
        "\t# prepare training dataset\n",
        "\ttrain_size = int(len(X) * 0.80)\n",
        "\ttrain, test = X[0:train_size], X[train_size:]\n",
        "\thistory = [x for x in train]\n",
        "\t# make predictions\n",
        "\tpredictions = list()\n",
        "\tfor t in range(len(test)):\n",
        "\t\tmodel = ARIMA(history, order=arima_order)\n",
        "\t\tmodel_fit = model.fit(disp=0)\n",
        "\t\tyhat = model_fit.forecast()[0]\n",
        "\t\tpredictions.append(yhat)\n",
        "\t\thistory.append(test[t])\n",
        "\t# calculate out of sample error\n",
        "\terror = mean_squared_error(test, predictions)\n",
        "\treturn error\n",
        "\n",
        "  # evaluate combinations of p, d and q values for an ARIMA model\n",
        "def evaluate_models(dataset, p_values, d_values, q_values):\n",
        "\tdataset = dataset.astype('float32')\n",
        "\tbest_score, best_cfg = float(\"inf\"), None\n",
        "\tfor p in p_values:\n",
        "\t\tfor d in d_values:\n",
        "\t\t\tfor q in q_values:\n",
        "\t\t\t\torder = (p,d,q)\n",
        "\t\t\t\ttry:\n",
        "\t\t\t\t\tmse = evaluate_arima_model(dataset, order)\n",
        "\t\t\t\t\tif mse < best_score:\n",
        "\t\t\t\t\t\tbest_score, best_cfg = mse, order\n",
        "\t\t\t\t\tprint('ARIMA%s MSE=%.3f' % (order,mse))\n",
        "\t\t\t\texcept:\n",
        "\t\t\t\t\tcontinue\n",
        "\tprint('Best ARIMA%s MSE=%.3f' % (best_cfg, best_score))"
      ],
      "execution_count": null,
      "outputs": []
    },
    {
      "cell_type": "code",
      "metadata": {
        "id": "-WR2uCOhfuFE",
        "outputId": "1235f488-b8a8-4f01-c977-2922f2369c01",
        "colab": {
          "base_uri": "https://localhost:8080/",
          "height": 1000
        }
      },
      "source": [
        "import warnings\n",
        "\n",
        "p_values = range(0, 10)\n",
        "d_values = range(0, 3)\n",
        "q_values = range(0, 3)\n",
        "warnings.filterwarnings(\"ignore\")\n",
        "evaluate_models(values, p_values, d_values, q_values)"
      ],
      "execution_count": null,
      "outputs": [
        {
          "output_type": "stream",
          "text": [
            "ARIMA(0, 0, 0) MSE=42.758\n",
            "ARIMA(0, 0, 1) MSE=40.041\n",
            "ARIMA(0, 0, 2) MSE=39.387\n",
            "ARIMA(0, 1, 0) MSE=59.450\n",
            "ARIMA(0, 1, 1) MSE=48.197\n",
            "ARIMA(0, 1, 2) MSE=45.905\n",
            "ARIMA(0, 2, 0) MSE=170.288\n",
            "ARIMA(0, 2, 1) MSE=59.846\n",
            "ARIMA(1, 0, 0) MSE=39.374\n",
            "ARIMA(1, 0, 1) MSE=45.336\n",
            "ARIMA(1, 1, 0) MSE=48.267\n",
            "ARIMA(1, 1, 1) MSE=45.659\n",
            "ARIMA(1, 1, 2) MSE=46.690\n",
            "ARIMA(1, 2, 0) MSE=101.034\n",
            "ARIMA(2, 0, 0) MSE=38.877\n",
            "ARIMA(2, 0, 1) MSE=42.865\n",
            "ARIMA(2, 0, 2) MSE=43.669\n",
            "ARIMA(2, 1, 0) MSE=44.790\n",
            "ARIMA(2, 1, 1) MSE=45.282\n",
            "ARIMA(2, 1, 2) MSE=45.725\n",
            "ARIMA(2, 2, 0) MSE=78.250\n",
            "ARIMA(3, 0, 0) MSE=38.776\n",
            "ARIMA(3, 0, 1) MSE=42.513\n",
            "ARIMA(3, 0, 2) MSE=42.530\n",
            "ARIMA(3, 1, 0) MSE=43.615\n",
            "ARIMA(3, 1, 1) MSE=45.553\n",
            "ARIMA(3, 1, 2) MSE=46.060\n",
            "ARIMA(3, 2, 0) MSE=64.958\n",
            "ARIMA(4, 0, 0) MSE=38.870\n",
            "ARIMA(4, 0, 1) MSE=41.810\n",
            "ARIMA(4, 0, 2) MSE=41.235\n",
            "ARIMA(4, 1, 0) MSE=44.188\n",
            "ARIMA(4, 1, 1) MSE=45.739\n",
            "ARIMA(4, 1, 2) MSE=44.677\n",
            "ARIMA(4, 2, 0) MSE=58.560\n",
            "ARIMA(5, 0, 0) MSE=39.427\n",
            "ARIMA(5, 0, 1) MSE=40.162\n",
            "ARIMA(5, 0, 2) MSE=43.969\n",
            "ARIMA(5, 1, 0) MSE=44.674\n",
            "ARIMA(5, 1, 1) MSE=46.091\n",
            "ARIMA(5, 1, 2) MSE=43.565\n",
            "ARIMA(5, 2, 0) MSE=56.569\n",
            "ARIMA(6, 0, 0) MSE=39.967\n",
            "ARIMA(6, 0, 1) MSE=44.277\n",
            "ARIMA(6, 1, 0) MSE=45.721\n",
            "ARIMA(6, 1, 1) MSE=47.022\n",
            "ARIMA(6, 1, 2) MSE=45.243\n",
            "ARIMA(6, 2, 0) MSE=51.411\n",
            "ARIMA(7, 0, 0) MSE=41.609\n",
            "ARIMA(7, 0, 1) MSE=44.286\n",
            "ARIMA(7, 0, 2) MSE=44.521\n",
            "ARIMA(7, 1, 0) MSE=48.050\n",
            "ARIMA(7, 1, 1) MSE=44.733\n",
            "ARIMA(7, 1, 2) MSE=43.796\n",
            "ARIMA(7, 2, 0) MSE=48.132\n",
            "ARIMA(7, 2, 1) MSE=48.439\n",
            "ARIMA(8, 0, 0) MSE=43.568\n",
            "ARIMA(8, 0, 1) MSE=44.118\n",
            "ARIMA(8, 0, 2) MSE=44.512\n",
            "ARIMA(8, 1, 0) MSE=49.133\n",
            "ARIMA(8, 1, 1) MSE=45.488\n",
            "ARIMA(8, 1, 2) MSE=45.447\n",
            "ARIMA(8, 2, 0) MSE=47.664\n",
            "ARIMA(8, 2, 1) MSE=49.472\n",
            "ARIMA(8, 2, 2) MSE=47.347\n",
            "ARIMA(9, 0, 0) MSE=43.820\n",
            "ARIMA(9, 0, 1) MSE=43.826\n",
            "ARIMA(9, 0, 2) MSE=43.008\n",
            "ARIMA(9, 1, 0) MSE=50.143\n",
            "ARIMA(9, 1, 1) MSE=47.297\n",
            "ARIMA(9, 1, 2) MSE=44.555\n",
            "ARIMA(9, 2, 0) MSE=50.478\n",
            "ARIMA(9, 2, 1) MSE=50.448\n",
            "ARIMA(9, 2, 2) MSE=49.996\n",
            "Best ARIMA(3, 0, 0) MSE=38.776\n"
          ],
          "name": "stdout"
        }
      ]
    },
    {
      "cell_type": "code",
      "metadata": {
        "id": "0wD17WwKfwHW",
        "outputId": "c4269a89-be85-4940-c8cf-28a841f604a8",
        "colab": {
          "base_uri": "https://localhost:8080/",
          "height": 34
        }
      },
      "source": [
        "print('RMSE ARIMA((3, 0, 0)) :', sqrt(38.776))"
      ],
      "execution_count": null,
      "outputs": [
        {
          "output_type": "stream",
          "text": [
            "RMSE ARIMA((3, 0, 0)) : 6.227037819059717\n"
          ],
          "name": "stdout"
        }
      ]
    },
    {
      "cell_type": "markdown",
      "metadata": {
        "id": "3XC8q4Iffxm5"
      },
      "source": [
        "Hyperparameter terbaik untuk ARIMA (3, 0, 0).\n",
        "p=3 maka legnya 3, d = 0 karena grafiknya stationary. q nilai parameter moving averagenya adalah 0.\n",
        "Nilai RMSE ARIMA terbaik = 6.227037819059717"
      ]
    },
    {
      "cell_type": "markdown",
      "metadata": {
        "id": "b5-y8JTtfyru"
      },
      "source": [
        "***No.4***"
      ]
    },
    {
      "cell_type": "markdown",
      "metadata": {
        "id": "iet8M7Qyfy-G"
      },
      "source": [
        "**SARIMA**"
      ]
    },
    {
      "cell_type": "code",
      "metadata": {
        "id": "8x-NRXDRf5Ou"
      },
      "source": [
        "from multiprocessing import cpu_count\n",
        "from joblib import Parallel\n",
        "from joblib import delayed\n",
        "from warnings import catch_warnings\n",
        "from warnings import filterwarnings\n",
        "from statsmodels.tsa.statespace.sarimax import SARIMAX"
      ],
      "execution_count": null,
      "outputs": []
    },
    {
      "cell_type": "code",
      "metadata": {
        "id": "y0nMzgByf9W8"
      },
      "source": [
        "# Courtesy of Jason Brownlee of Machine Learning Mastery\n",
        "# one-step sarima forecast\n",
        "def sarima_forecast(history, config):\n",
        "\torder, sorder, trend = config\n",
        "\t# define model\n",
        "\tmodel = SARIMAX(history, order=order, seasonal_order=sorder, trend=trend, enforce_stationarity=False, enforce_invertibility=False)\n",
        "\t# fit model\n",
        "\tmodel_fit = model.fit(disp=False)\n",
        "\t# make one step forecast\n",
        "\tyhat = model_fit.predict(len(history), len(history))\n",
        "\treturn yhat[0]\n",
        "\n",
        "# root mean squared error or rmse\n",
        "def measure_rmse(actual, predicted):\n",
        "\treturn sqrt(mean_squared_error(actual, predicted))\n",
        "\n",
        "# split a univariate dataset into train/test sets\n",
        "def train_test_split(data, n_test):\n",
        "\treturn data[:-n_test], data[-n_test:]\n",
        "\n",
        "# walk-forward validation for univariate data\n",
        "def walk_forward_validation(data, n_test, cfg):\n",
        "\tpredictions = list()\n",
        "\t# split dataset\n",
        "\ttrain, test = train_test_split(data, n_test)\n",
        "\t# seed history with training dataset\n",
        "\thistory = [x for x in train]\n",
        "\t# step over each time-step in the test set\n",
        "\tfor i in range(len(test)):\n",
        "\t\t# fit model and make forecast for history\n",
        "\t\tyhat = sarima_forecast(history, cfg)\n",
        "\t\t# store forecast in list of predictions\n",
        "\t\tpredictions.append(yhat)\n",
        "\t\t# add actual observation to history for the next loop\n",
        "\t\thistory.append(test[i])\n",
        "\t# estimate prediction error\n",
        "\terror = measure_rmse(test, predictions)\n",
        "\treturn error\n",
        "\n",
        "# score a model, return None on failure\n",
        "def score_model(data, n_test, cfg, debug=False):\n",
        "\tresult = None\n",
        "\t# convert config to a key\n",
        "\tkey = str(cfg)\n",
        "\t# show all warnings and fail on exception if debugging\n",
        "\tif debug:\n",
        "\t\tresult = walk_forward_validation(data, n_test, cfg)\n",
        "\telse:\n",
        "\t\t# one failure during model validation suggests an unstable config\n",
        "\t\ttry:\n",
        "\t\t\t# never show warnings when grid searching, too noisy\n",
        "\t\t\twith catch_warnings():\n",
        "\t\t\t\tfilterwarnings(\"ignore\")\n",
        "\t\t\t\tresult = walk_forward_validation(data, n_test, cfg)\n",
        "\t\texcept:\n",
        "\t\t\terror = None\n",
        "\t# check for an interesting result\n",
        "\tif result is not None:\n",
        "\t\tprint(' > Model[%s] %.3f' % (key, result))\n",
        "\treturn (key, result)\n",
        "\n",
        "# grid search configs\n",
        "def grid_search(data, cfg_list, n_test, parallel=True):\n",
        "\tscores = None\n",
        "\tif parallel:\n",
        "\t\t# execute configs in parallel\n",
        "\t\texecutor = Parallel(n_jobs=cpu_count(), backend='multiprocessing')\n",
        "\t\ttasks = (delayed(score_model)(data, n_test, cfg) for cfg in cfg_list)\n",
        "\t\tscores = executor(tasks)\n",
        "\telse:\n",
        "\t\tscores = [score_model(data, n_test, cfg) for cfg in cfg_list]\n",
        "\t# remove empty results\n",
        "\tscores = [r for r in scores if r[1] != None]\n",
        "\t# sort configs by error, asc\n",
        "\tscores.sort(key=lambda tup: tup[1])\n",
        "\treturn scores\n",
        "\n",
        "# create a set of sarima configs to try\n",
        "def sarima_configs(seasonal=[0]):\n",
        "\tmodels = list()\n",
        "\t# define config lists\n",
        "\tp_params = [3]\n",
        "\td_params = [0, 1]\n",
        "\tq_params = [0, 1, 2]\n",
        "\tt_params = ['n','c','t','ct']\n",
        "\tP_params = [0, 1, 2]\n",
        "\tD_params = [0, 1]\n",
        "\tQ_params = [0, 1, 2]\n",
        "\tm_params = seasonal\n",
        "\t# create config instances\n",
        "\tfor p in p_params:\n",
        "\t\tfor d in d_params:\n",
        "\t\t\tfor q in q_params:\n",
        "\t\t\t\tfor t in t_params:\n",
        "\t\t\t\t\tfor P in P_params:\n",
        "\t\t\t\t\t\tfor D in D_params:\n",
        "\t\t\t\t\t\t\tfor Q in Q_params:\n",
        "\t\t\t\t\t\t\t\tfor m in m_params:\n",
        "\t\t\t\t\t\t\t\t\tcfg = [(p,d,q), (P,D,Q,m), t]\n",
        "\t\t\t\t\t\t\t\t\tmodels.append(cfg)\n",
        "\treturn models"
      ],
      "execution_count": null,
      "outputs": []
    },
    {
      "cell_type": "code",
      "metadata": {
        "id": "MO_5rzcqf_Pm",
        "outputId": "583e5cf1-388b-421b-e5c0-3e6fea90a8b4",
        "colab": {
          "base_uri": "https://localhost:8080/",
          "height": 1000
        }
      },
      "source": [
        "n_test = 16\n",
        "\n",
        "# model configs\n",
        "cfg_list = sarima_configs()\n",
        "\n",
        "# grid search\n",
        "scores = grid_search(data.values, cfg_list, n_test)\n",
        "print('done')\n",
        "\n",
        "# list top 3 configs\n",
        "for cfg, error in scores[:3]:\n",
        "  print(cfg, error)"
      ],
      "execution_count": null,
      "outputs": [
        {
          "output_type": "stream",
          "text": [
            " > Model[[(3, 0, 0), (0, 0, 0, 0), 'n']] 7.271\n",
            " > Model[[(3, 0, 0), (0, 0, 1, 0), 'n']] 6.431\n",
            " > Model[[(3, 0, 0), (1, 0, 0, 0), 'n']] 7.137\n",
            " > Model[[(3, 0, 0), (0, 0, 2, 0), 'n']] 6.425\n",
            " > Model[[(3, 0, 0), (1, 0, 1, 0), 'n']] 6.364\n",
            " > Model[[(3, 0, 0), (1, 0, 2, 0), 'n']] 6.409\n",
            " > Model[[(3, 0, 0), (2, 0, 0, 0), 'n']] 7.000\n",
            " > Model[[(3, 0, 0), (2, 0, 1, 0), 'n']] 6.472\n",
            " > Model[[(3, 0, 0), (0, 0, 0, 0), 'c']] 6.541\n",
            " > Model[[(3, 0, 0), (2, 0, 2, 0), 'n']] 6.132\n",
            " > Model[[(3, 0, 0), (0, 0, 1, 0), 'c']] 6.603\n",
            " > Model[[(3, 0, 0), (0, 0, 2, 0), 'c']] 6.506\n",
            " > Model[[(3, 0, 0), (1, 0, 0, 0), 'c']] 6.582\n",
            " > Model[[(3, 0, 0), (1, 0, 1, 0), 'c']] 6.614\n",
            " > Model[[(3, 0, 0), (1, 0, 2, 0), 'c']] 6.485\n",
            " > Model[[(3, 0, 0), (2, 0, 0, 0), 'c']] 6.569\n",
            " > Model[[(3, 0, 0), (2, 0, 1, 0), 'c']] 6.622\n",
            " > Model[[(3, 0, 0), (0, 0, 0, 0), 't']] 7.194\n",
            " > Model[[(3, 0, 0), (2, 0, 2, 0), 'c']] 6.584\n",
            " > Model[[(3, 0, 0), (0, 0, 1, 0), 't']] 6.426\n",
            " > Model[[(3, 0, 0), (0, 0, 2, 0), 't']] 6.441\n",
            " > Model[[(3, 0, 0), (1, 0, 0, 0), 't']] 7.051\n",
            " > Model[[(3, 0, 0), (1, 0, 1, 0), 't']] 7.391\n",
            " > Model[[(3, 0, 0), (1, 0, 2, 0), 't']] 7.260\n",
            " > Model[[(3, 0, 0), (2, 0, 0, 0), 't']] 6.920\n",
            " > Model[[(3, 0, 0), (2, 0, 1, 0), 't']] 6.978\n",
            " > Model[[(3, 0, 0), (0, 0, 0, 0), 'ct']] 6.384\n",
            " > Model[[(3, 0, 0), (0, 0, 1, 0), 'ct']] 6.381\n",
            " > Model[[(3, 0, 0), (2, 0, 2, 0), 't']] 6.705\n",
            " > Model[[(3, 0, 0), (0, 0, 2, 0), 'ct']] 6.379\n",
            " > Model[[(3, 0, 0), (1, 0, 0, 0), 'ct']] 6.386\n",
            " > Model[[(3, 0, 0), (1, 0, 1, 0), 'ct']] 6.367\n",
            " > Model[[(3, 0, 0), (1, 0, 2, 0), 'ct']] 6.339\n",
            " > Model[[(3, 0, 0), (2, 0, 0, 0), 'ct']] 6.399\n",
            " > Model[[(3, 0, 0), (2, 0, 1, 0), 'ct']] 6.424\n",
            " > Model[[(3, 0, 0), (2, 0, 2, 0), 'ct']] 6.354\n",
            " > Model[[(3, 0, 1), (0, 0, 0, 0), 'n']] 6.475\n",
            " > Model[[(3, 0, 1), (0, 0, 1, 0), 'n']] 6.339\n",
            " > Model[[(3, 0, 1), (0, 0, 2, 0), 'n']] 6.378\n",
            " > Model[[(3, 0, 1), (1, 0, 0, 0), 'n']] 6.447\n",
            " > Model[[(3, 0, 1), (1, 0, 1, 0), 'n']] 6.380\n",
            " > Model[[(3, 0, 1), (1, 0, 2, 0), 'n']] 6.474\n",
            " > Model[[(3, 0, 1), (2, 0, 0, 0), 'n']] 6.304\n",
            " > Model[[(3, 0, 1), (2, 0, 1, 0), 'n']] 6.407\n",
            " > Model[[(3, 0, 1), (2, 0, 2, 0), 'n']] 6.334\n",
            " > Model[[(3, 0, 1), (0, 0, 0, 0), 'c']] 6.454\n",
            " > Model[[(3, 0, 1), (0, 0, 1, 0), 'c']] 6.509\n",
            " > Model[[(3, 0, 1), (0, 0, 2, 0), 'c']] 6.598\n",
            " > Model[[(3, 0, 1), (1, 0, 0, 0), 'c']] 6.593\n",
            " > Model[[(3, 0, 1), (1, 0, 1, 0), 'c']] 6.522\n",
            " > Model[[(3, 0, 1), (1, 0, 2, 0), 'c']] 6.473\n",
            " > Model[[(3, 0, 1), (2, 0, 0, 0), 'c']] 6.630\n",
            " > Model[[(3, 0, 1), (2, 0, 1, 0), 'c']] 6.685\n",
            " > Model[[(3, 0, 1), (0, 0, 0, 0), 't']] 6.438\n",
            " > Model[[(3, 0, 1), (2, 0, 2, 0), 'c']] 6.572\n",
            " > Model[[(3, 0, 1), (0, 0, 1, 0), 't']] 6.635\n",
            " > Model[[(3, 0, 1), (0, 0, 2, 0), 't']] 6.520\n",
            " > Model[[(3, 0, 1), (1, 0, 0, 0), 't']] 6.282\n",
            " > Model[[(3, 0, 1), (1, 0, 1, 0), 't']] 7.537\n",
            " > Model[[(3, 0, 1), (1, 0, 2, 0), 't']] 7.423\n",
            " > Model[[(3, 0, 1), (2, 0, 0, 0), 't']] 6.607\n",
            " > Model[[(3, 0, 1), (2, 0, 1, 0), 't']] 6.420\n",
            " > Model[[(3, 0, 1), (0, 0, 0, 0), 'ct']] 6.382\n",
            " > Model[[(3, 0, 1), (2, 0, 2, 0), 't']] 6.620\n",
            " > Model[[(3, 0, 1), (0, 0, 1, 0), 'ct']] 6.382\n",
            " > Model[[(3, 0, 1), (0, 0, 2, 0), 'ct']] 6.361\n",
            " > Model[[(3, 0, 1), (1, 0, 0, 0), 'ct']] 6.398\n",
            " > Model[[(3, 0, 1), (1, 0, 1, 0), 'ct']] 6.397\n",
            " > Model[[(3, 0, 1), (1, 0, 2, 0), 'ct']] 6.363\n",
            " > Model[[(3, 0, 1), (2, 0, 0, 0), 'ct']] 6.416\n",
            " > Model[[(3, 0, 1), (2, 0, 1, 0), 'ct']] 6.414\n",
            " > Model[[(3, 0, 1), (2, 0, 2, 0), 'ct']] 6.354\n",
            " > Model[[(3, 0, 2), (0, 0, 0, 0), 'n']] 6.405\n",
            " > Model[[(3, 0, 2), (0, 0, 1, 0), 'n']] 6.429\n",
            " > Model[[(3, 0, 2), (0, 0, 2, 0), 'n']] 6.280\n",
            " > Model[[(3, 0, 2), (1, 0, 0, 0), 'n']] 6.583\n",
            " > Model[[(3, 0, 2), (1, 0, 1, 0), 'n']] 6.436\n",
            " > Model[[(3, 0, 2), (1, 0, 2, 0), 'n']] 6.352\n",
            " > Model[[(3, 0, 2), (2, 0, 0, 0), 'n']] 6.333\n",
            " > Model[[(3, 0, 2), (2, 0, 1, 0), 'n']] 6.452\n",
            " > Model[[(3, 0, 2), (2, 0, 2, 0), 'n']] 6.335\n",
            " > Model[[(3, 0, 2), (0, 0, 0, 0), 'c']] 6.589\n",
            " > Model[[(3, 0, 2), (0, 0, 1, 0), 'c']] 6.575\n",
            " > Model[[(3, 0, 2), (0, 0, 2, 0), 'c']] 6.504\n",
            " > Model[[(3, 0, 2), (1, 0, 0, 0), 'c']] 6.531\n",
            " > Model[[(3, 0, 2), (1, 0, 1, 0), 'c']] 6.559\n",
            " > Model[[(3, 0, 2), (1, 0, 2, 0), 'c']] 6.609\n",
            " > Model[[(3, 0, 2), (2, 0, 0, 0), 'c']] 6.598\n",
            " > Model[[(3, 0, 2), (2, 0, 1, 0), 'c']] 6.532\n",
            " > Model[[(3, 0, 2), (2, 0, 2, 0), 'c']] 6.449\n",
            " > Model[[(3, 0, 2), (0, 0, 0, 0), 't']] 6.444\n",
            " > Model[[(3, 0, 2), (0, 0, 1, 0), 't']] 6.492\n",
            " > Model[[(3, 0, 2), (0, 0, 2, 0), 't']] 6.338\n",
            " > Model[[(3, 0, 2), (1, 0, 0, 0), 't']] 6.373\n",
            " > Model[[(3, 0, 2), (1, 0, 1, 0), 't']] 6.749\n",
            " > Model[[(3, 0, 2), (1, 0, 2, 0), 't']] 6.072\n",
            " > Model[[(3, 0, 2), (2, 0, 0, 0), 't']] 6.314\n",
            " > Model[[(3, 0, 2), (2, 0, 1, 0), 't']] 6.561\n",
            " > Model[[(3, 0, 2), (0, 0, 0, 0), 'ct']] 6.385\n",
            " > Model[[(3, 0, 2), (2, 0, 2, 0), 't']] 6.740\n",
            " > Model[[(3, 0, 2), (0, 0, 1, 0), 'ct']] 6.436\n",
            " > Model[[(3, 0, 2), (0, 0, 2, 0), 'ct']] 6.392\n",
            " > Model[[(3, 0, 2), (1, 0, 0, 0), 'ct']] 6.370\n",
            " > Model[[(3, 0, 2), (1, 0, 1, 0), 'ct']] 6.367\n",
            " > Model[[(3, 0, 2), (1, 0, 2, 0), 'ct']] 6.406\n",
            " > Model[[(3, 0, 2), (2, 0, 0, 0), 'ct']] 6.359\n",
            " > Model[[(3, 0, 2), (2, 0, 1, 0), 'ct']] 6.372\n",
            " > Model[[(3, 1, 0), (0, 0, 0, 0), 'n']] 7.107\n",
            " > Model[[(3, 1, 0), (0, 0, 1, 0), 'n']] 6.416\n",
            " > Model[[(3, 1, 0), (0, 0, 2, 0), 'n']] 6.441\n",
            " > Model[[(3, 1, 0), (1, 0, 0, 0), 'n']] 7.009\n",
            " > Model[[(3, 0, 2), (2, 0, 2, 0), 'ct']] 6.353\n",
            " > Model[[(3, 1, 0), (1, 0, 1, 0), 'n']] 6.412\n",
            " > Model[[(3, 1, 0), (2, 0, 0, 0), 'n']] 6.919\n",
            " > Model[[(3, 1, 0), (1, 0, 2, 0), 'n']] 6.301\n",
            " > Model[[(3, 1, 0), (2, 0, 1, 0), 'n']] 6.403\n",
            " > Model[[(3, 1, 0), (0, 0, 0, 0), 'c']] 7.105\n",
            " > Model[[(3, 1, 0), (0, 0, 1, 0), 'c']] 6.485\n",
            " > Model[[(3, 1, 0), (2, 0, 2, 0), 'n']] 6.348\n",
            " > Model[[(3, 1, 0), (1, 0, 0, 0), 'c']] 7.008\n",
            " > Model[[(3, 1, 0), (0, 0, 2, 0), 'c']] 6.423\n",
            " > Model[[(3, 1, 0), (1, 0, 1, 0), 'c']] 6.399\n",
            " > Model[[(3, 1, 0), (2, 0, 0, 0), 'c']] 6.911\n",
            " > Model[[(3, 1, 0), (1, 0, 2, 0), 'c']] 6.437\n",
            " > Model[[(3, 1, 0), (2, 0, 1, 0), 'c']] 6.390\n",
            " > Model[[(3, 1, 0), (0, 0, 0, 0), 't']] 7.123\n",
            " > Model[[(3, 1, 0), (2, 0, 2, 0), 'c']] 6.335\n",
            " > Model[[(3, 1, 0), (0, 0, 1, 0), 't']] 6.782\n",
            " > Model[[(3, 1, 0), (1, 0, 0, 0), 't']] 7.022\n",
            " > Model[[(3, 1, 0), (0, 0, 2, 0), 't']] 6.412\n",
            " > Model[[(3, 1, 0), (1, 0, 1, 0), 't']] 6.451\n",
            " > Model[[(3, 1, 0), (1, 0, 2, 0), 't']] 6.176\n",
            " > Model[[(3, 1, 0), (2, 0, 0, 0), 't']] 6.935\n",
            " > Model[[(3, 1, 0), (2, 0, 1, 0), 't']] 6.276\n",
            " > Model[[(3, 1, 0), (0, 0, 0, 0), 'ct']] 7.146\n",
            " > Model[[(3, 1, 0), (2, 0, 2, 0), 't']] 6.431\n",
            " > Model[[(3, 1, 0), (0, 0, 1, 0), 'ct']] 6.356\n",
            " > Model[[(3, 1, 0), (0, 0, 2, 0), 'ct']] 6.625\n",
            " > Model[[(3, 1, 0), (1, 0, 0, 0), 'ct']] 7.044\n",
            " > Model[[(3, 1, 0), (1, 0, 1, 0), 'ct']] 6.561\n",
            " > Model[[(3, 1, 0), (1, 0, 2, 0), 'ct']] 6.680\n",
            " > Model[[(3, 1, 0), (2, 0, 0, 0), 'ct']] 6.957\n",
            " > Model[[(3, 1, 0), (2, 0, 1, 0), 'ct']] 6.883\n",
            " > Model[[(3, 1, 1), (0, 0, 0, 0), 'n']] 6.421\n",
            " > Model[[(3, 1, 1), (0, 0, 1, 0), 'n']] 6.389\n",
            " > Model[[(3, 1, 0), (2, 0, 2, 0), 'ct']] 6.659\n",
            " > Model[[(3, 1, 1), (1, 0, 0, 0), 'n']] 6.411\n",
            " > Model[[(3, 1, 1), (0, 0, 2, 0), 'n']] 6.411\n",
            " > Model[[(3, 1, 1), (1, 0, 1, 0), 'n']] 6.410\n",
            " > Model[[(3, 1, 1), (2, 0, 0, 0), 'n']] 6.404\n",
            " > Model[[(3, 1, 1), (1, 0, 2, 0), 'n']] 6.336\n",
            " > Model[[(3, 1, 1), (2, 0, 1, 0), 'n']] 6.352\n",
            " > Model[[(3, 1, 1), (2, 0, 2, 0), 'n']] 6.350\n",
            " > Model[[(3, 1, 1), (0, 0, 0, 0), 'c']] 6.447\n",
            " > Model[[(3, 1, 1), (0, 0, 1, 0), 'c']] 6.387\n",
            " > Model[[(3, 1, 1), (1, 0, 0, 0), 'c']] 6.477\n",
            " > Model[[(3, 1, 1), (0, 0, 2, 0), 'c']] 6.478\n",
            " > Model[[(3, 1, 1), (1, 0, 1, 0), 'c']] 6.398\n",
            " > Model[[(3, 1, 1), (1, 0, 2, 0), 'c']] 6.302\n",
            " > Model[[(3, 1, 1), (2, 0, 0, 0), 'c']] 6.391\n",
            " > Model[[(3, 1, 1), (2, 0, 1, 0), 'c']] 6.331\n",
            " > Model[[(3, 1, 1), (2, 0, 2, 0), 'c']] 6.379\n",
            " > Model[[(3, 1, 1), (0, 0, 0, 0), 't']] 6.312\n",
            " > Model[[(3, 1, 1), (0, 0, 1, 0), 't']] 6.346\n",
            " > Model[[(3, 1, 1), (0, 0, 2, 0), 't']] 6.426\n",
            " > Model[[(3, 1, 1), (1, 0, 0, 0), 't']] 6.307\n",
            " > Model[[(3, 1, 1), (1, 0, 1, 0), 't']] 6.384\n",
            " > Model[[(3, 1, 1), (1, 0, 2, 0), 't']] 6.306\n",
            " > Model[[(3, 1, 1), (2, 0, 0, 0), 't']] 6.619\n",
            " > Model[[(3, 1, 1), (2, 0, 1, 0), 't']] 6.219\n",
            " > Model[[(3, 1, 1), (2, 0, 2, 0), 't']] 6.298\n",
            " > Model[[(3, 1, 1), (0, 0, 0, 0), 'ct']] 6.403\n",
            " > Model[[(3, 1, 1), (0, 0, 1, 0), 'ct']] 6.704\n",
            " > Model[[(3, 1, 1), (0, 0, 2, 0), 'ct']] 6.656\n",
            " > Model[[(3, 1, 1), (1, 0, 0, 0), 'ct']] 6.738\n",
            " > Model[[(3, 1, 1), (1, 0, 1, 0), 'ct']] 6.734\n",
            " > Model[[(3, 1, 1), (1, 0, 2, 0), 'ct']] 6.514\n",
            " > Model[[(3, 1, 1), (2, 0, 0, 0), 'ct']] 6.486\n",
            " > Model[[(3, 1, 1), (2, 0, 1, 0), 'ct']] 6.875\n",
            " > Model[[(3, 1, 2), (0, 0, 0, 0), 'n']] 6.329\n",
            " > Model[[(3, 1, 1), (2, 0, 2, 0), 'ct']] 6.615\n",
            " > Model[[(3, 1, 2), (0, 0, 1, 0), 'n']] 6.349\n",
            " > Model[[(3, 1, 2), (1, 0, 0, 0), 'n']] 6.360\n",
            " > Model[[(3, 1, 2), (0, 0, 2, 0), 'n']] 6.445\n",
            " > Model[[(3, 1, 2), (1, 0, 1, 0), 'n']] 6.348\n",
            " > Model[[(3, 1, 2), (1, 0, 2, 0), 'n']] 6.128\n",
            " > Model[[(3, 1, 2), (2, 0, 0, 0), 'n']] 6.352\n",
            " > Model[[(3, 1, 2), (2, 0, 1, 0), 'n']] 6.314\n",
            " > Model[[(3, 1, 2), (0, 0, 0, 0), 'c']] 6.297\n",
            " > Model[[(3, 1, 2), (2, 0, 2, 0), 'n']] 6.307\n",
            " > Model[[(3, 1, 2), (0, 0, 1, 0), 'c']] 6.369\n",
            " > Model[[(3, 1, 2), (0, 0, 2, 0), 'c']] 6.458\n",
            " > Model[[(3, 1, 2), (1, 0, 0, 0), 'c']] 6.311\n",
            " > Model[[(3, 1, 2), (1, 0, 1, 0), 'c']] 6.325\n",
            " > Model[[(3, 1, 2), (1, 0, 2, 0), 'c']] 6.495\n",
            " > Model[[(3, 1, 2), (2, 0, 0, 0), 'c']] 6.386\n",
            " > Model[[(3, 1, 2), (2, 0, 1, 0), 'c']] 6.295\n",
            " > Model[[(3, 1, 2), (0, 0, 0, 0), 't']] 6.381\n",
            " > Model[[(3, 1, 2), (2, 0, 2, 0), 'c']] 6.283\n",
            " > Model[[(3, 1, 2), (0, 0, 1, 0), 't']] 6.460\n",
            " > Model[[(3, 1, 2), (0, 0, 2, 0), 't']] 6.657\n",
            " > Model[[(3, 1, 2), (1, 0, 0, 0), 't']] 6.366\n",
            " > Model[[(3, 1, 2), (1, 0, 1, 0), 't']] 6.361\n",
            " > Model[[(3, 1, 2), (1, 0, 2, 0), 't']] 6.281\n",
            " > Model[[(3, 1, 2), (2, 0, 0, 0), 't']] 6.325\n",
            " > Model[[(3, 1, 2), (2, 0, 1, 0), 't']] 6.792\n",
            " > Model[[(3, 1, 2), (2, 0, 2, 0), 't']] 6.780\n",
            " > Model[[(3, 1, 2), (0, 0, 0, 0), 'ct']] 6.399\n",
            " > Model[[(3, 1, 2), (0, 0, 1, 0), 'ct']] 6.623\n",
            " > Model[[(3, 1, 2), (0, 0, 2, 0), 'ct']] 6.546\n",
            " > Model[[(3, 1, 2), (1, 0, 0, 0), 'ct']] 6.515\n",
            " > Model[[(3, 1, 2), (1, 0, 1, 0), 'ct']] 6.715\n",
            " > Model[[(3, 1, 2), (1, 0, 2, 0), 'ct']] 6.608\n",
            " > Model[[(3, 1, 2), (2, 0, 0, 0), 'ct']] 6.570\n",
            " > Model[[(3, 1, 2), (2, 0, 1, 0), 'ct']] 6.939\n",
            " > Model[[(3, 1, 2), (2, 0, 2, 0), 'ct']] 6.728\n",
            "done\n",
            "[(3, 0, 2), (1, 0, 2, 0), 't'] 6.071827237674967\n",
            "[(3, 1, 2), (1, 0, 2, 0), 'n'] 6.127723221854534\n",
            "[(3, 0, 0), (2, 0, 2, 0), 'n'] 6.131542142265703\n"
          ],
          "name": "stdout"
        }
      ]
    },
    {
      "cell_type": "markdown",
      "metadata": {
        "id": "4PIxnedbgBN_"
      },
      "source": [
        "\n",
        "Nilai RMSE SARIMA Terbaik [(3, 0, 2), (1, 0, 2, 0), 't'] = 6.071827237674967. Dataset terdapat trend 't' linear, hal ini terlihat pada grafik plot yang menurun-menaik dan terdapat kecenderungan terhadap waktu. p=3 maka legnya 3, d = 0 karena grafiknya stationary. q nilai parameter moving averagenya adalah 2."
      ]
    },
    {
      "cell_type": "markdown",
      "metadata": {
        "id": "MPb2fuhTO6JD"
      },
      "source": [
        "\n",
        "***No. 5***"
      ]
    },
    {
      "cell_type": "markdown",
      "metadata": {
        "id": "bGUqL7hyO858"
      },
      "source": [
        "Nilai RMSE ARIMA (3, 0, 0) : 6.227037819059717. \n",
        "Nilai RMSE SARIMA Terbaik [(3, 0, 2), (1, 0, 2, 0), 't'] : 6.071827237674967.\n",
        "\n",
        "Dari dataset sales, disimpulkan nilai rmse arima lebih baik dibandingkan sarima.Hal ini disebabkan karena dataset sales, terdapat trend (linear) sehingga lebih cocok menggunakan algoritma SARIMA"
      ]
    }
  ]
}