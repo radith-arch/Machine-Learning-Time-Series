{
  "nbformat": 4,
  "nbformat_minor": 0,
  "metadata": {
    "colab": {
      "name": "Time-Series Sales Dataset.ipynb",
      "provenance": [],
      "collapsed_sections": []
    },
    "kernelspec": {
      "name": "python3",
      "display_name": "Python 3"
    }
  },
  "cells": [
    {
      "cell_type": "code",
      "metadata": {
        "id": "GtAAlTQtKPAD",
        "outputId": "26899f8e-0227-4fdb-d373-1ecdeff04817",
        "colab": {
          "base_uri": "https://localhost:8080/",
          "height": 71
        }
      },
      "source": [
        "import os\n",
        "import pandas as pd \n",
        "import matplotlib.pyplot as plt\n",
        "import seaborn as sb\n",
        "from datetime import datetime"
      ],
      "execution_count": null,
      "outputs": [
        {
          "output_type": "stream",
          "text": [
            "/usr/local/lib/python3.6/dist-packages/statsmodels/tools/_testing.py:19: FutureWarning: pandas.util.testing is deprecated. Use the functions in the public API at pandas.testing instead.\n",
            "  import pandas.util.testing as tm\n"
          ],
          "name": "stderr"
        }
      ]
    },
    {
      "cell_type": "code",
      "metadata": {
        "id": "CEmLx2eKK8Ff"
      },
      "source": [
        "def parser(x):\n",
        "  return datetime.strptime(x, '%Y-%m')"
      ],
      "execution_count": null,
      "outputs": []
    },
    {
      "cell_type": "code",
      "metadata": {
        "id": "hGR1vDkeS3OG",
        "outputId": "fa9739b6-964b-49b8-d870-1104e0a0020b",
        "colab": {
          "base_uri": "https://localhost:8080/",
          "height": 34
        }
      },
      "source": [
        "example = parser('1995-01')\n",
        "\n",
        "example"
      ],
      "execution_count": null,
      "outputs": [
        {
          "output_type": "execute_result",
          "data": {
            "text/plain": [
              "datetime.datetime(1995, 1, 1, 0, 0)"
            ]
          },
          "metadata": {
            "tags": []
          },
          "execution_count": 27
        }
      ]
    },
    {
      "cell_type": "code",
      "metadata": {
        "id": "CWR8Zo5kLUYe"
      },
      "source": [
        "data = pd.read_csv('/content/drive/My Drive/Datasets/sales.csv', header=0, parse_dates=[0], index_col=0, squeeze=False, date_parser=parser)"
      ],
      "execution_count": null,
      "outputs": []
    },
    {
      "cell_type": "code",
      "metadata": {
        "id": "UiaUMqsHMqtK",
        "outputId": "175c3329-8ae7-4a08-ea1c-9f997410b2fc",
        "colab": {
          "base_uri": "https://localhost:8080/",
          "height": 235
        }
      },
      "source": [
        "data.head()"
      ],
      "execution_count": null,
      "outputs": [
        {
          "output_type": "execute_result",
          "data": {
            "text/html": [
              "<div>\n",
              "<style scoped>\n",
              "    .dataframe tbody tr th:only-of-type {\n",
              "        vertical-align: middle;\n",
              "    }\n",
              "\n",
              "    .dataframe tbody tr th {\n",
              "        vertical-align: top;\n",
              "    }\n",
              "\n",
              "    .dataframe thead th {\n",
              "        text-align: right;\n",
              "    }\n",
              "</style>\n",
              "<table border=\"1\" class=\"dataframe\">\n",
              "  <thead>\n",
              "    <tr style=\"text-align: right;\">\n",
              "      <th></th>\n",
              "      <th>Sales</th>\n",
              "    </tr>\n",
              "    <tr>\n",
              "      <th>Month</th>\n",
              "      <th></th>\n",
              "    </tr>\n",
              "  </thead>\n",
              "  <tbody>\n",
              "    <tr>\n",
              "      <th>1960-01-01</th>\n",
              "      <td>6550</td>\n",
              "    </tr>\n",
              "    <tr>\n",
              "      <th>1960-02-01</th>\n",
              "      <td>8728</td>\n",
              "    </tr>\n",
              "    <tr>\n",
              "      <th>1960-03-01</th>\n",
              "      <td>12026</td>\n",
              "    </tr>\n",
              "    <tr>\n",
              "      <th>1960-04-01</th>\n",
              "      <td>14395</td>\n",
              "    </tr>\n",
              "    <tr>\n",
              "      <th>1960-05-01</th>\n",
              "      <td>14587</td>\n",
              "    </tr>\n",
              "  </tbody>\n",
              "</table>\n",
              "</div>"
            ],
            "text/plain": [
              "            Sales\n",
              "Month            \n",
              "1960-01-01   6550\n",
              "1960-02-01   8728\n",
              "1960-03-01  12026\n",
              "1960-04-01  14395\n",
              "1960-05-01  14587"
            ]
          },
          "metadata": {
            "tags": []
          },
          "execution_count": 8
        }
      ]
    },
    {
      "cell_type": "code",
      "metadata": {
        "id": "sMTLKnG0TBUN",
        "outputId": "5c35f9c6-acf2-47c1-9ccb-c0257f032c8d",
        "colab": {
          "base_uri": "https://localhost:8080/",
          "height": 297
        }
      },
      "source": [
        "data.describe()"
      ],
      "execution_count": null,
      "outputs": [
        {
          "output_type": "execute_result",
          "data": {
            "text/html": [
              "<div>\n",
              "<style scoped>\n",
              "    .dataframe tbody tr th:only-of-type {\n",
              "        vertical-align: middle;\n",
              "    }\n",
              "\n",
              "    .dataframe tbody tr th {\n",
              "        vertical-align: top;\n",
              "    }\n",
              "\n",
              "    .dataframe thead th {\n",
              "        text-align: right;\n",
              "    }\n",
              "</style>\n",
              "<table border=\"1\" class=\"dataframe\">\n",
              "  <thead>\n",
              "    <tr style=\"text-align: right;\">\n",
              "      <th></th>\n",
              "      <th>Sales</th>\n",
              "    </tr>\n",
              "  </thead>\n",
              "  <tbody>\n",
              "    <tr>\n",
              "      <th>count</th>\n",
              "      <td>108.000000</td>\n",
              "    </tr>\n",
              "    <tr>\n",
              "      <th>mean</th>\n",
              "      <td>14595.111111</td>\n",
              "    </tr>\n",
              "    <tr>\n",
              "      <th>std</th>\n",
              "      <td>4525.213913</td>\n",
              "    </tr>\n",
              "    <tr>\n",
              "      <th>min</th>\n",
              "      <td>5568.000000</td>\n",
              "    </tr>\n",
              "    <tr>\n",
              "      <th>25%</th>\n",
              "      <td>11391.250000</td>\n",
              "    </tr>\n",
              "    <tr>\n",
              "      <th>50%</th>\n",
              "      <td>14076.000000</td>\n",
              "    </tr>\n",
              "    <tr>\n",
              "      <th>75%</th>\n",
              "      <td>17595.750000</td>\n",
              "    </tr>\n",
              "    <tr>\n",
              "      <th>max</th>\n",
              "      <td>26099.000000</td>\n",
              "    </tr>\n",
              "  </tbody>\n",
              "</table>\n",
              "</div>"
            ],
            "text/plain": [
              "              Sales\n",
              "count    108.000000\n",
              "mean   14595.111111\n",
              "std     4525.213913\n",
              "min     5568.000000\n",
              "25%    11391.250000\n",
              "50%    14076.000000\n",
              "75%    17595.750000\n",
              "max    26099.000000"
            ]
          },
          "metadata": {
            "tags": []
          },
          "execution_count": 28
        }
      ]
    },
    {
      "cell_type": "code",
      "metadata": {
        "id": "vDS8A0BvMtDN",
        "outputId": "3fdd7c30-8955-4964-c972-ff3b351c839e",
        "colab": {
          "base_uri": "https://localhost:8080/",
          "height": 279
        }
      },
      "source": [
        "data.plot()\n",
        "plt.show()"
      ],
      "execution_count": null,
      "outputs": [
        {
          "output_type": "display_data",
          "data": {
            "image/png": "[encoded data removed]",
            "text/plain": [
              "<Figure size 432x288 with 1 Axes>"
            ]
          },
          "metadata": {
            "tags": [],
            "needs_background": "light"
          }
        }
      ]
    },
    {
      "cell_type": "code",
      "metadata": {
        "id": "exBAhgBlRhKx",
        "outputId": "cc071b1a-2a82-404f-cbe8-05184ce8c959",
        "colab": {
          "base_uri": "https://localhost:8080/",
          "height": 279
        }
      },
      "source": [
        "from pandas.plotting import lag_plot\n",
        "\n",
        "lag_plot(data)\n",
        "plt.show()"
      ],
      "execution_count": null,
      "outputs": [
        {
          "output_type": "display_data",
          "data": {
            "image/png": "[encoded data removed]",
            "text/plain": [
              "<Figure size 432x288 with 1 Axes>"
            ]
          },
          "metadata": {
            "tags": [],
            "needs_background": "light"
          }
        }
      ]
    },
    {
      "cell_type": "markdown",
      "metadata": {
        "id": "EnaKwqRuRrre"
      },
      "source": [
        "Apakah ini problem regression ?"
      ]
    },
    {
      "cell_type": "code",
      "metadata": {
        "id": "cHvhgewlRrRI",
        "outputId": "045c5131-9169-41fc-d17f-33d7e5cde3fc",
        "colab": {
          "base_uri": "https://localhost:8080/",
          "height": 119
        }
      },
      "source": [
        "dataframe = pd.DataFrame()\n",
        "dataframe['month'] = [data.index[i].month for i in range(len(data))]\n",
        "dataframe['sales'] = data['Sales'].values\n",
        "print(dataframe.head(5))"
      ],
      "execution_count": null,
      "outputs": [
        {
          "output_type": "stream",
          "text": [
            "   month  sales\n",
            "0      1   6550\n",
            "1      2   8728\n",
            "2      3  12026\n",
            "3      4  14395\n",
            "4      5  14587\n"
          ],
          "name": "stdout"
        }
      ]
    },
    {
      "cell_type": "code",
      "metadata": {
        "id": "2uDfKCTXTWh8",
        "outputId": "cf29fe8a-daee-44e9-c559-e8884c4f656e",
        "colab": {
          "base_uri": "https://localhost:8080/",
          "height": 281
        }
      },
      "source": [
        "data.hist()\n",
        "plt.show()"
      ],
      "execution_count": null,
      "outputs": [
        {
          "output_type": "display_data",
          "data": {
            "image/png": "[encoded data removed]",
            "text/plain": [
              "<Figure size 432x288 with 1 Axes>"
            ]
          },
          "metadata": {
            "tags": [],
            "needs_background": "light"
          }
        }
      ]
    },
    {
      "cell_type": "code",
      "metadata": {
        "id": "aQLHV8ZxTbKN",
        "outputId": "c5b25b08-9462-48eb-9581-bce45a254971",
        "colab": {
          "base_uri": "https://localhost:8080/",
          "height": 276
        }
      },
      "source": [
        "data.plot(kind='kde')\n",
        "plt.show()"
      ],
      "execution_count": null,
      "outputs": [
        {
          "output_type": "display_data",
          "data": {
            "image/png": "[encoded data removed]",
            "text/plain": [
              "<Figure size 432x288 with 1 Axes>"
            ]
          },
          "metadata": {
            "tags": [],
            "needs_background": "light"
          }
        }
      ]
    },
    {
      "cell_type": "markdown",
      "metadata": {
        "id": "s-LSyYUvTyLP"
      },
      "source": [
        "Box Plot"
      ]
    },
    {
      "cell_type": "code",
      "metadata": {
        "id": "C6FjIUv8TzM2",
        "outputId": "f2e57025-21b5-4a4b-961b-de5937525eb6",
        "colab": {
          "base_uri": "https://localhost:8080/",
          "height": 282
        }
      },
      "source": [
        "groups = data.groupby(pd.Grouper(freq='A'))\n",
        "print(groups)\n",
        "years = pd.DataFrame()\n",
        "for name, group in groups:\n",
        "  years[name.year] = group.values.flatten()\n",
        "years.boxplot()\n",
        "plt.show()"
      ],
      "execution_count": null,
      "outputs": [
        {
          "output_type": "stream",
          "text": [
            "<pandas.core.groupby.generic.DataFrameGroupBy object at 0x7f71f29e5630>\n"
          ],
          "name": "stdout"
        },
        {
          "output_type": "display_data",
          "data": {
            "image/png": "[encoded data removed]",
            "text/plain": [
              "<Figure size 432x288 with 1 Axes>"
            ]
          },
          "metadata": {
            "tags": [],
            "needs_background": "light"
          }
        }
      ]
    },
    {
      "cell_type": "code",
      "metadata": {
        "id": "1KJ6o81KURIM",
        "outputId": "5a99372a-2fd9-4624-973f-2c206d239891",
        "colab": {
          "base_uri": "https://localhost:8080/",
          "height": 265
        }
      },
      "source": [
        "one_year = data['1968']\n",
        "groups = one_year.groupby(pd.Grouper(freq='M'))\n",
        "months = pd.concat([pd.DataFrame(x[1].values) for x in groups], axis=1)\n",
        "months = pd.DataFrame(months)\n",
        "\n",
        "months.columns = range(1, 13)\n",
        "months.boxplot()\n",
        "plt.show()"
      ],
      "execution_count": null,
      "outputs": [
        {
          "output_type": "display_data",
          "data": {
            "image/png": "[encoded data removed]",
            "text/plain": [
              "<Figure size 432x288 with 1 Axes>"
            ]
          },
          "metadata": {
            "tags": [],
            "needs_background": "light"
          }
        }
      ]
    },
    {
      "cell_type": "code",
      "metadata": {
        "id": "l3eT9MQxVLOQ"
      },
      "source": [
        "values = data.values\n",
        "values = values.astype('float32')"
      ],
      "execution_count": null,
      "outputs": []
    },
    {
      "cell_type": "code",
      "metadata": {
        "id": "iaR0dZ59VRhD",
        "outputId": "49eea9fd-e324-463e-82f5-b44c2923a9ee",
        "colab": {
          "base_uri": "https://localhost:8080/",
          "height": 281
        }
      },
      "source": [
        "from statsmodels.graphics.tsaplots import plot_acf\n",
        "\n",
        "plot_acf(data, lags=31, ax=plt.gca())\n",
        "plt.show()"
      ],
      "execution_count": null,
      "outputs": [
        {
          "output_type": "display_data",
          "data": {
            "image/png": "[encoded data removed]",
            "text/plain": [
              "<Figure size 432x288 with 1 Axes>"
            ]
          },
          "metadata": {
            "tags": [],
            "needs_background": "light"
          }
        }
      ]
    },
    {
      "cell_type": "code",
      "metadata": {
        "id": "j4mXxip0VhQN"
      },
      "source": [
        "from statsmodels.tsa.ar_model import AR\n",
        "from sklearn.metrics import mean_squared_error\n",
        "from math import sqrt"
      ],
      "execution_count": null,
      "outputs": []
    },
    {
      "cell_type": "code",
      "metadata": {
        "id": "w634tiUfVjP8"
      },
      "source": [
        "train_size = int(len(values) * 0.80)\n",
        "train, test = values[0:train_size], values[train_size:]"
      ],
      "execution_count": null,
      "outputs": []
    },
    {
      "cell_type": "markdown",
      "metadata": {
        "id": "Al15urqQVlnI"
      },
      "source": [
        "Auto Regression"
      ]
    },
    {
      "cell_type": "code",
      "metadata": {
        "id": "wIFy0jpVVnRj",
        "outputId": "3d220243-a27d-4f94-8e33-7b4b52a48a22",
        "colab": {
          "base_uri": "https://localhost:8080/",
          "height": 1000
        }
      },
      "source": [
        "values = data.values\n",
        "train, test = values[:len(values)-7], values[len(values)-7:]\n",
        "\n",
        "print(len(values))\n",
        "print(values)\n",
        "print(len(values[1:len(values)-7]))\n",
        "print(len(values[len(values)-7:]))"
      ],
      "execution_count": null,
      "outputs": [
        {
          "output_type": "stream",
          "text": [
            "108\n",
            "[[ 6550]\n",
            " [ 8728]\n",
            " [12026]\n",
            " [14395]\n",
            " [14587]\n",
            " [13791]\n",
            " [ 9498]\n",
            " [ 8251]\n",
            " [ 7049]\n",
            " [ 9545]\n",
            " [ 9364]\n",
            " [ 8456]\n",
            " [ 7237]\n",
            " [ 9374]\n",
            " [11837]\n",
            " [13784]\n",
            " [15926]\n",
            " [13821]\n",
            " [11143]\n",
            " [ 7975]\n",
            " [ 7610]\n",
            " [10015]\n",
            " [12759]\n",
            " [ 8816]\n",
            " [10677]\n",
            " [10947]\n",
            " [15200]\n",
            " [17010]\n",
            " [20900]\n",
            " [16205]\n",
            " [12143]\n",
            " [ 8997]\n",
            " [ 5568]\n",
            " [11474]\n",
            " [12256]\n",
            " [10583]\n",
            " [10862]\n",
            " [10965]\n",
            " [14405]\n",
            " [20379]\n",
            " [20128]\n",
            " [17816]\n",
            " [12268]\n",
            " [ 8642]\n",
            " [ 7962]\n",
            " [13932]\n",
            " [15936]\n",
            " [12628]\n",
            " [12267]\n",
            " [12470]\n",
            " [18944]\n",
            " [21259]\n",
            " [22015]\n",
            " [18581]\n",
            " [15175]\n",
            " [10306]\n",
            " [10792]\n",
            " [14752]\n",
            " [13754]\n",
            " [11738]\n",
            " [12181]\n",
            " [12965]\n",
            " [19990]\n",
            " [23125]\n",
            " [23541]\n",
            " [21247]\n",
            " [15189]\n",
            " [14767]\n",
            " [10895]\n",
            " [17130]\n",
            " [17697]\n",
            " [16611]\n",
            " [12674]\n",
            " [12760]\n",
            " [20249]\n",
            " [22135]\n",
            " [20677]\n",
            " [19933]\n",
            " [15388]\n",
            " [15113]\n",
            " [13401]\n",
            " [16135]\n",
            " [17562]\n",
            " [14720]\n",
            " [12225]\n",
            " [11608]\n",
            " [20985]\n",
            " [19692]\n",
            " [24081]\n",
            " [22114]\n",
            " [14220]\n",
            " [13434]\n",
            " [13598]\n",
            " [17187]\n",
            " [16119]\n",
            " [13713]\n",
            " [13210]\n",
            " [14251]\n",
            " [20139]\n",
            " [21725]\n",
            " [26099]\n",
            " [21084]\n",
            " [18024]\n",
            " [16722]\n",
            " [14385]\n",
            " [21342]\n",
            " [17180]\n",
            " [14577]]\n",
            "100\n",
            "7\n"
          ],
          "name": "stdout"
        }
      ]
    },
    {
      "cell_type": "code",
      "metadata": {
        "id": "l3QrZn87VtM7",
        "outputId": "80ad77b4-58fc-4837-c9f9-5b03964fc10e",
        "colab": {
          "base_uri": "https://localhost:8080/",
          "height": 102
        }
      },
      "source": [
        "model = AR(train)\n",
        "model_fit = model.fit()\n",
        "print('Lag:', model_fit.k_ar)\n",
        "print('Coefficients:', model_fit.params)"
      ],
      "execution_count": null,
      "outputs": [
        {
          "output_type": "stream",
          "text": [
            "Lag: 12\n",
            "Coefficients: [ 2.43651673e+03  2.03381611e-01  7.78333271e-02 -9.70823639e-02\n",
            " -8.06346614e-02  1.21767303e-01 -7.47060655e-02  5.66190719e-02\n",
            " -8.47415409e-02 -2.42168681e-02 -5.05744909e-02  2.80738854e-01\n",
            "  5.53052959e-01]\n"
          ],
          "name": "stdout"
        }
      ]
    },
    {
      "cell_type": "code",
      "metadata": {
        "id": "umnVa_mFVywV",
        "outputId": "8d1e2315-e91b-4167-8d83-7ce5b8096ad9",
        "colab": {
          "base_uri": "https://localhost:8080/",
          "height": 153
        }
      },
      "source": [
        "predictions = model_fit.predict(start=len(train), end=len(train)+len(test)-1, dynamic=False) \n",
        "for i in range(len(predictions)):\n",
        "  print('predicted=%f, expected=%f' % (predictions[i], test[i])) \n",
        "  rmse = sqrt(mean_squared_error(test, predictions))\n",
        "\n",
        "print('Test RMSE: %.3f' % rmse)"
      ],
      "execution_count": null,
      "outputs": [
        {
          "output_type": "stream",
          "text": [
            "predicted=21585.128852, expected=21084.000000\n",
            "predicted=15815.729963, expected=18024.000000\n",
            "predicted=14008.784812, expected=16722.000000\n",
            "predicted=14343.126008, expected=14385.000000\n",
            "predicted=17672.790457, expected=21342.000000\n",
            "predicted=16465.186273, expected=17180.000000\n",
            "predicted=14672.831550, expected=14577.000000\n",
            "Test RMSE: 1944.741\n"
          ],
          "name": "stdout"
        }
      ]
    },
    {
      "cell_type": "code",
      "metadata": {
        "id": "RfbzSljaV4MF",
        "outputId": "4018ce6b-79da-44fb-9fca-3d4dbe1b3c4d",
        "colab": {
          "base_uri": "https://localhost:8080/",
          "height": 265
        }
      },
      "source": [
        "plt.plot(test) \n",
        "plt.plot(predictions, color='red') \n",
        "plt.show()"
      ],
      "execution_count": null,
      "outputs": [
        {
          "output_type": "display_data",
          "data": {
            "image/png": "[encoded data removed]",
            "text/plain": [
              "<Figure size 432x288 with 1 Axes>"
            ]
          },
          "metadata": {
            "tags": [],
            "needs_background": "light"
          }
        }
      ]
    },
    {
      "cell_type": "markdown",
      "metadata": {
        "id": "2erCYARPzYgu"
      },
      "source": [
        "***No. 1 Plot dataset yang digunakan***"
      ]
    },
    {
      "cell_type": "code",
      "metadata": {
        "id": "RmO21YhgMur4",
        "outputId": "a2bd021f-c1de-4325-db07-51fb4e24d492",
        "colab": {
          "base_uri": "https://localhost:8080/",
          "height": 283
        }
      },
      "source": [
        "pd.plotting.autocorrelation_plot(data)\n",
        "plt.show()"
      ],
      "execution_count": null,
      "outputs": [
        {
          "output_type": "display_data",
          "data": {
            "image/png": "[encoded data removed]",
            "text/plain": [
              "<Figure size 432x288 with 1 Axes>"
            ]
          },
          "metadata": {
            "tags": [],
            "needs_background": "light"
          }
        }
      ]
    },
    {
      "cell_type": "markdown",
      "metadata": {
        "id": "H18t7lSiNlOW"
      },
      "source": [
        "Terdapat korelasi positif pada rentang angka 0-10, maka akan di coba dengan variable p = 2"
      ]
    },
    {
      "cell_type": "markdown",
      "metadata": {
        "id": "Q8LSjkQGz-87"
      },
      "source": [
        "***No.2***"
      ]
    },
    {
      "cell_type": "markdown",
      "metadata": {
        "id": "ok8Z1LQb0D9h"
      },
      "source": [
        "Pada dataset sales, terdapat trend. Karena data tidak berbentuk stationary, dan grafik output menunjukan kecenderungan terhadap waktu"
      ]
    },
    {
      "cell_type": "markdown",
      "metadata": {
        "id": "DwdF2VtM15I3"
      },
      "source": [
        "***No.3***"
      ]
    },
    {
      "cell_type": "markdown",
      "metadata": {
        "id": "raJOkLEJPwZt"
      },
      "source": [
        "**ARIMA MODEL**"
      ]
    },
    {
      "cell_type": "code",
      "metadata": {
        "id": "rbPdwN3-NBmD"
      },
      "source": [
        "from statsmodels.tsa.arima_model import ARIMA \n",
        "from sklearn.metrics import mean_squared_error\n",
        "from math import sqrt"
      ],
      "execution_count": null,
      "outputs": []
    },
    {
      "cell_type": "code",
      "metadata": {
        "id": "pe6jfgNlNPs3",
        "outputId": "a068c859-a47e-4b39-e340-e3ee220a177a",
        "colab": {
          "base_uri": "https://localhost:8080/",
          "height": 479
        }
      },
      "source": [
        "model = ARIMA(data, order=(2,1,0))\n",
        "model_fit = model.fit(disp=0)\n",
        "print(model_fit.summary())"
      ],
      "execution_count": null,
      "outputs": [
        {
          "output_type": "stream",
          "text": [
            "                             ARIMA Model Results                              \n",
            "==============================================================================\n",
            "Dep. Variable:                D.Sales   No. Observations:                  107\n",
            "Model:                 ARIMA(2, 1, 0)   Log Likelihood               -1016.733\n",
            "Method:                       css-mle   S.D. of innovations           3238.735\n",
            "Date:                Thu, 17 Sep 2020   AIC                           2041.466\n",
            "Time:                        04:04:44   BIC                           2052.157\n",
            "Sample:                    02-01-1960   HQIC                          2045.800\n",
            "                         - 12-01-1968                                         \n",
            "=================================================================================\n",
            "                    coef    std err          z      P>|z|      [0.025      0.975]\n",
            "---------------------------------------------------------------------------------\n",
            "const            76.5216    324.843      0.236      0.814    -560.158     713.201\n",
            "ar.L1.D.Sales     0.1764      0.096      1.845      0.068      -0.011       0.364\n",
            "ar.L2.D.Sales    -0.1413      0.096     -1.468      0.145      -0.330       0.047\n",
            "                                    Roots                                    \n",
            "=============================================================================\n",
            "                  Real          Imaginary           Modulus         Frequency\n",
            "-----------------------------------------------------------------------------\n",
            "AR.1            0.6244           -2.5864j            2.6607           -0.2123\n",
            "AR.2            0.6244           +2.5864j            2.6607            0.2123\n",
            "-----------------------------------------------------------------------------\n"
          ],
          "name": "stdout"
        },
        {
          "output_type": "stream",
          "text": [
            "/usr/local/lib/python3.6/dist-packages/statsmodels/tsa/base/tsa_model.py:165: ValueWarning: No frequency information was provided, so inferred frequency MS will be used.\n",
            "  % freq, ValueWarning)\n",
            "/usr/local/lib/python3.6/dist-packages/statsmodels/tsa/base/tsa_model.py:165: ValueWarning: No frequency information was provided, so inferred frequency MS will be used.\n",
            "  % freq, ValueWarning)\n"
          ],
          "name": "stderr"
        }
      ]
    },
    {
      "cell_type": "code",
      "metadata": {
        "id": "wbDG8vFlPIEP",
        "outputId": "4bb5ce66-2ab7-4a29-bd91-61beb9e9c19f",
        "colab": {
          "base_uri": "https://localhost:8080/",
          "height": 544
        }
      },
      "source": [
        "residuals = pd.DataFrame(model_fit.resid)\n",
        "residuals.plot()\n",
        "plt.show()\n",
        "\n",
        "plt.plot(data)\n",
        "plt.plot(residuals, color='red')\n",
        "plt.legend(['Dataset', 'Residual Error'])"
      ],
      "execution_count": null,
      "outputs": [
        {
          "output_type": "display_data",
          "data": {
            "image/png": "[encoded data removed]",
            "text/plain": [
              "<Figure size 432x288 with 1 Axes>"
            ]
          },
          "metadata": {
            "tags": [],
            "needs_background": "light"
          }
        },
        {
          "output_type": "execute_result",
          "data": {
            "text/plain": [
              "<matplotlib.legend.Legend at 0x7f71f29ffda0>"
            ]
          },
          "metadata": {
            "tags": []
          },
          "execution_count": 19
        },
        {
          "output_type": "display_data",
          "data": {
            "image/png": "[encoded data removed]",
            "text/plain": [
              "<Figure size 432x288 with 1 Axes>"
            ]
          },
          "metadata": {
            "tags": [],
            "needs_background": "light"
          }
        }
      ]
    },
    {
      "cell_type": "code",
      "metadata": {
        "id": "rW15eA8aPgQm",
        "outputId": "0b116a15-928c-4617-f66a-b5d901dd33c1",
        "colab": {
          "base_uri": "https://localhost:8080/",
          "height": 450
        }
      },
      "source": [
        "residuals"
      ],
      "execution_count": null,
      "outputs": [
        {
          "output_type": "execute_result",
          "data": {
            "text/html": [
              "<div>\n",
              "<style scoped>\n",
              "    .dataframe tbody tr th:only-of-type {\n",
              "        vertical-align: middle;\n",
              "    }\n",
              "\n",
              "    .dataframe tbody tr th {\n",
              "        vertical-align: top;\n",
              "    }\n",
              "\n",
              "    .dataframe thead th {\n",
              "        text-align: right;\n",
              "    }\n",
              "</style>\n",
              "<table border=\"1\" class=\"dataframe\">\n",
              "  <thead>\n",
              "    <tr style=\"text-align: right;\">\n",
              "      <th></th>\n",
              "      <th>0</th>\n",
              "    </tr>\n",
              "    <tr>\n",
              "      <th>Month</th>\n",
              "      <th></th>\n",
              "    </tr>\n",
              "  </thead>\n",
              "  <tbody>\n",
              "    <tr>\n",
              "      <th>1960-02-01</th>\n",
              "      <td>2101.478425</td>\n",
              "    </tr>\n",
              "    <tr>\n",
              "      <th>1960-03-01</th>\n",
              "      <td>2896.654509</td>\n",
              "    </tr>\n",
              "    <tr>\n",
              "      <th>1960-04-01</th>\n",
              "      <td>2021.045329</td>\n",
              "    </tr>\n",
              "    <tr>\n",
              "      <th>1960-05-01</th>\n",
              "      <td>166.129828</td>\n",
              "    </tr>\n",
              "    <tr>\n",
              "      <th>1960-06-01</th>\n",
              "      <td>-569.067200</td>\n",
              "    </tr>\n",
              "    <tr>\n",
              "      <th>...</th>\n",
              "      <td>...</td>\n",
              "    </tr>\n",
              "    <tr>\n",
              "      <th>1968-08-01</th>\n",
              "      <td>-1544.435068</td>\n",
              "    </tr>\n",
              "    <tr>\n",
              "      <th>1968-09-01</th>\n",
              "      <td>-2613.397077</td>\n",
              "    </tr>\n",
              "    <tr>\n",
              "      <th>1968-10-01</th>\n",
              "      <td>7111.507128</td>\n",
              "    </tr>\n",
              "    <tr>\n",
              "      <th>1968-11-01</th>\n",
              "      <td>-5793.181639</td>\n",
              "    </tr>\n",
              "    <tr>\n",
              "      <th>1968-12-01</th>\n",
              "      <td>-959.928508</td>\n",
              "    </tr>\n",
              "  </tbody>\n",
              "</table>\n",
              "<p>107 rows × 1 columns</p>\n",
              "</div>"
            ],
            "text/plain": [
              "                      0\n",
              "Month                  \n",
              "1960-02-01  2101.478425\n",
              "1960-03-01  2896.654509\n",
              "1960-04-01  2021.045329\n",
              "1960-05-01   166.129828\n",
              "1960-06-01  -569.067200\n",
              "...                 ...\n",
              "1968-08-01 -1544.435068\n",
              "1968-09-01 -2613.397077\n",
              "1968-10-01  7111.507128\n",
              "1968-11-01 -5793.181639\n",
              "1968-12-01  -959.928508\n",
              "\n",
              "[107 rows x 1 columns]"
            ]
          },
          "metadata": {
            "tags": []
          },
          "execution_count": 20
        }
      ]
    },
    {
      "cell_type": "code",
      "metadata": {
        "id": "BvZQt1GAPkin",
        "outputId": "db4804be-6d3a-44c5-cc5f-7e2f4aec0f11",
        "colab": {
          "base_uri": "https://localhost:8080/",
          "height": 170
        }
      },
      "source": [
        "print(residuals.describe())"
      ],
      "execution_count": null,
      "outputs": [
        {
          "output_type": "stream",
          "text": [
            "                 0\n",
            "count   107.000000\n",
            "mean      3.694041\n",
            "std    3254.493956\n",
            "min   -7000.877106\n",
            "25%   -2038.157156\n",
            "50%    -303.267287\n",
            "75%    1940.369505\n",
            "max    9059.576217\n"
          ],
          "name": "stdout"
        }
      ]
    },
    {
      "cell_type": "markdown",
      "metadata": {
        "id": "LKI5iSOtP4Bm"
      },
      "source": [
        "Rolling Forecast ARIMA Model (Predictions)"
      ]
    },
    {
      "cell_type": "code",
      "metadata": {
        "id": "LWOQ6nS8P-Kt",
        "outputId": "67d8d681-a22a-4929-adf6-b4136c6c5a52",
        "colab": {
          "base_uri": "https://localhost:8080/",
          "height": 408
        }
      },
      "source": [
        "values = data.values\n",
        "size = int(len(values)* 0.80)\n",
        "train, test = values[0:size], values[size:len(values)]\n",
        "history = [x for x in train]\n",
        "predictions = []\n",
        "\n",
        "for t in range(len(test)):\n",
        "  model = ARIMA(history, order=(2,1,0))\n",
        "  model_fit = model.fit(disp=0)\n",
        "  output = model_fit.forecast()\n",
        "  prediction = output[0]\n",
        "  predictions.append(prediction)\n",
        "  expected = test[t]\n",
        "  history.append(expected)\n",
        "  print('predicted=%f, expected=%f' % (prediction, expected))\n",
        "error = sqrt(mean_squared_error(test, predictions))\n",
        "print('Test RMSE: %.3f' % error)"
      ],
      "execution_count": null,
      "outputs": [
        {
          "output_type": "stream",
          "text": [
            "predicted=11989.999319, expected=20985.000000\n",
            "predicted=24143.379985, expected=19692.000000\n",
            "predicted=17422.787867, expected=24081.000000\n",
            "predicted=25463.326627, expected=22114.000000\n",
            "predicted=21245.462669, expected=14220.000000\n",
            "predicted=12777.364854, expected=13434.000000\n",
            "predicted=14705.647789, expected=13598.000000\n",
            "predicted=13834.175165, expected=17187.000000\n",
            "predicted=18091.339788, expected=16119.000000\n",
            "predicted=15368.133087, expected=13713.000000\n",
            "predicted=13420.550945, expected=13210.000000\n",
            "predicted=13577.816778, expected=14251.000000\n",
            "predicted=14646.889108, expected=20139.000000\n",
            "predicted=21451.251286, expected=21725.000000\n",
            "predicted=21176.705157, expected=26099.000000\n",
            "predicted=27067.722996, expected=21084.000000\n",
            "predicted=19460.218739, expected=18024.000000\n",
            "predicted=18270.360372, expected=16722.000000\n",
            "predicted=16999.048307, expected=14385.000000\n",
            "predicted=14116.589721, expected=21342.000000\n",
            "predicted=23311.833482, expected=17180.000000\n",
            "predicted=15614.275620, expected=14577.000000\n",
            "Test RMSE: 4359.450\n"
          ],
          "name": "stdout"
        }
      ]
    },
    {
      "cell_type": "code",
      "metadata": {
        "id": "cvm19_hIY93N",
        "outputId": "78b564d9-8d5c-4083-a133-68b287ec5172",
        "colab": {
          "base_uri": "https://localhost:8080/",
          "height": 282
        }
      },
      "source": [
        "plt.plot(test)\n",
        "plt.plot(predictions, color='red')\n",
        "plt.legend(['test', 'predictions'])"
      ],
      "execution_count": null,
      "outputs": [
        {
          "output_type": "execute_result",
          "data": {
            "text/plain": [
              "<matplotlib.legend.Legend at 0x7f71f268dd30>"
            ]
          },
          "metadata": {
            "tags": []
          },
          "execution_count": 47
        },
        {
          "output_type": "display_data",
          "data": {
            "image/png": "[encoded data removed]",
            "text/plain": [
              "<Figure size 432x288 with 1 Axes>"
            ]
          },
          "metadata": {
            "tags": [],
            "needs_background": "light"
          }
        }
      ]
    },
    {
      "cell_type": "code",
      "metadata": {
        "id": "YI0VBxtnZH8a"
      },
      "source": [
        "# Courtesy of Jason Brownlee of Machine Learning Mastery\n",
        "# evaluate an ARIMA model for a given order (p,d,q)\n",
        "def evaluate_arima_model(X, arima_order):\n",
        "\t# prepare training dataset\n",
        "\ttrain_size = int(len(X) * 0.80)\n",
        "\ttrain, test = X[0:train_size], X[train_size:]\n",
        "\thistory = [x for x in train]\n",
        "\t# make predictions\n",
        "\tpredictions = list()\n",
        "\tfor t in range(len(test)):\n",
        "\t\tmodel = ARIMA(history, order=arima_order)\n",
        "\t\tmodel_fit = model.fit(disp=0)\n",
        "\t\tyhat = model_fit.forecast()[0]\n",
        "\t\tpredictions.append(yhat)\n",
        "\t\thistory.append(test[t])\n",
        "\t# calculate out of sample error\n",
        "\terror = mean_squared_error(test, predictions)\n",
        "\treturn error\n",
        "\n",
        "  # evaluate combinations of p, d and q values for an ARIMA model\n",
        "def evaluate_models(dataset, p_values, d_values, q_values):\n",
        "\tdataset = dataset.astype('float32')\n",
        "\tbest_score, best_cfg = float(\"inf\"), None\n",
        "\tfor p in p_values:\n",
        "\t\tfor d in d_values:\n",
        "\t\t\tfor q in q_values:\n",
        "\t\t\t\torder = (p,d,q)\n",
        "\t\t\t\ttry:\n",
        "\t\t\t\t\tmse = evaluate_arima_model(dataset, order)\n",
        "\t\t\t\t\tif mse < best_score:\n",
        "\t\t\t\t\t\tbest_score, best_cfg = mse, order\n",
        "\t\t\t\t\tprint('ARIMA%s MSE=%.3f' % (order,mse))\n",
        "\t\t\t\texcept:\n",
        "\t\t\t\t\tcontinue\n",
        "\tprint('Best ARIMA%s MSE=%.3f' % (best_cfg, best_score))"
      ],
      "execution_count": null,
      "outputs": []
    },
    {
      "cell_type": "code",
      "metadata": {
        "id": "OXSiK4MZZfKr",
        "outputId": "1d111ebf-d1d4-4adf-9e86-eb95db459a5c",
        "colab": {
          "base_uri": "https://localhost:8080/",
          "height": 816
        }
      },
      "source": [
        "import warnings\n",
        "\n",
        "p_values = range(0, 10)\n",
        "d_values = range(0, 3)\n",
        "q_values = range(0, 3)\n",
        "warnings.filterwarnings(\"ignore\")\n",
        "evaluate_models(values, p_values, d_values, q_values)"
      ],
      "execution_count": null,
      "outputs": [
        {
          "output_type": "stream",
          "text": [
            "ARIMA(0, 0, 0) MSE=28195232.967\n",
            "ARIMA(0, 0, 1) MSE=17145492.120\n",
            "ARIMA(0, 1, 0) MSE=16861609.466\n",
            "ARIMA(0, 1, 1) MSE=18339183.147\n",
            "ARIMA(0, 1, 2) MSE=18918102.089\n",
            "ARIMA(0, 2, 0) MSE=35488071.035\n",
            "ARIMA(0, 2, 1) MSE=17453329.339\n",
            "ARIMA(0, 2, 2) MSE=18936017.603\n",
            "ARIMA(1, 0, 0) MSE=14646375.971\n",
            "ARIMA(1, 0, 1) MSE=15400642.327\n",
            "ARIMA(1, 0, 2) MSE=14395783.904\n",
            "ARIMA(1, 1, 0) MSE=18139717.723\n",
            "ARIMA(1, 2, 0) MSE=28656053.352\n",
            "ARIMA(2, 0, 0) MSE=15687644.365\n",
            "ARIMA(2, 0, 1) MSE=15670737.813\n",
            "ARIMA(2, 0, 2) MSE=15826335.021\n",
            "ARIMA(2, 1, 0) MSE=19004805.727\n",
            "ARIMA(2, 2, 0) MSE=28801193.471\n",
            "ARIMA(3, 0, 0) MSE=15634584.625\n",
            "ARIMA(3, 0, 1) MSE=13471106.021\n",
            "ARIMA(3, 1, 0) MSE=16305321.929\n",
            "ARIMA(3, 2, 0) MSE=28949134.372\n",
            "ARIMA(4, 0, 0) MSE=14949955.594\n",
            "ARIMA(4, 0, 1) MSE=14224920.551\n",
            "ARIMA(4, 1, 0) MSE=14169479.835\n",
            "ARIMA(4, 2, 0) MSE=16506855.098\n",
            "ARIMA(5, 0, 0) MSE=13843033.695\n",
            "ARIMA(5, 0, 1) MSE=16166058.193\n",
            "ARIMA(5, 1, 0) MSE=13176496.773\n",
            "ARIMA(5, 2, 0) MSE=16454940.752\n",
            "ARIMA(6, 0, 0) MSE=12206660.474\n",
            "ARIMA(6, 0, 1) MSE=12292229.639\n",
            "ARIMA(6, 1, 0) MSE=13150420.138\n",
            "ARIMA(6, 2, 0) MSE=15915364.896\n",
            "ARIMA(7, 0, 0) MSE=12390184.757\n",
            "ARIMA(7, 0, 1) MSE=12546344.926\n",
            "ARIMA(7, 1, 0) MSE=13790374.863\n",
            "ARIMA(7, 2, 0) MSE=15142210.801\n",
            "ARIMA(8, 0, 0) MSE=12774485.837\n",
            "ARIMA(8, 1, 0) MSE=9355707.897\n",
            "ARIMA(8, 1, 1) MSE=5920975.187\n",
            "ARIMA(8, 2, 0) MSE=14991808.051\n",
            "ARIMA(9, 0, 0) MSE=9475710.563\n",
            "ARIMA(9, 0, 1) MSE=22775621.689\n",
            "ARIMA(9, 1, 0) MSE=7624403.311\n",
            "ARIMA(9, 2, 0) MSE=14815890.959\n",
            "Best ARIMA(8, 1, 1) MSE=5920975.187\n"
          ],
          "name": "stdout"
        }
      ]
    },
    {
      "cell_type": "code",
      "metadata": {
        "id": "R_Bm86ctExt7",
        "outputId": "5ec53674-68c7-446e-f088-6d95812be98c",
        "colab": {
          "base_uri": "https://localhost:8080/",
          "height": 34
        }
      },
      "source": [
        "print('RMSE ARIMA(8,1,1) :', sqrt(5920975.187))"
      ],
      "execution_count": null,
      "outputs": [
        {
          "output_type": "stream",
          "text": [
            "RMSE ARIMA(8,1,1) : 2433.305403561172\n"
          ],
          "name": "stdout"
        }
      ]
    },
    {
      "cell_type": "markdown",
      "metadata": {
        "id": "f2KumOrJ2A1T"
      },
      "source": [
        "Hyperparameter terbaik untuk ARIMA (p=8, q=1, d=1).\n",
        "p=8 maka legnya 8, d = 1 karena grafik tidak stationary artinya dibutuhkan 1 agar grafiknya menjadi stationary. q nilai parameter moving averagenya adalah 1.\n",
        "Nilai RMSE ARIMA terbaik = 2433.305403561172"
      ]
    },
    {
      "cell_type": "markdown",
      "metadata": {
        "id": "LV790NB1FQgK"
      },
      "source": [
        "***No.4***"
      ]
    },
    {
      "cell_type": "markdown",
      "metadata": {
        "id": "7-WCfGKZaon1"
      },
      "source": [
        "**SARIMA**"
      ]
    },
    {
      "cell_type": "code",
      "metadata": {
        "id": "n1pICSfw5h92",
        "outputId": "30acfbfb-8cba-456d-b055-b42e756ffc6f",
        "colab": {
          "base_uri": "https://localhost:8080/",
          "height": 235
        }
      },
      "source": [
        "data.head()"
      ],
      "execution_count": null,
      "outputs": [
        {
          "output_type": "execute_result",
          "data": {
            "text/html": [
              "<div>\n",
              "<style scoped>\n",
              "    .dataframe tbody tr th:only-of-type {\n",
              "        vertical-align: middle;\n",
              "    }\n",
              "\n",
              "    .dataframe tbody tr th {\n",
              "        vertical-align: top;\n",
              "    }\n",
              "\n",
              "    .dataframe thead th {\n",
              "        text-align: right;\n",
              "    }\n",
              "</style>\n",
              "<table border=\"1\" class=\"dataframe\">\n",
              "  <thead>\n",
              "    <tr style=\"text-align: right;\">\n",
              "      <th></th>\n",
              "      <th>Sales</th>\n",
              "    </tr>\n",
              "    <tr>\n",
              "      <th>Month</th>\n",
              "      <th></th>\n",
              "    </tr>\n",
              "  </thead>\n",
              "  <tbody>\n",
              "    <tr>\n",
              "      <th>1960-01-01</th>\n",
              "      <td>6550</td>\n",
              "    </tr>\n",
              "    <tr>\n",
              "      <th>1960-02-01</th>\n",
              "      <td>8728</td>\n",
              "    </tr>\n",
              "    <tr>\n",
              "      <th>1960-03-01</th>\n",
              "      <td>12026</td>\n",
              "    </tr>\n",
              "    <tr>\n",
              "      <th>1960-04-01</th>\n",
              "      <td>14395</td>\n",
              "    </tr>\n",
              "    <tr>\n",
              "      <th>1960-05-01</th>\n",
              "      <td>14587</td>\n",
              "    </tr>\n",
              "  </tbody>\n",
              "</table>\n",
              "</div>"
            ],
            "text/plain": [
              "            Sales\n",
              "Month            \n",
              "1960-01-01   6550\n",
              "1960-02-01   8728\n",
              "1960-03-01  12026\n",
              "1960-04-01  14395\n",
              "1960-05-01  14587"
            ]
          },
          "metadata": {
            "tags": []
          },
          "execution_count": 89
        }
      ]
    },
    {
      "cell_type": "code",
      "metadata": {
        "id": "U7ftZ3DgamzV"
      },
      "source": [
        "from multiprocessing import cpu_count\n",
        "from joblib import Parallel\n",
        "from joblib import delayed\n",
        "from warnings import catch_warnings\n",
        "from warnings import filterwarnings\n",
        "from statsmodels.tsa.statespace.sarimax import SARIMAX"
      ],
      "execution_count": null,
      "outputs": []
    },
    {
      "cell_type": "code",
      "metadata": {
        "id": "xknL_ap54bne"
      },
      "source": [
        "# dataset = pd.read_csv('/content/drive/My Drive/Datasets/sales.csv', header=0, parse_dates=[0], index_col=0, squeeze=False, date_parser=parser)"
      ],
      "execution_count": null,
      "outputs": []
    },
    {
      "cell_type": "code",
      "metadata": {
        "id": "9ZMvp0mqcfXl"
      },
      "source": [
        "# Courtesy of Jason Brownlee of Machine Learning Mastery\n",
        "# one-step sarima forecast\n",
        "def sarima_forecast(history, config):\n",
        "\torder, sorder, trend = config\n",
        "\t# define model\n",
        "\tmodel = SARIMAX(history, order=order, seasonal_order=sorder, trend=trend, enforce_stationarity=False, enforce_invertibility=False)\n",
        "\t# fit model\n",
        "\tmodel_fit = model.fit(disp=False)\n",
        "\t# make one step forecast\n",
        "\tyhat = model_fit.predict(len(history), len(history))\n",
        "\treturn yhat[0]\n",
        "\n",
        "# root mean squared error or rmse\n",
        "def measure_rmse(actual, predicted):\n",
        "\treturn sqrt(mean_squared_error(actual, predicted))\n",
        "\n",
        "# split a univariate dataset into train/test sets\n",
        "def train_test_split(data, n_test):\n",
        "\treturn data[:-n_test], data[-n_test:]\n",
        "\n",
        "# walk-forward validation for univariate data\n",
        "def walk_forward_validation(data, n_test, cfg):\n",
        "\tpredictions = list()\n",
        "\t# split dataset\n",
        "\ttrain, test = train_test_split(data, n_test)\n",
        "\t# seed history with training dataset\n",
        "\thistory = [x for x in train]\n",
        "\t# step over each time-step in the test set\n",
        "\tfor i in range(len(test)):\n",
        "\t\t# fit model and make forecast for history\n",
        "\t\tyhat = sarima_forecast(history, cfg)\n",
        "\t\t# store forecast in list of predictions\n",
        "\t\tpredictions.append(yhat)\n",
        "\t\t# add actual observation to history for the next loop\n",
        "\t\thistory.append(test[i])\n",
        "\t# estimate prediction error\n",
        "\terror = measure_rmse(test, predictions)\n",
        "\treturn error\n",
        "\n",
        "# score a model, return None on failure\n",
        "def score_model(data, n_test, cfg, debug=False):\n",
        "\tresult = None\n",
        "\t# convert config to a key\n",
        "\tkey = str(cfg)\n",
        "\t# show all warnings and fail on exception if debugging\n",
        "\tif debug:\n",
        "\t\tresult = walk_forward_validation(data, n_test, cfg)\n",
        "\telse:\n",
        "\t\t# one failure during model validation suggests an unstable config\n",
        "\t\ttry:\n",
        "\t\t\t# never show warnings when grid searching, too noisy\n",
        "\t\t\twith catch_warnings():\n",
        "\t\t\t\tfilterwarnings(\"ignore\")\n",
        "\t\t\t\tresult = walk_forward_validation(data, n_test, cfg)\n",
        "\t\texcept:\n",
        "\t\t\terror = None\n",
        "\t# check for an interesting result\n",
        "\tif result is not None:\n",
        "\t\tprint(' > Model[%s] %.3f' % (key, result))\n",
        "\treturn (key, result)\n",
        "\n",
        "# grid search configs\n",
        "def grid_search(data, cfg_list, n_test, parallel=True):\n",
        "\tscores = None\n",
        "\tif parallel:\n",
        "\t\t# execute configs in parallel\n",
        "\t\texecutor = Parallel(n_jobs=cpu_count(), backend='multiprocessing')\n",
        "\t\ttasks = (delayed(score_model)(data, n_test, cfg) for cfg in cfg_list)\n",
        "\t\tscores = executor(tasks)\n",
        "\telse:\n",
        "\t\tscores = [score_model(data, n_test, cfg) for cfg in cfg_list]\n",
        "\t# remove empty results\n",
        "\tscores = [r for r in scores if r[1] != None]\n",
        "\t# sort configs by error, asc\n",
        "\tscores.sort(key=lambda tup: tup[1])\n",
        "\treturn scores\n",
        "\n",
        "# create a set of sarima configs to try\n",
        "def sarima_configs(seasonal=[0]):\n",
        "\tmodels = list()\n",
        "\t# define config lists\n",
        "\tp_params = [0, 1, 2]\n",
        "\td_params = [0, 1]\n",
        "\tq_params = [0, 1, 2]\n",
        "\tt_params = ['n','c','t','ct']\n",
        "\tP_params = [0, 1, 2]\n",
        "\tD_params = [0, 1]\n",
        "\tQ_params = [0, 1, 2]\n",
        "\tm_params = seasonal\n",
        "\t# create config instances\n",
        "\tfor p in p_params:\n",
        "\t\tfor d in d_params:\n",
        "\t\t\tfor q in q_params:\n",
        "\t\t\t\tfor t in t_params:\n",
        "\t\t\t\t\tfor P in P_params:\n",
        "\t\t\t\t\t\tfor D in D_params:\n",
        "\t\t\t\t\t\t\tfor Q in Q_params:\n",
        "\t\t\t\t\t\t\t\tfor m in m_params:\n",
        "\t\t\t\t\t\t\t\t\tcfg = [(p,d,q), (P,D,Q,m), t]\n",
        "\t\t\t\t\t\t\t\t\tmodels.append(cfg)\n",
        "\treturn models"
      ],
      "execution_count": null,
      "outputs": []
    },
    {
      "cell_type": "code",
      "metadata": {
        "id": "DRYzfGQ8tBdu",
        "outputId": "295d6fb1-3299-404f-8227-04caa7e97565",
        "colab": {
          "base_uri": "https://localhost:8080/",
          "height": 1000
        }
      },
      "source": [
        "n_test = 12\n",
        "\n",
        "# model configs\n",
        "cfg_list = sarima_configs()\n",
        "\n",
        "# grid search\n",
        "scores = grid_search(data.values, cfg_list, n_test)\n",
        "print('done')\n",
        "\n",
        "# list top 3 configs\n",
        "for cfg, error in scores[:3]:\n",
        "  print(cfg, error)"
      ],
      "execution_count": null,
      "outputs": [
        {
          "output_type": "stream",
          "text": [
            " > Model[[(0, 0, 0), (0, 0, 0, 0), 'n']] 18608.652\n",
            " > Model[[(0, 0, 0), (0, 0, 1, 0), 'n']] 9928.438\n",
            " > Model[[(0, 0, 0), (1, 0, 0, 0), 'n']] 3798.000\n",
            " > Model[[(0, 0, 0), (0, 0, 2, 0), 'n']] 7278.585\n",
            " > Model[[(0, 0, 0), (1, 0, 1, 0), 'n']] 3942.265\n",
            " > Model[[(0, 0, 0), (1, 0, 2, 0), 'n']] 3852.155\n",
            " > Model[[(0, 0, 0), (2, 0, 0, 0), 'n']] 3924.991\n",
            " > Model[[(0, 0, 0), (2, 0, 1, 0), 'n']] 3949.171\n",
            " > Model[[(0, 0, 0), (0, 0, 0, 0), 'c']] 5399.238\n",
            " > Model[[(0, 0, 0), (0, 0, 1, 0), 'c']] 4061.377\n",
            " > Model[[(0, 0, 0), (2, 0, 2, 0), 'n']] 3440.470\n",
            " > Model[[(0, 0, 0), (0, 0, 2, 0), 'c']] 4130.492\n",
            " > Model[[(0, 0, 0), (1, 0, 0, 0), 'c']] 3502.309\n",
            " > Model[[(0, 0, 0), (1, 0, 1, 0), 'c']] 3816.618\n",
            " > Model[[(0, 0, 0), (1, 0, 2, 0), 'c']] 3478.543\n",
            " > Model[[(0, 0, 0), (2, 0, 0, 0), 'c']] 4094.032\n",
            " > Model[[(0, 0, 0), (2, 0, 1, 0), 'c']] 3493.332\n",
            " > Model[[(0, 0, 0), (0, 0, 0, 0), 't']] 6760.052\n",
            " > Model[[(0, 0, 0), (2, 0, 2, 0), 'c']] 3378.390\n",
            " > Model[[(0, 0, 0), (0, 0, 1, 0), 't']] 4512.298\n",
            " > Model[[(0, 0, 0), (1, 0, 0, 0), 't']] 3719.235\n",
            " > Model[[(0, 0, 0), (0, 0, 2, 0), 't']] 4333.994\n",
            " > Model[[(0, 0, 0), (1, 0, 1, 0), 't']] 3837.964\n",
            " > Model[[(0, 0, 0), (1, 0, 2, 0), 't']] 3874.801\n",
            " > Model[[(0, 0, 0), (2, 0, 0, 0), 't']] 3861.619\n",
            " > Model[[(0, 0, 0), (2, 0, 1, 0), 't']] 4119.187\n",
            " > Model[[(0, 0, 0), (0, 0, 0, 0), 'ct']] 3867.394\n",
            " > Model[[(0, 0, 0), (0, 0, 1, 0), 'ct']] 3391.172\n",
            " > Model[[(0, 0, 0), (2, 0, 2, 0), 't']] 3782.970\n",
            " > Model[[(0, 0, 0), (1, 0, 0, 0), 'ct']] 3631.271\n",
            " > Model[[(0, 0, 0), (0, 0, 2, 0), 'ct']] 3961.023\n",
            " > Model[[(0, 0, 0), (1, 0, 1, 0), 'ct']] 3395.923\n",
            " > Model[[(0, 0, 0), (2, 0, 0, 0), 'ct']] 3395.480\n",
            " > Model[[(0, 0, 0), (1, 0, 2, 0), 'ct']] 3096.665\n",
            " > Model[[(0, 0, 0), (2, 0, 1, 0), 'ct']] 3142.532\n",
            " > Model[[(0, 0, 1), (0, 0, 0, 0), 'n']] 9928.438\n",
            " > Model[[(0, 0, 1), (0, 0, 1, 0), 'n']] 8286.831\n",
            " > Model[[(0, 0, 0), (2, 0, 2, 0), 'ct']] 2958.984\n",
            " > Model[[(0, 0, 1), (0, 0, 2, 0), 'n']] 5453.551\n",
            " > Model[[(0, 0, 1), (1, 0, 0, 0), 'n']] 3588.620\n",
            " > Model[[(0, 0, 1), (1, 0, 1, 0), 'n']] 3865.535\n",
            " > Model[[(0, 0, 1), (1, 0, 2, 0), 'n']] 3598.468\n",
            " > Model[[(0, 0, 1), (2, 0, 0, 0), 'n']] 3775.107\n",
            " > Model[[(0, 0, 1), (2, 0, 1, 0), 'n']] 3522.402\n",
            " > Model[[(0, 0, 1), (2, 0, 2, 0), 'n']] 3467.924\n",
            " > Model[[(0, 0, 1), (0, 0, 0, 0), 'c']] 4076.477\n",
            " > Model[[(0, 0, 1), (0, 0, 1, 0), 'c']] 3977.094\n",
            " > Model[[(0, 0, 1), (1, 0, 0, 0), 'c']] 4183.375\n",
            " > Model[[(0, 0, 1), (1, 0, 1, 0), 'c']] 3834.972\n",
            " > Model[[(0, 0, 1), (0, 0, 2, 0), 'c']] 3261.219\n",
            " > Model[[(0, 0, 1), (2, 0, 0, 0), 'c']] 3493.627\n",
            " > Model[[(0, 0, 1), (1, 0, 2, 0), 'c']] 3292.307\n",
            " > Model[[(0, 0, 1), (2, 0, 1, 0), 'c']] 3654.971\n",
            " > Model[[(0, 0, 1), (0, 0, 0, 0), 't']] 4608.453\n",
            " > Model[[(0, 0, 1), (0, 0, 1, 0), 't']] 4490.198\n",
            " > Model[[(0, 0, 1), (2, 0, 2, 0), 'c']] 3231.688\n",
            " > Model[[(0, 0, 1), (0, 0, 2, 0), 't']] 4223.415\n",
            " > Model[[(0, 0, 1), (1, 0, 0, 0), 't']] 3800.806\n",
            " > Model[[(0, 0, 1), (1, 0, 1, 0), 't']] 3562.973\n",
            " > Model[[(0, 0, 1), (1, 0, 2, 0), 't']] 3751.702\n",
            " > Model[[(0, 0, 1), (2, 0, 0, 0), 't']] 3877.856\n",
            " > Model[[(0, 0, 1), (2, 0, 1, 0), 't']] 3956.326\n",
            " > Model[[(0, 0, 1), (0, 0, 0, 0), 'ct']] 3364.611\n",
            " > Model[[(0, 0, 1), (2, 0, 2, 0), 't']] 3531.402\n",
            " > Model[[(0, 0, 1), (0, 0, 1, 0), 'ct']] 3388.891\n",
            " > Model[[(0, 0, 1), (1, 0, 0, 0), 'ct']] 3399.822\n",
            " > Model[[(0, 0, 1), (0, 0, 2, 0), 'ct']] 3187.651\n",
            " > Model[[(0, 0, 1), (1, 0, 1, 0), 'ct']] 3426.643\n",
            " > Model[[(0, 0, 1), (1, 0, 2, 0), 'ct']] 3263.286\n",
            " > Model[[(0, 0, 1), (2, 0, 0, 0), 'ct']] 3614.558\n",
            " > Model[[(0, 0, 1), (2, 0, 1, 0), 'ct']] 3412.859\n",
            " > Model[[(0, 0, 2), (0, 0, 0, 0), 'n']] 7278.585\n",
            " > Model[[(0, 0, 2), (0, 0, 1, 0), 'n']] 5229.858\n",
            " > Model[[(0, 0, 1), (2, 0, 2, 0), 'ct']] 3037.054\n",
            " > Model[[(0, 0, 2), (0, 0, 2, 0), 'n']] 8986.551\n",
            " > Model[[(0, 0, 2), (1, 0, 0, 0), 'n']] 4811.668\n",
            " > Model[[(0, 0, 2), (1, 0, 1, 0), 'n']] 3210.346\n",
            " > Model[[(0, 0, 2), (1, 0, 2, 0), 'n']] 3242.388\n",
            " > Model[[(0, 0, 2), (2, 0, 0, 0), 'n']] 4550.350\n",
            " > Model[[(0, 0, 2), (2, 0, 1, 0), 'n']] 3511.564\n",
            " > Model[[(0, 0, 2), (0, 0, 0, 0), 'c']] 3638.692\n",
            " > Model[[(0, 0, 2), (0, 0, 1, 0), 'c']] 3350.736\n",
            " > Model[[(0, 0, 2), (2, 0, 2, 0), 'n']] 3390.663\n",
            " > Model[[(0, 0, 2), (0, 0, 2, 0), 'c']] 3313.468\n",
            " > Model[[(0, 0, 2), (1, 0, 0, 0), 'c']] 3473.622\n",
            " > Model[[(0, 0, 2), (1, 0, 1, 0), 'c']] 3294.031\n",
            " > Model[[(0, 0, 2), (2, 0, 0, 0), 'c']] 3335.859\n",
            " > Model[[(0, 0, 2), (1, 0, 2, 0), 'c']] 3276.788\n",
            " > Model[[(0, 0, 2), (2, 0, 1, 0), 'c']] 3145.978\n",
            " > Model[[(0, 0, 2), (2, 0, 2, 0), 'c']] 3125.481\n",
            " > Model[[(0, 0, 2), (0, 0, 0, 0), 't']] 4451.221\n",
            " > Model[[(0, 0, 2), (0, 0, 1, 0), 't']] 3421.723\n",
            " > Model[[(0, 0, 2), (0, 0, 2, 0), 't']] 4083.552\n",
            " > Model[[(0, 0, 2), (1, 0, 0, 0), 't']] 4291.709\n",
            " > Model[[(0, 0, 2), (1, 0, 1, 0), 't']] 3428.481\n",
            " > Model[[(0, 0, 2), (1, 0, 2, 0), 't']] 3575.029\n",
            " > Model[[(0, 0, 2), (2, 0, 0, 0), 't']] 4250.799\n",
            " > Model[[(0, 0, 2), (2, 0, 1, 0), 't']] 3445.415\n",
            " > Model[[(0, 0, 2), (0, 0, 0, 0), 'ct']] 3303.563\n",
            " > Model[[(0, 0, 2), (2, 0, 2, 0), 't']] 3822.403\n",
            " > Model[[(0, 0, 2), (0, 0, 1, 0), 'ct']] 3023.318\n",
            " > Model[[(0, 0, 2), (1, 0, 0, 0), 'ct']] 3241.447\n",
            " > Model[[(0, 0, 2), (0, 0, 2, 0), 'ct']] 3144.097\n",
            " > Model[[(0, 0, 2), (1, 0, 1, 0), 'ct']] 3206.676\n",
            " > Model[[(0, 0, 2), (1, 0, 2, 0), 'ct']] 3096.377\n",
            " > Model[[(0, 0, 2), (2, 0, 0, 0), 'ct']] 3011.268\n",
            " > Model[[(0, 0, 2), (2, 0, 2, 0), 'ct']] 2624.271\n",
            " > Model[[(0, 1, 0), (0, 0, 0, 0), 'n']] 3783.966\n",
            " > Model[[(0, 1, 0), (0, 0, 1, 0), 'n']] 3924.486\n",
            " > Model[[(0, 0, 2), (2, 0, 1, 0), 'ct']] 3196.679\n",
            " > Model[[(0, 1, 0), (1, 0, 0, 0), 'n']] 3908.362\n",
            " > Model[[(0, 1, 0), (0, 0, 2, 0), 'n']] 4151.712\n",
            " > Model[[(0, 1, 0), (1, 0, 1, 0), 'n']] 3462.165\n",
            " > Model[[(0, 1, 0), (2, 0, 0, 0), 'n']] 3988.495\n",
            " > Model[[(0, 1, 0), (1, 0, 2, 0), 'n']] 3517.692\n",
            " > Model[[(0, 1, 0), (2, 0, 1, 0), 'n']] 3543.891\n",
            " > Model[[(0, 1, 0), (2, 0, 2, 0), 'n']] 3221.606\n",
            " > Model[[(0, 1, 0), (0, 0, 0, 0), 'c']] 3801.923\n",
            " > Model[[(0, 1, 0), (0, 0, 1, 0), 'c']] 3942.510\n",
            " > Model[[(0, 1, 0), (1, 0, 0, 0), 'c']] 3931.281\n",
            " > Model[[(0, 1, 0), (0, 0, 2, 0), 'c']] 4051.310\n",
            " > Model[[(0, 1, 0), (1, 0, 1, 0), 'c']] 3748.460\n",
            " > Model[[(0, 1, 0), (2, 0, 0, 0), 'c']] 4006.816\n",
            " > Model[[(0, 1, 0), (1, 0, 2, 0), 'c']] 3420.140\n",
            " > Model[[(0, 1, 0), (2, 0, 2, 0), 'c']] 3239.715\n",
            " > Model[[(0, 1, 0), (0, 0, 0, 0), 't']] 3839.965\n",
            " > Model[[(0, 1, 0), (0, 0, 1, 0), 't']] 3977.761\n",
            " > Model[[(0, 1, 0), (2, 0, 1, 0), 'c']] 3410.493\n",
            " > Model[[(0, 1, 0), (1, 0, 0, 0), 't']] 3966.852\n",
            " > Model[[(0, 1, 0), (0, 0, 2, 0), 't']] 4129.187\n",
            " > Model[[(0, 1, 0), (1, 0, 1, 0), 't']] 3449.468\n",
            " > Model[[(0, 1, 0), (2, 0, 0, 0), 't']] 4049.121\n",
            " > Model[[(0, 1, 0), (1, 0, 2, 0), 't']] 3517.675\n",
            " > Model[[(0, 1, 0), (2, 0, 1, 0), 't']] 3550.572\n",
            " > Model[[(0, 1, 0), (0, 0, 0, 0), 'ct']] 3860.890\n",
            " > Model[[(0, 1, 0), (2, 0, 2, 0), 't']] 3288.945\n",
            " > Model[[(0, 1, 0), (0, 0, 1, 0), 'ct']] 3995.987\n",
            " > Model[[(0, 1, 0), (1, 0, 0, 0), 'ct']] 3987.617\n",
            " > Model[[(0, 1, 0), (0, 0, 2, 0), 'ct']] 4121.677\n",
            " > Model[[(0, 1, 0), (1, 0, 1, 0), 'ct']] 3366.268\n",
            " > Model[[(0, 1, 0), (2, 0, 0, 0), 'ct']] 4069.692\n",
            " > Model[[(0, 1, 0), (1, 0, 2, 0), 'ct']] 3565.475\n",
            " > Model[[(0, 1, 0), (2, 0, 2, 0), 'ct']] 3279.697\n",
            " > Model[[(0, 1, 1), (0, 0, 0, 0), 'n']] 3924.486\n",
            " > Model[[(0, 1, 1), (0, 0, 1, 0), 'n']] 3925.194\n",
            " > Model[[(0, 1, 0), (2, 0, 1, 0), 'ct']] 3479.677\n",
            " > Model[[(0, 1, 1), (1, 0, 0, 0), 'n']] 3929.771\n",
            " > Model[[(0, 1, 1), (0, 0, 2, 0), 'n']] 3542.124\n",
            " > Model[[(0, 1, 1), (1, 0, 1, 0), 'n']] 3499.261\n",
            " > Model[[(0, 1, 1), (1, 0, 2, 0), 'n']] 3523.662\n",
            " > Model[[(0, 1, 1), (2, 0, 0, 0), 'n']] 3528.144\n",
            " > Model[[(0, 1, 1), (2, 0, 2, 0), 'n']] 2962.842\n",
            " > Model[[(0, 1, 1), (2, 0, 1, 0), 'n']] 3614.119\n",
            " > Model[[(0, 1, 1), (0, 0, 0, 0), 'c']] 3941.456\n",
            " > Model[[(0, 1, 1), (0, 0, 1, 0), 'c']] 3942.286\n",
            " > Model[[(0, 1, 1), (1, 0, 0, 0), 'c']] 3947.451\n",
            " > Model[[(0, 1, 1), (0, 0, 2, 0), 'c']] 3633.037\n",
            " > Model[[(0, 1, 1), (1, 0, 1, 0), 'c']] 3391.665\n",
            " > Model[[(0, 1, 1), (1, 0, 2, 0), 'c']] 3422.938\n",
            " > Model[[(0, 1, 1), (2, 0, 0, 0), 'c']] 3411.965\n",
            " > Model[[(0, 1, 1), (2, 0, 2, 0), 'c']] 2979.419\n",
            " > Model[[(0, 1, 1), (0, 0, 0, 0), 't']] 3977.415\n",
            " > Model[[(0, 1, 1), (0, 0, 1, 0), 't']] 3977.815\n",
            " > Model[[(0, 1, 1), (2, 0, 1, 0), 'c']] 3383.880\n",
            " > Model[[(0, 1, 1), (1, 0, 0, 0), 't']] 3984.955\n",
            " > Model[[(0, 1, 1), (0, 0, 2, 0), 't']] 3535.155\n",
            " > Model[[(0, 1, 1), (1, 0, 1, 0), 't']] 3519.650\n",
            " > Model[[(0, 1, 1), (1, 0, 2, 0), 't']] 3526.525\n",
            " > Model[[(0, 1, 1), (2, 0, 0, 0), 't']] 3547.153\n",
            " > Model[[(0, 1, 1), (2, 0, 2, 0), 't']] 3018.742\n",
            " > Model[[(0, 1, 1), (2, 0, 1, 0), 't']] 3445.566\n",
            " > Model[[(0, 1, 1), (0, 0, 0, 0), 'ct']] 3996.987\n",
            " > Model[[(0, 1, 1), (0, 0, 1, 0), 'ct']] 3996.758\n",
            " > Model[[(0, 1, 1), (1, 0, 0, 0), 'ct']] 4005.474\n",
            " > Model[[(0, 1, 1), (0, 0, 2, 0), 'ct']] 3589.755\n",
            " > Model[[(0, 1, 1), (1, 0, 1, 0), 'ct']] 3638.480\n",
            " > Model[[(0, 1, 1), (2, 0, 0, 0), 'ct']] 3623.804\n",
            " > Model[[(0, 1, 1), (1, 0, 2, 0), 'ct']] 3525.246\n",
            " > Model[[(0, 1, 1), (2, 0, 2, 0), 'ct']] 3034.446\n",
            " > Model[[(0, 1, 2), (0, 0, 0, 0), 'n']] 4151.712\n",
            " > Model[[(0, 1, 2), (0, 0, 1, 0), 'n']] 3542.313\n",
            " > Model[[(0, 1, 1), (2, 0, 1, 0), 'ct']] 3204.700\n",
            " > Model[[(0, 1, 2), (0, 0, 2, 0), 'n']] 3966.111\n",
            " > Model[[(0, 1, 2), (1, 0, 0, 0), 'n']] 3516.550\n",
            " > Model[[(0, 1, 2), (1, 0, 1, 0), 'n']] 3201.809\n",
            " > Model[[(0, 1, 2), (2, 0, 0, 0), 'n']] 3298.402\n",
            " > Model[[(0, 1, 2), (1, 0, 2, 0), 'n']] 2900.588\n",
            " > Model[[(0, 1, 2), (2, 0, 2, 0), 'n']] 2919.749\n",
            " > Model[[(0, 1, 2), (2, 0, 1, 0), 'n']] 3179.113\n",
            " > Model[[(0, 1, 2), (0, 0, 0, 0), 'c']] 4038.640\n",
            " > Model[[(0, 1, 2), (0, 0, 1, 0), 'c']] 3425.010\n",
            " > Model[[(0, 1, 2), (0, 0, 2, 0), 'c']] 3210.500\n",
            " > Model[[(0, 1, 2), (1, 0, 0, 0), 'c']] 3407.785\n",
            " > Model[[(0, 1, 2), (1, 0, 1, 0), 'c']] 3277.379\n",
            " > Model[[(0, 1, 2), (2, 0, 0, 0), 'c']] 3253.425\n",
            " > Model[[(0, 1, 2), (1, 0, 2, 0), 'c']] 3155.556\n",
            " > Model[[(0, 1, 2), (2, 0, 2, 0), 'c']] 2944.370\n",
            " > Model[[(0, 1, 2), (0, 0, 0, 0), 't']] 4134.212\n",
            " > Model[[(0, 1, 2), (2, 0, 1, 0), 'c']] 2763.120\n",
            " > Model[[(0, 1, 2), (0, 0, 1, 0), 't']] 3535.408\n",
            " > Model[[(0, 1, 2), (0, 0, 2, 0), 't']] 3526.717\n",
            " > Model[[(0, 1, 2), (1, 0, 0, 0), 't']] 3521.045\n",
            " > Model[[(0, 1, 2), (1, 0, 1, 0), 't']] 3322.502\n",
            " > Model[[(0, 1, 2), (1, 0, 2, 0), 't']] 2996.785\n",
            " > Model[[(0, 1, 2), (2, 0, 0, 0), 't']] 3341.307\n",
            " > Model[[(0, 1, 2), (2, 0, 1, 0), 't']] 3087.495\n",
            " > Model[[(0, 1, 2), (2, 0, 2, 0), 't']] 2977.550\n",
            " > Model[[(0, 1, 2), (0, 0, 0, 0), 'ct']] 4186.845\n",
            " > Model[[(0, 1, 2), (0, 0, 1, 0), 'ct']] 3666.212\n",
            " > Model[[(0, 1, 2), (1, 0, 0, 0), 'ct']] 3420.613\n",
            " > Model[[(0, 1, 2), (0, 0, 2, 0), 'ct']] 3146.881\n",
            " > Model[[(0, 1, 2), (1, 0, 1, 0), 'ct']] 3105.464\n",
            " > Model[[(0, 1, 2), (1, 0, 2, 0), 'ct']] 2999.468\n",
            " > Model[[(0, 1, 2), (2, 0, 0, 0), 'ct']] 3233.802\n",
            " > Model[[(0, 1, 2), (2, 0, 1, 0), 'ct']] 3345.976\n",
            " > Model[[(1, 0, 0), (0, 0, 0, 0), 'n']] 3798.000\n",
            " > Model[[(0, 1, 2), (2, 0, 2, 0), 'ct']] 3019.240\n",
            " > Model[[(1, 0, 0), (0, 0, 1, 0), 'n']] 4244.340\n",
            " > Model[[(1, 0, 0), (1, 0, 0, 0), 'n']] 4455.098\n",
            " > Model[[(1, 0, 0), (0, 0, 2, 0), 'n']] 4043.579\n",
            " > Model[[(1, 0, 0), (1, 0, 1, 0), 'n']] 3700.873\n",
            " > Model[[(1, 0, 0), (2, 0, 0, 0), 'n']] 3937.405\n",
            " > Model[[(1, 0, 0), (1, 0, 2, 0), 'n']] 3441.002\n",
            " > Model[[(1, 0, 0), (2, 0, 1, 0), 'n']] 3946.381\n",
            " > Model[[(1, 0, 0), (0, 0, 0, 0), 'c']] 3561.688\n",
            " > Model[[(1, 0, 0), (0, 0, 1, 0), 'c']] 3999.498\n",
            " > Model[[(1, 0, 0), (2, 0, 2, 0), 'n']] 3525.404\n",
            " > Model[[(1, 0, 0), (0, 0, 2, 0), 'c']] 3413.861\n",
            " > Model[[(1, 0, 0), (1, 0, 0, 0), 'c']] 3608.080\n",
            " > Model[[(1, 0, 0), (1, 0, 1, 0), 'c']] 3641.315\n",
            " > Model[[(1, 0, 0), (1, 0, 2, 0), 'c']] 3582.580\n",
            " > Model[[(1, 0, 0), (2, 0, 0, 0), 'c']] 3697.977\n",
            " > Model[[(1, 0, 0), (2, 0, 1, 0), 'c']] 3724.541\n",
            " > Model[[(1, 0, 0), (2, 0, 2, 0), 'c']] 3171.625\n",
            " > Model[[(1, 0, 0), (0, 0, 0, 0), 't']] 3719.263\n",
            " > Model[[(1, 0, 0), (0, 0, 2, 0), 't']] 3312.325\n",
            " > Model[[(1, 0, 0), (0, 0, 1, 0), 't']] 4026.436\n",
            " > Model[[(1, 0, 0), (1, 0, 0, 0), 't']] 3861.852\n",
            " > Model[[(1, 0, 0), (1, 0, 1, 0), 't']] 3874.136\n",
            " > Model[[(1, 0, 0), (2, 0, 0, 0), 't']] 3871.369\n",
            " > Model[[(1, 0, 0), (1, 0, 2, 0), 't']] 3902.791\n",
            " > Model[[(1, 0, 0), (2, 0, 1, 0), 't']] 3861.714\n",
            " > Model[[(1, 0, 0), (2, 0, 2, 0), 't']] 3409.624\n",
            " > Model[[(1, 0, 0), (0, 0, 0, 0), 'ct']] 3384.027\n",
            " > Model[[(1, 0, 0), (0, 0, 1, 0), 'ct']] 3862.393\n",
            " > Model[[(1, 0, 0), (0, 0, 2, 0), 'ct']] 3201.621\n",
            " > Model[[(1, 0, 0), (1, 0, 0, 0), 'ct']] 3370.697\n",
            " > Model[[(1, 0, 0), (1, 0, 1, 0), 'ct']] 3419.554\n",
            " > Model[[(1, 0, 0), (1, 0, 2, 0), 'ct']] 3318.668\n",
            " > Model[[(1, 0, 0), (2, 0, 0, 0), 'ct']] 3421.609\n",
            " > Model[[(1, 0, 0), (2, 0, 1, 0), 'ct']] 3244.688\n",
            " > Model[[(1, 0, 0), (2, 0, 2, 0), 'ct']] 2953.949\n",
            " > Model[[(1, 0, 1), (0, 0, 0, 0), 'n']] 3942.265\n",
            " > Model[[(1, 0, 1), (0, 0, 1, 0), 'n']] 3308.163\n",
            " > Model[[(1, 0, 1), (0, 0, 2, 0), 'n']] 3546.467\n",
            " > Model[[(1, 0, 1), (1, 0, 0, 0), 'n']] 3699.695\n",
            " > Model[[(1, 0, 1), (1, 0, 1, 0), 'n']] 4204.000\n",
            " > Model[[(1, 0, 1), (2, 0, 0, 0), 'n']] 3999.815\n",
            " > Model[[(1, 0, 1), (2, 0, 1, 0), 'n']] 3944.570\n",
            " > Model[[(1, 0, 1), (1, 0, 2, 0), 'n']] 3454.448\n",
            " > Model[[(1, 0, 1), (0, 0, 0, 0), 'c']] 3657.860\n",
            " > Model[[(1, 0, 1), (0, 0, 1, 0), 'c']] 3857.012\n",
            " > Model[[(1, 0, 1), (2, 0, 2, 0), 'n']] 3409.945\n",
            " > Model[[(1, 0, 1), (0, 0, 2, 0), 'c']] 3537.627\n",
            " > Model[[(1, 0, 1), (1, 0, 0, 0), 'c']] 3640.418\n",
            " > Model[[(1, 0, 1), (1, 0, 1, 0), 'c']] 3648.270\n",
            " > Model[[(1, 0, 1), (1, 0, 2, 0), 'c']] 3340.275\n",
            " > Model[[(1, 0, 1), (2, 0, 0, 0), 'c']] 3701.874\n",
            " > Model[[(1, 0, 1), (2, 0, 2, 0), 'c']] 3037.828\n",
            " > Model[[(1, 0, 1), (2, 0, 1, 0), 'c']] 3703.007\n",
            " > Model[[(1, 0, 1), (0, 0, 0, 0), 't']] 3814.259\n",
            " > Model[[(1, 0, 1), (0, 0, 1, 0), 't']] 3603.003\n",
            " > Model[[(1, 0, 1), (0, 0, 2, 0), 't']] 4063.115\n",
            " > Model[[(1, 0, 1), (1, 0, 0, 0), 't']] 3863.934\n",
            " > Model[[(1, 0, 1), (1, 0, 1, 0), 't']] 3869.963\n",
            " > Model[[(1, 0, 1), (2, 0, 0, 0), 't']] 3876.819\n",
            " > Model[[(1, 0, 1), (1, 0, 2, 0), 't']] 3308.638\n",
            " > Model[[(1, 0, 1), (2, 0, 1, 0), 't']] 3880.407\n",
            " > Model[[(1, 0, 1), (0, 0, 0, 0), 'ct']] 3443.233\n",
            " > Model[[(1, 0, 1), (2, 0, 2, 0), 't']] 3100.918\n",
            " > Model[[(1, 0, 1), (0, 0, 1, 0), 'ct']] 3465.387\n",
            " > Model[[(1, 0, 1), (1, 0, 0, 0), 'ct']] 3423.376\n",
            " > Model[[(1, 0, 1), (0, 0, 2, 0), 'ct']] 3215.283\n",
            " > Model[[(1, 0, 1), (1, 0, 1, 0), 'ct']] 3423.069\n",
            " > Model[[(1, 0, 1), (2, 0, 0, 0), 'ct']] 3289.392\n",
            " > Model[[(1, 0, 1), (1, 0, 2, 0), 'ct']] 3131.163\n",
            " > Model[[(1, 0, 1), (2, 0, 2, 0), 'ct']] 2803.297\n",
            " > Model[[(1, 0, 1), (2, 0, 1, 0), 'ct']] 3147.718\n",
            " > Model[[(1, 0, 2), (0, 0, 0, 0), 'n']] 3852.155\n",
            " > Model[[(1, 0, 2), (0, 0, 1, 0), 'n']] 4343.847\n",
            " > Model[[(1, 0, 2), (0, 0, 2, 0), 'n']] 3869.148\n",
            " > Model[[(1, 0, 2), (1, 0, 0, 0), 'n']] 3441.406\n",
            " > Model[[(1, 0, 2), (1, 0, 2, 0), 'n']] 3553.934\n",
            " > Model[[(1, 0, 2), (1, 0, 1, 0), 'n']] 3455.130\n",
            " > Model[[(1, 0, 2), (2, 0, 0, 0), 'n']] 3634.892\n",
            " > Model[[(1, 0, 2), (2, 0, 1, 0), 'n']] 3478.762\n",
            " > Model[[(1, 0, 2), (0, 0, 0, 0), 'c']] 3414.163\n",
            " > Model[[(1, 0, 2), (0, 0, 1, 0), 'c']] 3748.803\n",
            " > Model[[(1, 0, 2), (0, 0, 2, 0), 'c']] 3485.694\n",
            " > Model[[(1, 0, 2), (1, 0, 0, 0), 'c']] 3395.201\n",
            " > Model[[(1, 0, 2), (2, 0, 2, 0), 'n']] 3180.341\n",
            " > Model[[(1, 0, 2), (1, 0, 1, 0), 'c']] 3354.452\n",
            " > Model[[(1, 0, 2), (1, 0, 2, 0), 'c']] 3466.388\n",
            " > Model[[(1, 0, 2), (2, 0, 0, 0), 'c']] 3158.931\n",
            " > Model[[(1, 0, 2), (2, 0, 1, 0), 'c']] 3127.286\n",
            " > Model[[(1, 0, 2), (2, 0, 2, 0), 'c']] 2729.701\n",
            " > Model[[(1, 0, 2), (0, 0, 0, 0), 't']] 3604.817\n",
            " > Model[[(1, 0, 2), (0, 0, 1, 0), 't']] 3665.396\n",
            " > Model[[(1, 0, 2), (0, 0, 2, 0), 't']] 3718.527\n",
            " > Model[[(1, 0, 2), (1, 0, 0, 0), 't']] 3622.860\n",
            " > Model[[(1, 0, 2), (1, 0, 1, 0), 't']] 3751.772\n",
            " > Model[[(1, 0, 2), (1, 0, 2, 0), 't']] 3399.902\n",
            " > Model[[(1, 0, 2), (2, 0, 0, 0), 't']] 3421.687\n",
            " > Model[[(1, 0, 2), (2, 0, 1, 0), 't']] 3618.640\n",
            " > Model[[(1, 0, 2), (2, 0, 2, 0), 't']] 2930.952\n",
            " > Model[[(1, 0, 2), (0, 0, 0, 0), 'ct']] 3221.466\n",
            " > Model[[(1, 0, 2), (0, 0, 1, 0), 'ct']] 3124.903\n",
            " > Model[[(1, 0, 2), (0, 0, 2, 0), 'ct']] 3124.573\n",
            " > Model[[(1, 0, 2), (1, 0, 0, 0), 'ct']] 3207.426\n",
            " > Model[[(1, 0, 2), (1, 0, 1, 0), 'ct']] 3048.942\n",
            " > Model[[(1, 0, 2), (2, 0, 0, 0), 'ct']] 3044.564\n",
            " > Model[[(1, 0, 2), (1, 0, 2, 0), 'ct']] 3230.518\n",
            " > Model[[(1, 0, 2), (2, 0, 2, 0), 'ct']] 2597.165\n",
            " > Model[[(1, 1, 0), (0, 0, 0, 0), 'n']] 3908.362\n",
            " > Model[[(1, 1, 0), (0, 0, 1, 0), 'n']] 3929.761\n",
            " > Model[[(1, 0, 2), (2, 0, 1, 0), 'ct']] 3056.384\n",
            " > Model[[(1, 1, 0), (1, 0, 0, 0), 'n']] 3920.003\n",
            " > Model[[(1, 1, 0), (0, 0, 2, 0), 'n']] 3518.429\n",
            " > Model[[(1, 1, 0), (1, 0, 1, 0), 'n']] 3502.615\n",
            " > Model[[(1, 1, 0), (2, 0, 0, 0), 'n']] 3660.736\n",
            " > Model[[(1, 1, 0), (1, 0, 2, 0), 'n']] 3515.178\n",
            " > Model[[(1, 1, 0), (2, 0, 1, 0), 'n']] 3357.803\n",
            " > Model[[(1, 1, 0), (0, 0, 0, 0), 'c']] 3927.050\n",
            " > Model[[(1, 1, 0), (2, 0, 2, 0), 'n']] 2920.211\n",
            " > Model[[(1, 1, 0), (0, 0, 1, 0), 'c']] 3946.269\n",
            " > Model[[(1, 1, 0), (1, 0, 0, 0), 'c']] 3939.070\n",
            " > Model[[(1, 1, 0), (0, 0, 2, 0), 'c']] 3422.524\n",
            " > Model[[(1, 1, 0), (1, 0, 1, 0), 'c']] 3370.027\n",
            " > Model[[(1, 1, 0), (2, 0, 0, 0), 'c']] 3673.218\n",
            " > Model[[(1, 1, 0), (1, 0, 2, 0), 'c']] 3443.014\n",
            " > Model[[(1, 1, 0), (2, 0, 1, 0), 'c']] 3189.838\n",
            " > Model[[(1, 1, 0), (2, 0, 2, 0), 'c']] 2929.864\n",
            " > Model[[(1, 1, 0), (0, 0, 0, 0), 't']] 3967.219\n",
            " > Model[[(1, 1, 0), (0, 0, 1, 0), 't']] 3985.053\n",
            " > Model[[(1, 1, 0), (1, 0, 0, 0), 't']] 3979.149\n",
            " > Model[[(1, 1, 0), (0, 0, 2, 0), 't']] 3519.131\n",
            " > Model[[(1, 1, 0), (1, 0, 1, 0), 't']] 3448.671\n",
            " > Model[[(1, 1, 0), (1, 0, 2, 0), 't']] 3507.803\n",
            " > Model[[(1, 1, 0), (2, 0, 0, 0), 't']] 3719.510\n",
            " > Model[[(1, 1, 0), (2, 0, 2, 0), 't']] 2971.690\n",
            " > Model[[(1, 1, 0), (2, 0, 1, 0), 't']] 3326.006\n",
            " > Model[[(1, 1, 0), (0, 0, 0, 0), 'ct']] 3987.132\n",
            " > Model[[(1, 1, 0), (0, 0, 1, 0), 'ct']] 4001.472\n",
            " > Model[[(1, 1, 0), (1, 0, 0, 0), 'ct']] 3999.050\n",
            " > Model[[(1, 1, 0), (0, 0, 2, 0), 'ct']] 3409.419\n",
            " > Model[[(1, 1, 0), (1, 0, 1, 0), 'ct']] 3453.391\n",
            " > Model[[(1, 1, 0), (1, 0, 2, 0), 'ct']] 3508.895\n",
            " > Model[[(1, 1, 0), (2, 0, 0, 0), 'ct']] 3732.054\n",
            " > Model[[(1, 1, 0), (2, 0, 2, 0), 'ct']] 2985.860\n",
            " > Model[[(1, 1, 1), (0, 0, 0, 0), 'n']] 3462.165\n",
            " > Model[[(1, 1, 0), (2, 0, 1, 0), 'ct']] 3242.325\n",
            " > Model[[(1, 1, 1), (0, 0, 1, 0), 'n']] 3510.766\n",
            " > Model[[(1, 1, 1), (1, 0, 0, 0), 'n']] 3501.556\n",
            " > Model[[(1, 1, 1), (0, 0, 2, 0), 'n']] 3254.561\n",
            " > Model[[(1, 1, 1), (1, 0, 1, 0), 'n']] 3383.724\n",
            " > Model[[(1, 1, 1), (1, 0, 2, 0), 'n']] 3390.041\n",
            " > Model[[(1, 1, 1), (2, 0, 0, 0), 'n']] 3287.939\n",
            " > Model[[(1, 1, 1), (2, 0, 2, 0), 'n']] 2816.296\n",
            " > Model[[(1, 1, 1), (2, 0, 1, 0), 'n']] 3239.190\n",
            " > Model[[(1, 1, 1), (0, 0, 0, 0), 'c']] 3370.703\n",
            " > Model[[(1, 1, 1), (0, 0, 1, 0), 'c']] 3422.275\n",
            " > Model[[(1, 1, 1), (1, 0, 0, 0), 'c']] 3369.823\n",
            " > Model[[(1, 1, 1), (0, 0, 2, 0), 'c']] 3311.248\n",
            " > Model[[(1, 1, 1), (1, 0, 1, 0), 'c']] 3690.462\n",
            " > Model[[(1, 1, 1), (1, 0, 2, 0), 'c']] 3147.772\n",
            " > Model[[(1, 1, 1), (2, 0, 0, 0), 'c']] 3231.795\n",
            " > Model[[(1, 1, 1), (2, 0, 1, 0), 'c']] 2978.109\n",
            " > Model[[(1, 1, 1), (0, 0, 0, 0), 't']] 3449.462\n",
            " > Model[[(1, 1, 1), (2, 0, 2, 0), 'c']] 2725.046\n",
            " > Model[[(1, 1, 1), (0, 0, 1, 0), 't']] 3519.254\n",
            " > Model[[(1, 1, 1), (1, 0, 0, 0), 't']] 3448.700\n",
            " > Model[[(1, 1, 1), (0, 0, 2, 0), 't']] 3327.622\n",
            " > Model[[(1, 1, 1), (1, 0, 1, 0), 't']] 3650.049\n",
            " > Model[[(1, 1, 1), (1, 0, 2, 0), 't']] 3376.708\n",
            " > Model[[(1, 1, 1), (2, 0, 0, 0), 't']] 3323.151\n",
            " > Model[[(1, 1, 1), (2, 0, 1, 0), 't']] 3599.013\n",
            " > Model[[(1, 1, 1), (2, 0, 2, 0), 't']] 2776.722\n",
            " > Model[[(1, 1, 1), (0, 0, 0, 0), 'ct']] 3469.988\n",
            " > Model[[(1, 1, 1), (0, 0, 1, 0), 'ct']] 3500.812\n",
            " > Model[[(1, 1, 1), (0, 0, 2, 0), 'ct']] 3666.447\n",
            " > Model[[(1, 1, 1), (1, 0, 0, 0), 'ct']] 3461.470\n",
            " > Model[[(1, 1, 1), (1, 0, 1, 0), 'ct']] 3550.340\n",
            " > Model[[(1, 1, 1), (1, 0, 2, 0), 'ct']] 3461.697\n",
            " > Model[[(1, 1, 1), (2, 0, 0, 0), 'ct']] 3270.482\n",
            " > Model[[(1, 1, 1), (2, 0, 1, 0), 'ct']] 3238.940\n",
            " > Model[[(1, 1, 2), (0, 0, 0, 0), 'n']] 3517.692\n",
            " > Model[[(1, 1, 2), (0, 0, 1, 0), 'n']] 3524.482\n",
            " > Model[[(1, 1, 1), (2, 0, 2, 0), 'ct']] 2970.483\n",
            " > Model[[(1, 1, 2), (1, 0, 0, 0), 'n']] 3515.168\n",
            " > Model[[(1, 1, 2), (0, 0, 2, 0), 'n']] 2910.522\n",
            " > Model[[(1, 1, 2), (1, 0, 1, 0), 'n']] 3460.327\n",
            " > Model[[(1, 1, 2), (1, 0, 2, 0), 'n']] 3454.402\n",
            " > Model[[(1, 1, 2), (2, 0, 0, 0), 'n']] 3421.563\n",
            " > Model[[(1, 1, 2), (2, 0, 1, 0), 'n']] 3488.300\n",
            " > Model[[(1, 1, 2), (0, 0, 0, 0), 'c']] 3420.311\n",
            " > Model[[(1, 1, 2), (2, 0, 2, 0), 'n']] 2998.613\n",
            " > Model[[(1, 1, 2), (0, 0, 1, 0), 'c']] 3441.126\n",
            " > Model[[(1, 1, 2), (0, 0, 2, 0), 'c']] 3030.167\n",
            " > Model[[(1, 1, 2), (1, 0, 0, 0), 'c']] 3418.853\n",
            " > Model[[(1, 1, 2), (1, 0, 1, 0), 'c']] 3614.438\n",
            " > Model[[(1, 1, 2), (1, 0, 2, 0), 'c']] 3093.998\n",
            " > Model[[(1, 1, 2), (2, 0, 0, 0), 'c']] 3223.835\n",
            " > Model[[(1, 1, 2), (2, 0, 1, 0), 'c']] 2605.703\n",
            " > Model[[(1, 1, 2), (2, 0, 2, 0), 'c']] 2815.966\n",
            " > Model[[(1, 1, 2), (0, 0, 0, 0), 't']] 3517.267\n",
            " > Model[[(1, 1, 2), (0, 0, 1, 0), 't']] 3525.816\n",
            " > Model[[(1, 1, 2), (1, 0, 0, 0), 't']] 3509.069\n",
            " > Model[[(1, 1, 2), (0, 0, 2, 0), 't']] 2991.978\n",
            " > Model[[(1, 1, 2), (1, 0, 1, 0), 't']] 3866.862\n",
            " > Model[[(1, 1, 2), (1, 0, 2, 0), 't']] 3039.685\n",
            " > Model[[(1, 1, 2), (2, 0, 0, 0), 't']] 3494.773\n",
            " > Model[[(1, 1, 2), (2, 0, 1, 0), 't']] 2838.408\n",
            " > Model[[(1, 1, 2), (0, 0, 0, 0), 'ct']] 3547.412\n",
            " > Model[[(1, 1, 2), (2, 0, 2, 0), 't']] 2631.324\n",
            " > Model[[(1, 1, 2), (0, 0, 1, 0), 'ct']] 3655.855\n",
            " > Model[[(1, 1, 2), (0, 0, 2, 0), 'ct']] 2790.192\n",
            " > Model[[(1, 1, 2), (1, 0, 0, 0), 'ct']] 3591.363\n",
            " > Model[[(1, 1, 2), (1, 0, 1, 0), 'ct']] 3942.900\n",
            " > Model[[(1, 1, 2), (1, 0, 2, 0), 'ct']] 3094.337\n",
            " > Model[[(1, 1, 2), (2, 0, 0, 0), 'ct']] 3195.835\n",
            " > Model[[(1, 1, 2), (2, 0, 1, 0), 'ct']] 3119.014\n",
            " > Model[[(2, 0, 0), (0, 0, 0, 0), 'n']] 3924.991\n",
            " > Model[[(1, 1, 2), (2, 0, 2, 0), 'ct']] 2909.136\n",
            " > Model[[(2, 0, 0), (0, 0, 1, 0), 'n']] 3767.973\n",
            " > Model[[(2, 0, 0), (1, 0, 0, 0), 'n']] 3937.405\n",
            " > Model[[(2, 0, 0), (0, 0, 2, 0), 'n']] 3627.136\n",
            " > Model[[(2, 0, 0), (1, 0, 1, 0), 'n']] 3999.692\n",
            " > Model[[(2, 0, 0), (2, 0, 0, 0), 'n']] 4209.084\n",
            " > Model[[(2, 0, 0), (2, 0, 1, 0), 'n']] 3266.062\n",
            " > Model[[(2, 0, 0), (1, 0, 2, 0), 'n']] 3530.558\n",
            " > Model[[(2, 0, 0), (0, 0, 0, 0), 'c']] 3708.604\n",
            " > Model[[(2, 0, 0), (0, 0, 1, 0), 'c']] 3761.501\n",
            " > Model[[(2, 0, 0), (0, 0, 2, 0), 'c']] 3294.908\n",
            " > Model[[(2, 0, 0), (2, 0, 2, 0), 'n']] 3221.093\n",
            " > Model[[(2, 0, 0), (1, 0, 0, 0), 'c']] 3682.912\n",
            " > Model[[(2, 0, 0), (1, 0, 1, 0), 'c']] 3684.093\n",
            " > Model[[(2, 0, 0), (1, 0, 2, 0), 'c']] 3141.800\n",
            " > Model[[(2, 0, 0), (2, 0, 1, 0), 'c']] 3534.628\n",
            " > Model[[(2, 0, 0), (2, 0, 0, 0), 'c']] 3453.276\n",
            " > Model[[(2, 0, 0), (0, 0, 0, 0), 't']] 3858.110\n",
            " > Model[[(2, 0, 0), (0, 0, 1, 0), 't']] 3610.854\n",
            " > Model[[(2, 0, 0), (2, 0, 2, 0), 'c']] 2988.051\n",
            " > Model[[(2, 0, 0), (1, 0, 0, 0), 't']] 3863.194\n",
            " > Model[[(2, 0, 0), (0, 0, 2, 0), 't']] 3594.468\n",
            " > Model[[(2, 0, 0), (1, 0, 1, 0), 't']] 3830.655\n",
            " > Model[[(2, 0, 0), (1, 0, 2, 0), 't']] 3398.247\n",
            " > Model[[(2, 0, 0), (2, 0, 0, 0), 't']] 3674.858\n",
            " > Model[[(2, 0, 0), (2, 0, 1, 0), 't']] 3553.955\n",
            " > Model[[(2, 0, 0), (0, 0, 0, 0), 'ct']] 3407.525\n",
            " > Model[[(2, 0, 0), (0, 0, 1, 0), 'ct']] 3291.282\n",
            " > Model[[(2, 0, 0), (2, 0, 2, 0), 't']] 3055.817\n",
            " > Model[[(2, 0, 0), (1, 0, 0, 0), 'ct']] 3302.530\n",
            " > Model[[(2, 0, 0), (0, 0, 2, 0), 'ct']] 3378.354\n",
            " > Model[[(2, 0, 0), (1, 0, 1, 0), 'ct']] 3228.702\n",
            " > Model[[(2, 0, 0), (1, 0, 2, 0), 'ct']] 2864.017\n",
            " > Model[[(2, 0, 0), (2, 0, 0, 0), 'ct']] 3415.016\n",
            " > Model[[(2, 0, 0), (2, 0, 1, 0), 'ct']] 3188.398\n",
            " > Model[[(2, 0, 1), (0, 0, 0, 0), 'n']] 3949.171\n",
            " > Model[[(2, 0, 1), (0, 0, 1, 0), 'n']] 3953.636\n",
            " > Model[[(2, 0, 0), (2, 0, 2, 0), 'ct']] 2782.338\n",
            " > Model[[(2, 0, 1), (1, 0, 0, 0), 'n']] 3946.339\n",
            " > Model[[(2, 0, 1), (0, 0, 2, 0), 'n']] 3210.633\n",
            " > Model[[(2, 0, 1), (1, 0, 1, 0), 'n']] 3944.584\n",
            " > Model[[(2, 0, 1), (2, 0, 0, 0), 'n']] 3265.526\n",
            " > Model[[(2, 0, 1), (2, 0, 1, 0), 'n']] 4195.106\n",
            " > Model[[(2, 0, 1), (1, 0, 2, 0), 'n']] 3460.439\n",
            " > Model[[(2, 0, 1), (0, 0, 0, 0), 'c']] 3709.639\n",
            " > Model[[(2, 0, 1), (0, 0, 1, 0), 'c']] 3678.208\n",
            " > Model[[(2, 0, 1), (2, 0, 2, 0), 'n']] 3288.402\n",
            " > Model[[(2, 0, 1), (0, 0, 2, 0), 'c']] 3759.163\n",
            " > Model[[(2, 0, 1), (1, 0, 0, 0), 'c']] 3674.778\n",
            " > Model[[(2, 0, 1), (1, 0, 1, 0), 'c']] 3675.269\n",
            " > Model[[(2, 0, 1), (2, 0, 0, 0), 'c']] 3549.621\n",
            " > Model[[(2, 0, 1), (1, 0, 2, 0), 'c']] 3079.289\n",
            " > Model[[(2, 0, 1), (2, 0, 1, 0), 'c']] 3550.105\n",
            " > Model[[(2, 0, 1), (0, 0, 0, 0), 't']] 3871.489\n",
            " > Model[[(2, 0, 1), (2, 0, 2, 0), 'c']] 2970.281\n",
            " > Model[[(2, 0, 1), (0, 0, 1, 0), 't']] 3737.238\n",
            " > Model[[(2, 0, 1), (0, 0, 2, 0), 't']] 3363.550\n",
            " > Model[[(2, 0, 1), (1, 0, 0, 0), 't']] 3564.404\n",
            " > Model[[(2, 0, 1), (1, 0, 1, 0), 't']] 3697.323\n",
            " > Model[[(2, 0, 1), (1, 0, 2, 0), 't']] 3110.034\n",
            " > Model[[(2, 0, 1), (2, 0, 0, 0), 't']] 3693.779\n",
            " > Model[[(2, 0, 1), (2, 0, 1, 0), 't']] 3543.513\n",
            " > Model[[(2, 0, 1), (2, 0, 2, 0), 't']] 3033.026\n",
            " > Model[[(2, 0, 1), (0, 0, 0, 0), 'ct']] 3880.830\n",
            " > Model[[(2, 0, 1), (0, 0, 1, 0), 'ct']] 3520.310\n",
            " > Model[[(2, 0, 1), (0, 0, 2, 0), 'ct']] 3037.028\n",
            " > Model[[(2, 0, 1), (1, 0, 0, 0), 'ct']] 3785.842\n",
            " > Model[[(2, 0, 1), (1, 0, 1, 0), 'ct']] 3178.312\n",
            " > Model[[(2, 0, 1), (1, 0, 2, 0), 'ct']] 3171.892\n",
            " > Model[[(2, 0, 1), (2, 0, 0, 0), 'ct']] 3662.528\n",
            " > Model[[(2, 0, 1), (2, 0, 1, 0), 'ct']] 3105.610\n",
            " > Model[[(2, 0, 1), (2, 0, 2, 0), 'ct']] 3263.974\n",
            " > Model[[(2, 0, 2), (0, 0, 0, 0), 'n']] 3440.470\n",
            " > Model[[(2, 0, 2), (0, 0, 1, 0), 'n']] 3456.401\n",
            " > Model[[(2, 0, 2), (0, 0, 2, 0), 'n']] 3922.537\n",
            " > Model[[(2, 0, 2), (1, 0, 0, 0), 'n']] 3522.970\n",
            " > Model[[(2, 0, 2), (1, 0, 1, 0), 'n']] 3447.919\n",
            " > Model[[(2, 0, 2), (1, 0, 2, 0), 'n']] 3404.213\n",
            " > Model[[(2, 0, 2), (2, 0, 0, 0), 'n']] 3246.662\n",
            " > Model[[(2, 0, 2), (2, 0, 1, 0), 'n']] 3287.791\n",
            " > Model[[(2, 0, 2), (0, 0, 0, 0), 'c']] 3477.778\n",
            " > Model[[(2, 0, 2), (0, 0, 1, 0), 'c']] 3438.834\n",
            " > Model[[(2, 0, 2), (2, 0, 2, 0), 'n']] 3270.143\n",
            " > Model[[(2, 0, 2), (1, 0, 0, 0), 'c']] 3146.132\n",
            " > Model[[(2, 0, 2), (0, 0, 2, 0), 'c']] 3444.001\n",
            " > Model[[(2, 0, 2), (1, 0, 1, 0), 'c']] 3087.963\n",
            " > Model[[(2, 0, 2), (1, 0, 2, 0), 'c']] 2706.837\n",
            " > Model[[(2, 0, 2), (2, 0, 0, 0), 'c']] 3019.972\n",
            " > Model[[(2, 0, 2), (2, 0, 1, 0), 'c']] 2974.472\n",
            " > Model[[(2, 0, 2), (0, 0, 0, 0), 't']] 3622.334\n",
            " > Model[[(2, 0, 2), (2, 0, 2, 0), 'c']] 2618.463\n",
            " > Model[[(2, 0, 2), (0, 0, 1, 0), 't']] 3492.446\n",
            " > Model[[(2, 0, 2), (0, 0, 2, 0), 't']] 3067.950\n",
            " > Model[[(2, 0, 2), (1, 0, 0, 0), 't']] 3869.506\n",
            " > Model[[(2, 0, 2), (1, 0, 1, 0), 't']] 3096.537\n",
            " > Model[[(2, 0, 2), (1, 0, 2, 0), 't']] 2899.915\n",
            " > Model[[(2, 0, 2), (2, 0, 0, 0), 't']] 3006.324\n",
            " > Model[[(2, 0, 2), (2, 0, 1, 0), 't']] 3029.949\n",
            " > Model[[(2, 0, 2), (0, 0, 0, 0), 'ct']] 2971.463\n",
            " > Model[[(2, 0, 2), (2, 0, 2, 0), 't']] 2703.250\n",
            " > Model[[(2, 0, 2), (0, 0, 1, 0), 'ct']] 3093.917\n",
            " > Model[[(2, 0, 2), (1, 0, 0, 0), 'ct']] 2909.736\n",
            " > Model[[(2, 0, 2), (0, 0, 2, 0), 'ct']] 3176.188\n",
            " > Model[[(2, 0, 2), (1, 0, 1, 0), 'ct']] 3037.416\n",
            " > Model[[(2, 0, 2), (1, 0, 2, 0), 'ct']] 2668.741\n",
            " > Model[[(2, 0, 2), (2, 0, 0, 0), 'ct']] 2973.684\n",
            " > Model[[(2, 0, 2), (2, 0, 1, 0), 'ct']] 3224.127\n",
            " > Model[[(2, 1, 0), (0, 0, 0, 0), 'n']] 3988.495\n",
            " > Model[[(2, 1, 0), (0, 0, 1, 0), 'n']] 3532.953\n",
            " > Model[[(2, 0, 2), (2, 0, 2, 0), 'ct']] 2588.813\n",
            " > Model[[(2, 1, 0), (1, 0, 0, 0), 'n']] 3660.732\n",
            " > Model[[(2, 1, 0), (0, 0, 2, 0), 'n']] 3249.710\n",
            " > Model[[(2, 1, 0), (1, 0, 1, 0), 'n']] 3286.849\n",
            " > Model[[(2, 1, 0), (2, 0, 0, 0), 'n']] 3956.087\n",
            " > Model[[(2, 1, 0), (1, 0, 2, 0), 'n']] 3427.011\n",
            " > Model[[(2, 1, 0), (2, 0, 1, 0), 'n']] 3319.669\n",
            " > Model[[(2, 1, 0), (0, 0, 0, 0), 'c']] 4007.617\n",
            " > Model[[(2, 1, 0), (2, 0, 2, 0), 'n']] 2991.855\n",
            " > Model[[(2, 1, 0), (0, 0, 1, 0), 'c']] 3411.430\n",
            " > Model[[(2, 1, 0), (1, 0, 0, 0), 'c']] 3674.430\n",
            " > Model[[(2, 1, 0), (0, 0, 2, 0), 'c']] 3236.423\n",
            " > Model[[(2, 1, 0), (1, 0, 1, 0), 'c']] 3239.840\n",
            " > Model[[(2, 1, 0), (2, 0, 0, 0), 'c']] 3783.932\n",
            " > Model[[(2, 1, 0), (1, 0, 2, 0), 'c']] 3466.722\n",
            " > Model[[(2, 1, 0), (2, 0, 2, 0), 'c']] 3002.919\n",
            " > Model[[(2, 1, 0), (0, 0, 0, 0), 't']] 4049.016\n",
            " > Model[[(2, 1, 0), (2, 0, 1, 0), 'c']] 3212.974\n",
            " > Model[[(2, 1, 0), (0, 0, 1, 0), 't']] 3548.493\n",
            " > Model[[(2, 1, 0), (1, 0, 0, 0), 't']] 3714.873\n",
            " > Model[[(2, 1, 0), (0, 0, 2, 0), 't']] 3339.700\n",
            " > Model[[(2, 1, 0), (1, 0, 1, 0), 't']] 3326.445\n",
            " > Model[[(2, 1, 0), (1, 0, 2, 0), 't']] 3262.179\n",
            " > Model[[(2, 1, 0), (2, 0, 0, 0), 't']] 3846.981\n",
            " > Model[[(2, 1, 0), (2, 0, 1, 0), 't']] 3341.747\n",
            " > Model[[(2, 1, 0), (0, 0, 0, 0), 'ct']] 4071.031\n",
            " > Model[[(2, 1, 0), (2, 0, 2, 0), 't']] 3060.160\n",
            " > Model[[(2, 1, 0), (0, 0, 1, 0), 'ct']] 3487.789\n",
            " > Model[[(2, 1, 0), (0, 0, 2, 0), 'ct']] 3289.147\n",
            " > Model[[(2, 1, 0), (1, 0, 0, 0), 'ct']] 3733.639\n",
            " > Model[[(2, 1, 0), (1, 0, 1, 0), 'ct']] 3369.912\n",
            " > Model[[(2, 1, 0), (2, 0, 0, 0), 'ct']] 3717.857\n",
            " > Model[[(2, 1, 0), (1, 0, 2, 0), 'ct']] 3144.140\n",
            " > Model[[(2, 1, 0), (2, 0, 1, 0), 'ct']] 3160.596\n",
            " > Model[[(2, 1, 0), (2, 0, 2, 0), 'ct']] 3060.460\n",
            " > Model[[(2, 1, 1), (0, 0, 0, 0), 'n']] 3543.891\n",
            " > Model[[(2, 1, 1), (0, 0, 1, 0), 'n']] 3312.330\n",
            " > Model[[(2, 1, 1), (0, 0, 2, 0), 'n']] 3516.996\n",
            " > Model[[(2, 1, 1), (1, 0, 0, 0), 'n']] 3344.786\n",
            " > Model[[(2, 1, 1), (1, 0, 1, 0), 'n']] 3275.364\n",
            " > Model[[(2, 1, 1), (1, 0, 2, 0), 'n']] 3102.801\n",
            " > Model[[(2, 1, 1), (2, 0, 0, 0), 'n']] 3324.116\n",
            " > Model[[(2, 1, 1), (2, 0, 1, 0), 'n']] 3311.311\n",
            " > Model[[(2, 1, 1), (0, 0, 0, 0), 'c']] 3405.227\n",
            " > Model[[(2, 1, 1), (2, 0, 2, 0), 'n']] 2748.598\n",
            " > Model[[(2, 1, 1), (0, 0, 1, 0), 'c']] 3190.245\n",
            " > Model[[(2, 1, 1), (0, 0, 2, 0), 'c']] 3080.701\n",
            " > Model[[(2, 1, 1), (1, 0, 0, 0), 'c']] 3226.421\n",
            " > Model[[(2, 1, 1), (1, 0, 1, 0), 'c']] 3271.713\n",
            " > Model[[(2, 1, 1), (1, 0, 2, 0), 'c']] 3386.456\n",
            " > Model[[(2, 1, 1), (2, 0, 0, 0), 'c']] 3227.443\n",
            " > Model[[(2, 1, 1), (2, 0, 1, 0), 'c']] 3189.888\n",
            " > Model[[(2, 1, 1), (2, 0, 2, 0), 'c']] 2777.188\n",
            " > Model[[(2, 1, 1), (0, 0, 0, 0), 't']] 3554.173\n",
            " > Model[[(2, 1, 1), (0, 0, 1, 0), 't']] 3274.983\n",
            " > Model[[(2, 1, 1), (0, 0, 2, 0), 't']] 3443.467\n",
            " > Model[[(2, 1, 1), (1, 0, 0, 0), 't']] 3321.953\n",
            " > Model[[(2, 1, 1), (1, 0, 1, 0), 't']] 3461.094\n",
            " > Model[[(2, 1, 1), (1, 0, 2, 0), 't']] 2889.726\n",
            " > Model[[(2, 1, 1), (2, 0, 0, 0), 't']] 3359.303\n",
            " > Model[[(2, 1, 1), (2, 0, 1, 0), 't']] 3075.473\n",
            " > Model[[(2, 1, 1), (2, 0, 2, 0), 't']] 2951.089\n",
            " > Model[[(2, 1, 1), (0, 0, 0, 0), 'ct']] 3533.192\n",
            " > Model[[(2, 1, 1), (0, 0, 1, 0), 'ct']] 3149.844\n",
            " > Model[[(2, 1, 1), (0, 0, 2, 0), 'ct']] 3494.204\n",
            " > Model[[(2, 1, 1), (1, 0, 0, 0), 'ct']] 3269.018\n",
            " > Model[[(2, 1, 1), (1, 0, 1, 0), 'ct']] 3177.527\n",
            " > Model[[(2, 1, 1), (1, 0, 2, 0), 'ct']] 3165.123\n",
            " > Model[[(2, 1, 1), (2, 0, 0, 0), 'ct']] 3257.240\n",
            " > Model[[(2, 1, 1), (2, 0, 1, 0), 'ct']] 4099.915\n",
            " > Model[[(2, 1, 2), (0, 0, 0, 0), 'n']] 3221.606\n",
            " > Model[[(2, 1, 1), (2, 0, 2, 0), 'ct']] 3149.927\n",
            " > Model[[(2, 1, 2), (0, 0, 1, 0), 'n']] 2962.559\n",
            " > Model[[(2, 1, 2), (1, 0, 0, 0), 'n']] 2915.065\n",
            " > Model[[(2, 1, 2), (0, 0, 2, 0), 'n']] 2976.246\n",
            " > Model[[(2, 1, 2), (1, 0, 1, 0), 'n']] 2815.261\n",
            " > Model[[(2, 1, 2), (2, 0, 0, 0), 'n']] 2977.188\n",
            " > Model[[(2, 1, 2), (1, 0, 2, 0), 'n']] 2862.064\n",
            " > Model[[(2, 1, 2), (2, 0, 2, 0), 'n']] 3245.557\n",
            " > Model[[(2, 1, 2), (0, 0, 0, 0), 'c']] 3237.686\n",
            " > Model[[(2, 1, 2), (0, 0, 1, 0), 'c']] 2982.145\n",
            " > Model[[(2, 1, 2), (2, 0, 1, 0), 'n']] 3642.485\n",
            " > Model[[(2, 1, 2), (1, 0, 0, 0), 'c']] 2928.418\n",
            " > Model[[(2, 1, 2), (0, 0, 2, 0), 'c']] 2998.546\n",
            " > Model[[(2, 1, 2), (1, 0, 1, 0), 'c']] 2696.687\n",
            " > Model[[(2, 1, 2), (1, 0, 2, 0), 'c']] 2837.363\n",
            " > Model[[(2, 1, 2), (2, 0, 0, 0), 'c']] 3020.351\n",
            " > Model[[(2, 1, 2), (2, 0, 1, 0), 'c']] 2818.326\n",
            " > Model[[(2, 1, 2), (2, 0, 2, 0), 'c']] 2578.913\n",
            " > Model[[(2, 1, 2), (0, 0, 0, 0), 't']] 3269.832\n",
            " > Model[[(2, 1, 2), (0, 0, 1, 0), 't']] 3016.555\n",
            " > Model[[(2, 1, 2), (0, 0, 2, 0), 't']] 3027.811\n",
            " > Model[[(2, 1, 2), (1, 0, 0, 0), 't']] 2954.485\n",
            " > Model[[(2, 1, 2), (1, 0, 1, 0), 't']] 2772.323\n",
            " > Model[[(2, 1, 2), (1, 0, 2, 0), 't']] 2970.460\n",
            " > Model[[(2, 1, 2), (2, 0, 0, 0), 't']] 3031.393\n",
            " > Model[[(2, 1, 2), (2, 0, 1, 0), 't']] 3310.578\n",
            " > Model[[(2, 1, 2), (2, 0, 2, 0), 't']] 2673.697\n",
            " > Model[[(2, 1, 2), (0, 0, 0, 0), 'ct']] 3293.306\n",
            " > Model[[(2, 1, 2), (0, 0, 1, 0), 'ct']] 3041.653\n",
            " > Model[[(2, 1, 2), (0, 0, 2, 0), 'ct']] 3049.420\n",
            " > Model[[(2, 1, 2), (1, 0, 0, 0), 'ct']] 2970.181\n",
            " > Model[[(2, 1, 2), (1, 0, 1, 0), 'ct']] 2922.244\n",
            " > Model[[(2, 1, 2), (1, 0, 2, 0), 'ct']] 3021.357\n",
            " > Model[[(2, 1, 2), (2, 0, 0, 0), 'ct']] 3045.320\n",
            " > Model[[(2, 1, 2), (2, 0, 1, 0), 'ct']] 3332.891\n",
            " > Model[[(2, 1, 2), (2, 0, 2, 0), 'ct']] 2625.534\n",
            "done\n",
            "[(2, 1, 2), (2, 0, 2, 0), 'c'] 2578.9128680665303\n",
            "[(2, 0, 2), (2, 0, 2, 0), 'ct'] 2588.8128897886318\n",
            "[(1, 0, 2), (2, 0, 2, 0), 'ct'] 2597.1651857668503\n"
          ],
          "name": "stdout"
        }
      ]
    },
    {
      "cell_type": "markdown",
      "metadata": {
        "id": "x23Kj8A8Etw7"
      },
      "source": [
        "Nilai RMSE SARIMA Terbaik [(2, 1, 2), (2, 0, 2, 0), 'c'] : 2578.9128680665303\n",
        "Dataset terdapat trend 'c' constant.\n",
        "p=2 maka legnya 2, d = 1 karena grafik tidak stationary artinya dibutuhkan 1 agar grafiknya menjadi stationary. q nilai parameter moving averagenya adalah 2.\n",
        "\n",
        "tapi mari kita gunakan nila p=8, karena di ketahui pada ARIMA, leg terbaik = 8"
      ]
    },
    {
      "cell_type": "code",
      "metadata": {
        "id": "ckCPrS1FMluB"
      },
      "source": [
        "# Courtesy of Jason Brownlee of Machine Learning Mastery\n",
        "# one-step sarima forecast\n",
        "def sarima_forecast(history, config):\n",
        "\torder, sorder, trend = config\n",
        "\t# define model\n",
        "\tmodel = SARIMAX(history, order=order, seasonal_order=sorder, trend=trend, enforce_stationarity=False, enforce_invertibility=False)\n",
        "\t# fit model\n",
        "\tmodel_fit = model.fit(disp=False)\n",
        "\t# make one step forecast\n",
        "\tyhat = model_fit.predict(len(history), len(history))\n",
        "\treturn yhat[0]\n",
        "\n",
        "# root mean squared error or rmse\n",
        "def measure_rmse(actual, predicted):\n",
        "\treturn sqrt(mean_squared_error(actual, predicted))\n",
        "\n",
        "# split a univariate dataset into train/test sets\n",
        "def train_test_split(data, n_test):\n",
        "\treturn data[:-n_test], data[-n_test:]\n",
        "\n",
        "# walk-forward validation for univariate data\n",
        "def walk_forward_validation(data, n_test, cfg):\n",
        "\tpredictions = list()\n",
        "\t# split dataset\n",
        "\ttrain, test = train_test_split(data, n_test)\n",
        "\t# seed history with training dataset\n",
        "\thistory = [x for x in train]\n",
        "\t# step over each time-step in the test set\n",
        "\tfor i in range(len(test)):\n",
        "\t\t# fit model and make forecast for history\n",
        "\t\tyhat = sarima_forecast(history, cfg)\n",
        "\t\t# store forecast in list of predictions\n",
        "\t\tpredictions.append(yhat)\n",
        "\t\t# add actual observation to history for the next loop\n",
        "\t\thistory.append(test[i])\n",
        "\t# estimate prediction error\n",
        "\terror = measure_rmse(test, predictions)\n",
        "\treturn error\n",
        "\n",
        "# score a model, return None on failure\n",
        "def score_model(data, n_test, cfg, debug=False):\n",
        "\tresult = None\n",
        "\t# convert config to a key\n",
        "\tkey = str(cfg)\n",
        "\t# show all warnings and fail on exception if debugging\n",
        "\tif debug:\n",
        "\t\tresult = walk_forward_validation(data, n_test, cfg)\n",
        "\telse:\n",
        "\t\t# one failure during model validation suggests an unstable config\n",
        "\t\ttry:\n",
        "\t\t\t# never show warnings when grid searching, too noisy\n",
        "\t\t\twith catch_warnings():\n",
        "\t\t\t\tfilterwarnings(\"ignore\")\n",
        "\t\t\t\tresult = walk_forward_validation(data, n_test, cfg)\n",
        "\t\texcept:\n",
        "\t\t\terror = None\n",
        "\t# check for an interesting result\n",
        "\tif result is not None:\n",
        "\t\tprint(' > Model[%s] %.3f' % (key, result))\n",
        "\treturn (key, result)\n",
        "\n",
        "# grid search configs\n",
        "def grid_search(data, cfg_list, n_test, parallel=True):\n",
        "\tscores = None\n",
        "\tif parallel:\n",
        "\t\t# execute configs in parallel\n",
        "\t\texecutor = Parallel(n_jobs=cpu_count(), backend='multiprocessing')\n",
        "\t\ttasks = (delayed(score_model)(data, n_test, cfg) for cfg in cfg_list)\n",
        "\t\tscores = executor(tasks)\n",
        "\telse:\n",
        "\t\tscores = [score_model(data, n_test, cfg) for cfg in cfg_list]\n",
        "\t# remove empty results\n",
        "\tscores = [r for r in scores if r[1] != None]\n",
        "\t# sort configs by error, asc\n",
        "\tscores.sort(key=lambda tup: tup[1])\n",
        "\treturn scores\n",
        "\n",
        "# create a set of sarima configs to try\n",
        "def sarima_configs(seasonal=[0]):\n",
        "\tmodels = list()\n",
        "\t# define config lists\n",
        "\tp_params = [8]\n",
        "\td_params = [0, 1]\n",
        "\tq_params = [0, 1, 2]\n",
        "\tt_params = ['n','c','t','ct']\n",
        "\tP_params = [0, 1, 2]\n",
        "\tD_params = [0, 1]\n",
        "\tQ_params = [0, 1, 2]\n",
        "\tm_params = seasonal\n",
        "\t# create config instances\n",
        "\tfor p in p_params:\n",
        "\t\tfor d in d_params:\n",
        "\t\t\tfor q in q_params:\n",
        "\t\t\t\tfor t in t_params:\n",
        "\t\t\t\t\tfor P in P_params:\n",
        "\t\t\t\t\t\tfor D in D_params:\n",
        "\t\t\t\t\t\t\tfor Q in Q_params:\n",
        "\t\t\t\t\t\t\t\tfor m in m_params:\n",
        "\t\t\t\t\t\t\t\t\tcfg = [(p,d,q), (P,D,Q,m), t]\n",
        "\t\t\t\t\t\t\t\t\tmodels.append(cfg)\n",
        "\treturn models"
      ],
      "execution_count": null,
      "outputs": []
    },
    {
      "cell_type": "code",
      "metadata": {
        "id": "RKe9kJEMMwiJ",
        "outputId": "11356412-d858-4f32-d3f7-a600091f439c",
        "colab": {
          "base_uri": "https://localhost:8080/",
          "height": 1000
        }
      },
      "source": [
        "n_test = 12\n",
        "\n",
        "# model configs\n",
        "cfg_list = sarima_configs()\n",
        "\n",
        "# grid search\n",
        "scores = grid_search(data.values, cfg_list, n_test)\n",
        "print('done')\n",
        "\n",
        "# list top 3 configs\n",
        "for cfg, error in scores[:3]:\n",
        "  print(cfg, error)"
      ],
      "execution_count": null,
      "outputs": [
        {
          "output_type": "stream",
          "text": [
            " > Model[[(8, 0, 0), (0, 0, 0, 0), 'n']] 3114.561\n",
            " > Model[[(8, 0, 0), (0, 0, 1, 0), 'n']] 2973.082\n",
            " > Model[[(8, 0, 0), (0, 0, 2, 0), 'n']] 3544.996\n",
            " > Model[[(8, 0, 0), (1, 0, 0, 0), 'n']] 3219.493\n",
            " > Model[[(8, 0, 0), (1, 0, 1, 0), 'n']] 2541.962\n",
            " > Model[[(8, 0, 0), (1, 0, 2, 0), 'n']] 2913.530\n",
            " > Model[[(8, 0, 0), (2, 0, 0, 0), 'n']] 2536.992\n",
            " > Model[[(8, 0, 0), (2, 0, 1, 0), 'n']] 2537.647\n",
            " > Model[[(8, 0, 0), (0, 0, 0, 0), 'c']] 2995.621\n",
            " > Model[[(8, 0, 0), (2, 0, 2, 0), 'n']] 2105.405\n",
            " > Model[[(8, 0, 0), (0, 0, 1, 0), 'c']] 2885.238\n",
            " > Model[[(8, 0, 0), (0, 0, 2, 0), 'c']] 3039.762\n",
            " > Model[[(8, 0, 0), (1, 0, 0, 0), 'c']] 2656.485\n",
            " > Model[[(8, 0, 0), (1, 0, 1, 0), 'c']] 2628.655\n",
            " > Model[[(8, 0, 0), (1, 0, 2, 0), 'c']] 2114.321\n",
            " > Model[[(8, 0, 0), (2, 0, 0, 0), 'c']] 2564.946\n",
            " > Model[[(8, 0, 0), (2, 0, 1, 0), 'c']] 2545.954\n",
            " > Model[[(8, 0, 0), (0, 0, 0, 0), 't']] 3134.247\n",
            " > Model[[(8, 0, 0), (2, 0, 2, 0), 'c']] 1997.948\n",
            " > Model[[(8, 0, 0), (0, 0, 1, 0), 't']] 2974.125\n",
            " > Model[[(8, 0, 0), (0, 0, 2, 0), 't']] 3624.941\n",
            " > Model[[(8, 0, 0), (1, 0, 0, 0), 't']] 2857.620\n",
            " > Model[[(8, 0, 0), (1, 0, 1, 0), 't']] 2864.495\n",
            " > Model[[(8, 0, 0), (1, 0, 2, 0), 't']] 2447.174\n",
            " > Model[[(8, 0, 0), (2, 0, 0, 0), 't']] 2565.362\n",
            " > Model[[(8, 0, 0), (2, 0, 1, 0), 't']] 2420.390\n",
            " > Model[[(8, 0, 0), (2, 0, 2, 0), 't']] 1999.920\n",
            " > Model[[(8, 0, 0), (0, 0, 0, 0), 'ct']] 2426.572\n",
            " > Model[[(8, 0, 0), (0, 0, 1, 0), 'ct']] 2676.152\n",
            " > Model[[(8, 0, 0), (0, 0, 2, 0), 'ct']] 3028.873\n",
            " > Model[[(8, 0, 0), (1, 0, 0, 0), 'ct']] 2300.408\n",
            " > Model[[(8, 0, 0), (1, 0, 1, 0), 'ct']] 2287.003\n",
            " > Model[[(8, 0, 0), (1, 0, 2, 0), 'ct']] 2111.574\n",
            " > Model[[(8, 0, 0), (2, 0, 0, 0), 'ct']] 2363.763\n",
            " > Model[[(8, 0, 0), (2, 0, 1, 0), 'ct']] 2215.063\n",
            " > Model[[(8, 0, 1), (0, 0, 0, 0), 'n']] 2506.392\n",
            " > Model[[(8, 0, 0), (2, 0, 2, 0), 'ct']] 1969.725\n",
            " > Model[[(8, 0, 1), (0, 0, 1, 0), 'n']] 2685.474\n",
            " > Model[[(8, 0, 1), (0, 0, 2, 0), 'n']] 3258.328\n",
            " > Model[[(8, 0, 1), (1, 0, 0, 0), 'n']] 3058.393\n",
            " > Model[[(8, 0, 1), (1, 0, 1, 0), 'n']] 3058.764\n",
            " > Model[[(8, 0, 1), (1, 0, 2, 0), 'n']] 2881.522\n",
            " > Model[[(8, 0, 1), (2, 0, 0, 0), 'n']] 2031.893\n",
            " > Model[[(8, 0, 1), (2, 0, 1, 0), 'n']] 2503.261\n",
            " > Model[[(8, 0, 1), (2, 0, 2, 0), 'n']] 1574.750\n",
            " > Model[[(8, 0, 1), (0, 0, 0, 0), 'c']] 3026.467\n",
            " > Model[[(8, 0, 1), (0, 0, 1, 0), 'c']] 3042.173\n",
            " > Model[[(8, 0, 1), (0, 0, 2, 0), 'c']] 3224.817\n",
            " > Model[[(8, 0, 1), (1, 0, 0, 0), 'c']] 2629.987\n",
            " > Model[[(8, 0, 1), (1, 0, 1, 0), 'c']] 2633.876\n",
            " > Model[[(8, 0, 1), (1, 0, 2, 0), 'c']] 2018.080\n",
            " > Model[[(8, 0, 1), (2, 0, 0, 0), 'c']] 2528.865\n",
            " > Model[[(8, 0, 1), (2, 0, 1, 0), 'c']] 2541.765\n",
            " > Model[[(8, 0, 1), (2, 0, 2, 0), 'c']] 1963.720\n",
            " > Model[[(8, 0, 1), (0, 0, 0, 0), 't']] 3018.379\n",
            " > Model[[(8, 0, 1), (0, 0, 1, 0), 't']] 2903.165\n",
            " > Model[[(8, 0, 1), (0, 0, 2, 0), 't']] 3305.526\n",
            " > Model[[(8, 0, 1), (1, 0, 0, 0), 't']] 2791.559\n",
            " > Model[[(8, 0, 1), (1, 0, 1, 0), 't']] 2946.231\n",
            " > Model[[(8, 0, 1), (1, 0, 2, 0), 't']] 2598.662\n",
            " > Model[[(8, 0, 1), (2, 0, 0, 0), 't']] 2328.134\n",
            " > Model[[(8, 0, 1), (2, 0, 1, 0), 't']] 2337.555\n",
            " > Model[[(8, 0, 1), (2, 0, 2, 0), 't']] 1990.770\n",
            " > Model[[(8, 0, 1), (0, 0, 0, 0), 'ct']] 2388.375\n",
            " > Model[[(8, 0, 1), (0, 0, 1, 0), 'ct']] 2417.785\n",
            " > Model[[(8, 0, 1), (0, 0, 2, 0), 'ct']] 2604.996\n",
            " > Model[[(8, 0, 1), (1, 0, 0, 0), 'ct']] 2284.201\n",
            " > Model[[(8, 0, 1), (1, 0, 1, 0), 'ct']] 2288.129\n",
            " > Model[[(8, 0, 1), (1, 0, 2, 0), 'ct']] 2048.377\n",
            " > Model[[(8, 0, 1), (2, 0, 0, 0), 'ct']] 2384.828\n",
            " > Model[[(8, 0, 1), (2, 0, 1, 0), 'ct']] 2308.083\n",
            " > Model[[(8, 0, 2), (0, 0, 0, 0), 'n']] 3283.706\n",
            " > Model[[(8, 0, 1), (2, 0, 2, 0), 'ct']] 1928.149\n",
            " > Model[[(8, 0, 2), (0, 0, 1, 0), 'n']] 2662.821\n",
            " > Model[[(8, 0, 2), (0, 0, 2, 0), 'n']] 2815.705\n",
            " > Model[[(8, 0, 2), (1, 0, 0, 0), 'n']] 2660.786\n",
            " > Model[[(8, 0, 2), (1, 0, 1, 0), 'n']] 2747.884\n",
            " > Model[[(8, 0, 2), (1, 0, 2, 0), 'n']] 2716.056\n",
            " > Model[[(8, 0, 2), (2, 0, 0, 0), 'n']] 1819.312\n",
            " > Model[[(8, 0, 2), (2, 0, 1, 0), 'n']] 2420.697\n",
            " > Model[[(8, 0, 2), (2, 0, 2, 0), 'n']] 1651.238\n",
            " > Model[[(8, 0, 2), (0, 0, 0, 0), 'c']] 3108.846\n",
            " > Model[[(8, 0, 2), (0, 0, 1, 0), 'c']] 2276.889\n",
            " > Model[[(8, 0, 2), (0, 0, 2, 0), 'c']] 2983.316\n",
            " > Model[[(8, 0, 2), (1, 0, 0, 0), 'c']] 2045.331\n",
            " > Model[[(8, 0, 2), (1, 0, 1, 0), 'c']] 2070.619\n",
            " > Model[[(8, 0, 2), (1, 0, 2, 0), 'c']] 2054.906\n",
            " > Model[[(8, 0, 2), (2, 0, 0, 0), 'c']] 2320.178\n",
            " > Model[[(8, 0, 2), (2, 0, 1, 0), 'c']] 2742.181\n",
            " > Model[[(8, 0, 2), (0, 0, 0, 0), 't']] 3047.647\n",
            " > Model[[(8, 0, 2), (2, 0, 2, 0), 'c']] 2102.566\n",
            " > Model[[(8, 0, 2), (0, 0, 1, 0), 't']] 2294.242\n",
            " > Model[[(8, 0, 2), (0, 0, 2, 0), 't']] 3050.582\n",
            " > Model[[(8, 0, 2), (1, 0, 0, 0), 't']] 2860.227\n",
            " > Model[[(8, 0, 2), (1, 0, 1, 0), 't']] 2544.809\n",
            " > Model[[(8, 0, 2), (2, 0, 0, 0), 't']] 1996.338\n",
            " > Model[[(8, 0, 2), (1, 0, 2, 0), 't']] 2479.693\n",
            " > Model[[(8, 0, 2), (2, 0, 2, 0), 't']] 1927.834\n",
            " > Model[[(8, 0, 2), (2, 0, 1, 0), 't']] 2074.180\n",
            " > Model[[(8, 0, 2), (0, 0, 0, 0), 'ct']] 2006.098\n",
            " > Model[[(8, 0, 2), (0, 0, 1, 0), 'ct']] 1816.884\n",
            " > Model[[(8, 0, 2), (0, 0, 2, 0), 'ct']] 2147.052\n",
            " > Model[[(8, 0, 2), (1, 0, 0, 0), 'ct']] 2150.163\n",
            " > Model[[(8, 0, 2), (1, 0, 1, 0), 'ct']] 2480.875\n",
            " > Model[[(8, 0, 2), (1, 0, 2, 0), 'ct']] 1932.426\n",
            " > Model[[(8, 0, 2), (2, 0, 0, 0), 'ct']] 2359.104\n",
            " > Model[[(8, 0, 2), (2, 0, 1, 0), 'ct']] 2304.142\n",
            " > Model[[(8, 1, 0), (0, 0, 0, 0), 'n']] 2618.450\n",
            " > Model[[(8, 1, 0), (0, 0, 1, 0), 'n']] 2198.979\n",
            " > Model[[(8, 1, 0), (0, 0, 2, 0), 'n']] 1960.621\n",
            " > Model[[(8, 0, 2), (2, 0, 2, 0), 'ct']] 1580.152\n",
            " > Model[[(8, 1, 0), (1, 0, 0, 0), 'n']] 2533.636\n",
            " > Model[[(8, 1, 0), (1, 0, 1, 0), 'n']] 2161.109\n",
            " > Model[[(8, 1, 0), (1, 0, 2, 0), 'n']] 1985.292\n",
            " > Model[[(8, 1, 0), (2, 0, 0, 0), 'n']] 2117.429\n",
            " > Model[[(8, 1, 0), (2, 0, 1, 0), 'n']] 2328.160\n",
            " > Model[[(8, 1, 0), (0, 0, 0, 0), 'c']] 2613.679\n",
            " > Model[[(8, 1, 0), (2, 0, 2, 0), 'n']] 1734.687\n",
            " > Model[[(8, 1, 0), (0, 0, 1, 0), 'c']] 1933.319\n",
            " > Model[[(8, 1, 0), (0, 0, 2, 0), 'c']] 1739.427\n",
            " > Model[[(8, 1, 0), (1, 0, 0, 0), 'c']] 2520.001\n",
            " > Model[[(8, 1, 0), (1, 0, 1, 0), 'c']] 2010.415\n",
            " > Model[[(8, 1, 0), (1, 0, 2, 0), 'c']] 1797.072\n",
            " > Model[[(8, 1, 0), (2, 0, 0, 0), 'c']] 2033.858\n",
            " > Model[[(8, 1, 0), (2, 0, 1, 0), 'c']] 1918.406\n",
            " > Model[[(8, 1, 0), (0, 0, 0, 0), 't']] 2645.193\n",
            " > Model[[(8, 1, 0), (2, 0, 2, 0), 'c']] 1683.031\n",
            " > Model[[(8, 1, 0), (0, 0, 1, 0), 't']] 2030.504\n",
            " > Model[[(8, 1, 0), (0, 0, 2, 0), 't']] 1796.489\n",
            " > Model[[(8, 1, 0), (1, 0, 0, 0), 't']] 2547.739\n",
            " > Model[[(8, 1, 0), (1, 0, 1, 0), 't']] 2045.349\n",
            " > Model[[(8, 1, 0), (1, 0, 2, 0), 't']] 1863.825\n",
            " > Model[[(8, 1, 0), (2, 0, 0, 0), 't']] 2025.430\n",
            " > Model[[(8, 1, 0), (2, 0, 1, 0), 't']] 2253.241\n",
            " > Model[[(8, 1, 0), (0, 0, 0, 0), 'ct']] 2669.999\n",
            " > Model[[(8, 1, 0), (2, 0, 2, 0), 't']] 1581.749\n",
            " > Model[[(8, 1, 0), (0, 0, 1, 0), 'ct']] 2162.852\n",
            " > Model[[(8, 1, 0), (1, 0, 0, 0), 'ct']] 2563.174\n",
            " > Model[[(8, 1, 0), (0, 0, 2, 0), 'ct']] 1990.215\n",
            " > Model[[(8, 1, 0), (1, 0, 1, 0), 'ct']] 2073.736\n",
            " > Model[[(8, 1, 0), (1, 0, 2, 0), 'ct']] 1958.856\n",
            " > Model[[(8, 1, 0), (2, 0, 0, 0), 'ct']] 2068.132\n",
            " > Model[[(8, 1, 0), (2, 0, 1, 0), 'ct']] 1880.774\n",
            " > Model[[(8, 1, 1), (0, 0, 0, 0), 'n']] 2200.839\n",
            " > Model[[(8, 1, 1), (0, 0, 1, 0), 'n']] 2123.747\n",
            " > Model[[(8, 1, 0), (2, 0, 2, 0), 'ct']] 1749.687\n",
            " > Model[[(8, 1, 1), (1, 0, 0, 0), 'n']] 2205.666\n",
            " > Model[[(8, 1, 1), (0, 0, 2, 0), 'n']] 1799.454\n",
            " > Model[[(8, 1, 1), (1, 0, 1, 0), 'n']] 2151.230\n",
            " > Model[[(8, 1, 1), (1, 0, 2, 0), 'n']] 1774.488\n",
            " > Model[[(8, 1, 1), (2, 0, 0, 0), 'n']] 2095.407\n",
            " > Model[[(8, 1, 1), (2, 0, 1, 0), 'n']] 2057.905\n",
            " > Model[[(8, 1, 1), (2, 0, 2, 0), 'n']] 1788.226\n",
            " > Model[[(8, 1, 1), (0, 0, 0, 0), 'c']] 2027.492\n",
            " > Model[[(8, 1, 1), (0, 0, 1, 0), 'c']] 1801.301\n",
            " > Model[[(8, 1, 1), (0, 0, 2, 0), 'c']] 1691.485\n",
            " > Model[[(8, 1, 1), (1, 0, 0, 0), 'c']] 1985.533\n",
            " > Model[[(8, 1, 1), (1, 0, 1, 0), 'c']] 1872.177\n",
            " > Model[[(8, 1, 1), (1, 0, 2, 0), 'c']] 1617.112\n",
            " > Model[[(8, 1, 1), (2, 0, 0, 0), 'c']] 1837.236\n",
            " > Model[[(8, 1, 1), (2, 0, 1, 0), 'c']] 2327.242\n",
            " > Model[[(8, 1, 1), (0, 0, 0, 0), 't']] 1986.868\n",
            " > Model[[(8, 1, 1), (2, 0, 2, 0), 'c']] 1590.499\n",
            " > Model[[(8, 1, 1), (0, 0, 1, 0), 't']] 1912.276\n",
            " > Model[[(8, 1, 1), (0, 0, 2, 0), 't']] 1763.192\n",
            " > Model[[(8, 1, 1), (1, 0, 0, 0), 't']] 2046.892\n",
            " > Model[[(8, 1, 1), (1, 0, 1, 0), 't']] 1926.737\n",
            " > Model[[(8, 1, 1), (1, 0, 2, 0), 't']] 1678.115\n",
            " > Model[[(8, 1, 1), (2, 0, 0, 0), 't']] 1741.397\n",
            " > Model[[(8, 1, 1), (2, 0, 1, 0), 't']] 2051.989\n",
            " > Model[[(8, 1, 1), (2, 0, 2, 0), 't']] 1528.811\n",
            " > Model[[(8, 1, 1), (0, 0, 0, 0), 'ct']] 2266.737\n",
            " > Model[[(8, 1, 1), (0, 0, 1, 0), 'ct']] 2179.024\n",
            " > Model[[(8, 1, 1), (0, 0, 2, 0), 'ct']] 1935.421\n",
            " > Model[[(8, 1, 1), (1, 0, 0, 0), 'ct']] 2072.474\n",
            " > Model[[(8, 1, 1), (1, 0, 1, 0), 'ct']] 2122.753\n",
            " > Model[[(8, 1, 1), (1, 0, 2, 0), 'ct']] 1819.312\n",
            " > Model[[(8, 1, 1), (2, 0, 0, 0), 'ct']] 1771.248\n",
            " > Model[[(8, 1, 1), (2, 0, 1, 0), 'ct']] 1749.311\n",
            " > Model[[(8, 1, 1), (2, 0, 2, 0), 'ct']] 1851.134\n",
            " > Model[[(8, 1, 2), (0, 0, 0, 0), 'n']] 1961.141\n",
            " > Model[[(8, 1, 2), (0, 0, 1, 0), 'n']] 1813.587\n",
            " > Model[[(8, 1, 2), (0, 0, 2, 0), 'n']] 1801.978\n",
            " > Model[[(8, 1, 2), (1, 0, 0, 0), 'n']] 1999.106\n",
            " > Model[[(8, 1, 2), (1, 0, 1, 0), 'n']] 1753.153\n",
            " > Model[[(8, 1, 2), (1, 0, 2, 0), 'n']] 1840.113\n",
            " > Model[[(8, 1, 2), (2, 0, 0, 0), 'n']] 1745.149\n",
            " > Model[[(8, 1, 2), (2, 0, 1, 0), 'n']] 2044.342\n",
            " > Model[[(8, 1, 2), (2, 0, 2, 0), 'n']] 1761.631\n",
            " > Model[[(8, 1, 2), (0, 0, 0, 0), 'c']] 1743.258\n",
            " > Model[[(8, 1, 2), (0, 0, 1, 0), 'c']] 1691.826\n",
            " > Model[[(8, 1, 2), (0, 0, 2, 0), 'c']] 1619.542\n",
            " > Model[[(8, 1, 2), (1, 0, 0, 0), 'c']] 1796.013\n",
            " > Model[[(8, 1, 2), (1, 0, 1, 0), 'c']] 1660.120\n",
            " > Model[[(8, 1, 2), (1, 0, 2, 0), 'c']] 1641.023\n",
            " > Model[[(8, 1, 2), (2, 0, 0, 0), 'c']] 1651.503\n",
            " > Model[[(8, 1, 2), (2, 0, 1, 0), 'c']] 1979.414\n",
            " > Model[[(8, 1, 2), (2, 0, 2, 0), 'c']] 1611.632\n",
            " > Model[[(8, 1, 2), (0, 0, 0, 0), 't']] 1781.277\n",
            " > Model[[(8, 1, 2), (0, 0, 1, 0), 't']] 1760.718\n",
            " > Model[[(8, 1, 2), (0, 0, 2, 0), 't']] 1743.895\n",
            " > Model[[(8, 1, 2), (1, 0, 0, 0), 't']] 1872.454\n",
            " > Model[[(8, 1, 2), (1, 0, 1, 0), 't']] 1806.513\n",
            " > Model[[(8, 1, 2), (1, 0, 2, 0), 't']] 1665.572\n",
            " > Model[[(8, 1, 2), (2, 0, 0, 0), 't']] 1631.507\n",
            " > Model[[(8, 1, 2), (2, 0, 1, 0), 't']] 1981.205\n",
            " > Model[[(8, 1, 2), (2, 0, 2, 0), 't']] 1659.696\n",
            " > Model[[(8, 1, 2), (0, 0, 0, 0), 'ct']] 1978.666\n",
            " > Model[[(8, 1, 2), (0, 0, 1, 0), 'ct']] 1940.043\n",
            " > Model[[(8, 1, 2), (0, 0, 2, 0), 'ct']] 1957.985\n",
            " > Model[[(8, 1, 2), (1, 0, 0, 0), 'ct']] 1976.959\n",
            " > Model[[(8, 1, 2), (1, 0, 1, 0), 'ct']] 1788.418\n",
            " > Model[[(8, 1, 2), (1, 0, 2, 0), 'ct']] 1832.642\n",
            " > Model[[(8, 1, 2), (2, 0, 0, 0), 'ct']] 1717.543\n",
            " > Model[[(8, 1, 2), (2, 0, 1, 0), 'ct']] 1823.498\n",
            " > Model[[(8, 1, 2), (2, 0, 2, 0), 'ct']] 1941.655\n",
            "done\n",
            "[(8, 1, 1), (2, 0, 2, 0), 't'] 1528.8114295261576\n",
            "[(8, 0, 1), (2, 0, 2, 0), 'n'] 1574.7495202968357\n",
            "[(8, 0, 2), (2, 0, 2, 0), 'ct'] 1580.152443181548\n"
          ],
          "name": "stdout"
        }
      ]
    },
    {
      "cell_type": "markdown",
      "metadata": {
        "id": "5yB_mrCfTHSv"
      },
      "source": [
        "Nilai RMSE SARIMA Terbaik [(8, 1, 1), (2, 0, 2, 0), 't'] = 1528.8114295261576.\n",
        "Dataset terdapat trend 't' linear, hal ini terlihat pada grafik plot yang menurun, namun di beberapa titik terakhir mulai berubah keatas.\n",
        "p=8 maka legnya 8, d = 1 karena grafik tidak stationary artinya dibutuhkan 1 agar grafiknya menjadi stationary. q nilai parameter moving averagenya adalah 1."
      ]
    },
    {
      "cell_type": "markdown",
      "metadata": {
        "id": "9limhSxQGTOp"
      },
      "source": [
        "\n",
        "***No. 5***"
      ]
    },
    {
      "cell_type": "markdown",
      "metadata": {
        "id": "DiX5kNWZGWk2"
      },
      "source": [
        "Nilai RMSE ARIMA (p=8, q=1, d=1) terbaik : 2433.305403561172. \n",
        "Nilai RMSE SARIMA [(8, 1, 1), (2, 0, 2, 0), 't'] terbaik  : 1528.8114295261576\n",
        "\n",
        "Dari dataset sales, disimpulkan nilai rmse sarima lebih baik dibandingkan arima. Hal ini disebabkan karena dataset sales, terdapat trend (linear) sehingga lebih cocok menggunakan algoritma SARIMA"
      ]
    }
  ]
}